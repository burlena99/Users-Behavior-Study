{
 "cells": [
  {
   "cell_type": "markdown",
   "metadata": {
    "toc": true
   },
   "source": [
    "<h1>Table of Contents<span class=\"tocSkip\"></span></h1>\n",
    "<div class=\"toc\"><ul class=\"toc-item\"><li><span><a href=\"#Mobile-Service-Provider:-Analysis-of-User-Behavior\" data-toc-modified-id=\"Mobile-Service-Provider:-Analysis-of-User-Behavior-1\"><span class=\"toc-item-num\">1&nbsp;&nbsp;</span>Mobile Service Provider: Analysis of User Behavior</a></span><ul class=\"toc-item\"><li><span><a href=\"#Description-of-the-data\" data-toc-modified-id=\"Description-of-the-data-1.1\"><span class=\"toc-item-num\">1.1&nbsp;&nbsp;</span>Description of the data</a></span></li><li><span><a href=\"#Data-Exploration\" data-toc-modified-id=\"Data-Exploration-1.2\"><span class=\"toc-item-num\">1.2&nbsp;&nbsp;</span>Data Exploration</a></span></li><li><span><a href=\"#Data-Enriching\" data-toc-modified-id=\"Data-Enriching-1.3\"><span class=\"toc-item-num\">1.3&nbsp;&nbsp;</span>Data Enriching</a></span></li><li><span><a href=\"#Data-Consolidation\" data-toc-modified-id=\"Data-Consolidation-1.4\"><span class=\"toc-item-num\">1.4&nbsp;&nbsp;</span>Data Consolidation</a></span></li><li><span><a href=\"#Plans-Cost-Calculation\" data-toc-modified-id=\"Plans-Cost-Calculation-1.5\"><span class=\"toc-item-num\">1.5&nbsp;&nbsp;</span>Plans Cost Calculation</a></span></li><li><span><a href=\"#Users'-behavior\" data-toc-modified-id=\"Users'-behavior-1.6\"><span class=\"toc-item-num\">1.6&nbsp;&nbsp;</span>Users' behavior</a></span><ul class=\"toc-item\"><li><span><a href=\"#Calls\" data-toc-modified-id=\"Calls-1.6.1\"><span class=\"toc-item-num\">1.6.1&nbsp;&nbsp;</span>Calls</a></span></li><li><span><a href=\"#Messages\" data-toc-modified-id=\"Messages-1.6.2\"><span class=\"toc-item-num\">1.6.2&nbsp;&nbsp;</span>Messages</a></span></li><li><span><a href=\"#Internet\" data-toc-modified-id=\"Internet-1.6.3\"><span class=\"toc-item-num\">1.6.3&nbsp;&nbsp;</span>Internet</a></span></li><li><span><a href=\"#Revenue\" data-toc-modified-id=\"Revenue-1.6.4\"><span class=\"toc-item-num\">1.6.4&nbsp;&nbsp;</span>Revenue</a></span></li></ul></li><li><span><a href=\"#Test-statistical-hypotheses\" data-toc-modified-id=\"Test-statistical-hypotheses-1.7\"><span class=\"toc-item-num\">1.7&nbsp;&nbsp;</span>Test statistical hypotheses</a></span><ul class=\"toc-item\"><li><span><a href=\"#Hypothesis-1---Average-revenue-from-users-using-Ultimate-and-Surf-plans-differs\" data-toc-modified-id=\"Hypothesis-1---Average-revenue-from-users-using-Ultimate-and-Surf-plans-differs-1.7.1\"><span class=\"toc-item-num\">1.7.1&nbsp;&nbsp;</span>Hypothesis 1 - Average revenue from users using Ultimate and Surf plans differs</a></span></li><li><span><a href=\"#Hypothesis-2----Average-revenue-from-users-in-the-NY-NJ-area-is-different-from-that-of-the-users-from-the-other-regions.\" data-toc-modified-id=\"Hypothesis-2----Average-revenue-from-users-in-the-NY-NJ-area-is-different-from-that-of-the-users-from-the-other-regions.-1.7.2\"><span class=\"toc-item-num\">1.7.2&nbsp;&nbsp;</span>Hypothesis 2  - Average revenue from users in the NY-NJ area is different from that of the users from the other regions.</a></span></li></ul></li><li><span><a href=\"#General-conclusions\" data-toc-modified-id=\"General-conclusions-1.8\"><span class=\"toc-item-num\">1.8&nbsp;&nbsp;</span>General conclusions</a></span></li></ul></li></ul></div>"
   ]
  },
  {
   "cell_type": "markdown",
   "metadata": {},
   "source": [
    "# Mobile Service Provider: Analysis of User Behavior\n",
    "\n",
    "<div class=\"alert alert-info\"> <b>Project Description</b> \n",
    "\n",
    "The Mobile Service Provider operates implements two distinct prepaid plans: Surf and Ultimate. Our goal, as Data Analysts, to comprehensively examine user behavior to verify which plan yields higher revenue and aligns better with the company's budgetary considerations.\n",
    "\n",
    "The preliminary analysis is based on collected data from a sample of 500 clients, who have opted for either the Surf or Ultimate prepaid plans, to delineate which of the two plans holds greater potential for profitability.\n",
    "\n",
    "Our insights should unveil the revenue-generation capabilities of each plan and, also offer recommendations for optimizing budget allocation to Mobile Service Provider. </div>"
   ]
  },
  {
   "cell_type": "markdown",
   "metadata": {},
   "source": [
    "## Description of the data\n",
    "\n",
    "- Seconds should be rounded up to minutes\n",
    "- Megabytes should be rouneded to to gigabytes\n",
    "- Call is rounded up as following: even if the call lasted just one second, it will be counted as one minute. \n",
    "\n",
    "Web traffic is not rounded up for individual web sessions. Instead, the total for the month is rounded up. If someone uses 1025 megabytes this month, they will be charged for 2 gigabytes.\n",
    "\n",
    "**The users table (data on users):**\n",
    "\n",
    "- user_id — unique user identifier\n",
    "- first_name — user's name\n",
    "- last_name — user's last name\n",
    "- age — user's age (years)\n",
    "- reg_date — subscription date (dd, mm, yy)\n",
    "- churn_date — the date the user stopped using the service (if the value is missing, the calling plan was being used when this database was extracted)\n",
    "- city — user's city of residence\n",
    "- plan — calling plan name\n",
    "\n",
    "**The calls table (data on calls):**\n",
    "\n",
    "- id — unique call identifier\n",
    "- call_date — call date\n",
    "- duration — call duration (in minutes)\n",
    "- user_id — the identifier of the user making the call\n",
    "\n",
    "\n",
    "**The messages table (data on texts):**\n",
    "\n",
    "- id — unique text message identifier\n",
    "- message_date — text message date\n",
    "- user_id — the identifier of the user sending the text\n",
    "\n",
    "\n",
    "**The internet table (data on web sessions):**\n",
    "\n",
    "- id — unique session identifier\n",
    "- mb_used — the volume of data spent during the session (in megabytes)\n",
    "- session_date — web session date\n",
    "- user_id — user identifier\n",
    "\n",
    "\n",
    "**The plans table (data on the plans):**\n",
    "\n",
    "- plan_name — calling plan name\n",
    "- usd_monthly_fee — monthly charge in US dollars\n",
    "- minutes_included — monthly minute allowance\n",
    "- messages_included — monthly text allowance\n",
    "- mb_per_month_included — data volume allowance (in megabytes)\n",
    "- usd_per_minute — price per minute after exceeding the package limits (e.g., if the package includes 100 minutes, the 101st minute will be charged)\n",
    "- usd_per_message — price per text after exceeding the package limits\n",
    "- usd_per_gb — price per extra gigabyte of data after exceeding the package limits (1 GB = 1024 megabytes)\n",
    "\n",
    "\n",
    "**Surf** - Monthly charge: USD20\n",
    "\n",
    "- 500 monthly minutes, 50 texts, and 15 GB of data\n",
    "- After exceeding the package limits:\n",
    "- 1 minute: 3 cents\n",
    "- 1 text message: 3 cents\n",
    "- 1 GB of data: 10USD\n",
    "\n",
    "**Surf** - Monthly charge: USD70\n",
    "\n",
    "- 3000 monthly minutes, 1000 text messages, and 30 GB of data\n",
    "- After exceeding the package limits:\n",
    "- 1 minute: 1 cent\n",
    "- 1 text message: 1 cent\n",
    "- 1 GB of data: 7USD"
   ]
  },
  {
   "cell_type": "markdown",
   "metadata": {},
   "source": [
    "**Libraries Download**"
   ]
  },
  {
   "cell_type": "code",
   "execution_count": 139,
   "metadata": {},
   "outputs": [],
   "source": [
    "# Sidetable importing\n",
    "!pip -qq install sidetable"
   ]
  },
  {
   "cell_type": "code",
   "execution_count": 140,
   "metadata": {},
   "outputs": [
    {
     "name": "stdout",
     "output_type": "stream",
     "text": [
      "All required libraries has been downloaded successfully \n"
     ]
    }
   ],
   "source": [
    "# Loading all the libraries\n",
    "\n",
    "import pandas as pd \n",
    "import numpy as np\n",
    "import sidetable as stb\n",
    "\n",
    "## for statistical analysis\n",
    "import scipy.stats as stats\n",
    "import math as mt\n",
    "from math import factorial\n",
    "from scipy.stats import norm\n",
    "\n",
    "# for statistical data visualization\n",
    "import seaborn as sns\n",
    "from matplotlib import pyplot as plt\n",
    "import matplotlib.colors as mcolors\n",
    "import plotly.express as px\n",
    "import plotly.graph_objects as go  \n",
    "\n",
    "# for date and time transformation\n",
    "from datetime import datetime\n",
    "print('All required libraries has been downloaded successfully ')\n"
   ]
  },
  {
   "cell_type": "markdown",
   "metadata": {},
   "source": [
    "**Load data**"
   ]
  },
  {
   "cell_type": "code",
   "execution_count": 141,
   "metadata": {},
   "outputs": [
    {
     "name": "stdout",
     "output_type": "stream",
     "text": [
      "Data has been loaded correctly\n"
     ]
    }
   ],
   "source": [
    "# Load the data file into different DataFrames\n",
    "calls = pd.read_csv('/datasets/megaline_calls.csv') \n",
    "internet = pd.read_csv('/datasets/megaline_internet.csv') \n",
    "messages = pd.read_csv('/datasets/megaline_messages.csv') \n",
    "plans = pd.read_csv('/datasets/megaline_plans.csv')  \n",
    "users = pd.read_csv('/datasets/megaline_users.csv') \n",
    "\n",
    "print('Data has been loaded correctly')"
   ]
  },
  {
   "cell_type": "markdown",
   "metadata": {},
   "source": [
    "## Data Exploration"
   ]
  },
  {
   "cell_type": "markdown",
   "metadata": {},
   "source": [
    "<div class=\"alert alert-info\"> <b> Data Preparation </b>  \n",
    "    \n",
    "Inspecting the loaded dataframes using different methods  </div>"
   ]
  },
  {
   "cell_type": "code",
   "execution_count": 142,
   "metadata": {
    "scrolled": false
   },
   "outputs": [
    {
     "name": "stdout",
     "output_type": "stream",
     "text": [
      "Exploring dataset: calls\n",
      "----------------------------------------\n",
      "Head of calls:\n",
      "         id  user_id   call_date  duration\n",
      "0   1000_93     1000  2018-12-27      8.52\n",
      "1  1000_145     1000  2018-12-27     13.66\n",
      "2  1000_247     1000  2018-12-27     14.48\n",
      "3  1000_309     1000  2018-12-28      5.76\n",
      "4  1000_380     1000  2018-12-30      4.22\n",
      "----------------------------------------\n",
      "Tail of calls:\n",
      "              id  user_id   call_date  duration\n",
      "137730  1499_199     1499  2018-11-21      8.72\n",
      "137731  1499_200     1499  2018-10-20     10.89\n",
      "137732  1499_201     1499  2018-09-21      8.12\n",
      "137733  1499_202     1499  2018-10-10      0.37\n",
      "137734  1499_203     1499  2018-12-29     13.86\n",
      "----------------------------------------\n",
      "Shape of calls: (137735, 4)\n",
      "----------------------------------------\n",
      "Info of calls:\n",
      "<class 'pandas.core.frame.DataFrame'>\n",
      "RangeIndex: 137735 entries, 0 to 137734\n",
      "Data columns (total 4 columns):\n",
      " #   Column     Non-Null Count   Dtype  \n",
      "---  ------     --------------   -----  \n",
      " 0   id         137735 non-null  object \n",
      " 1   user_id    137735 non-null  int64  \n",
      " 2   call_date  137735 non-null  object \n",
      " 3   duration   137735 non-null  float64\n",
      "dtypes: float64(1), int64(1), object(2)\n",
      "memory usage: 4.2+ MB\n",
      "None\n",
      "----------------------------------------\n",
      "Describe of calls:\n",
      "             user_id       duration\n",
      "count  137735.000000  137735.000000\n",
      "mean     1247.658046       6.745927\n",
      "std       139.416268       5.839241\n",
      "min      1000.000000       0.000000\n",
      "25%      1128.000000       1.290000\n",
      "50%      1247.000000       5.980000\n",
      "75%      1365.000000      10.690000\n",
      "max      1499.000000      37.600000\n",
      "----------------------------------------\n",
      "Missing data percentage in calls:\n",
      "id           0.0\n",
      "user_id      0.0\n",
      "call_date    0.0\n",
      "duration     0.0\n",
      "dtype: float64\n",
      "----------------------------------------\n",
      "Duplicated values in calls: 0\n",
      "========================================\n",
      "Exploring dataset: internet\n",
      "----------------------------------------\n",
      "Head of internet:\n",
      "         id  user_id session_date  mb_used\n",
      "0   1000_13     1000   2018-12-29    89.86\n",
      "1  1000_204     1000   2018-12-31     0.00\n",
      "2  1000_379     1000   2018-12-28   660.40\n",
      "3  1000_413     1000   2018-12-26   270.99\n",
      "4  1000_442     1000   2018-12-27   880.22\n",
      "----------------------------------------\n",
      "Tail of internet:\n",
      "              id  user_id session_date  mb_used\n",
      "104820  1499_215     1499   2018-10-20   218.06\n",
      "104821  1499_216     1499   2018-12-30   304.72\n",
      "104822  1499_217     1499   2018-09-22   292.75\n",
      "104823  1499_218     1499   2018-12-07     0.00\n",
      "104824  1499_219     1499   2018-12-24   758.31\n",
      "----------------------------------------\n",
      "Shape of internet: (104825, 4)\n",
      "----------------------------------------\n",
      "Info of internet:\n",
      "<class 'pandas.core.frame.DataFrame'>\n",
      "RangeIndex: 104825 entries, 0 to 104824\n",
      "Data columns (total 4 columns):\n",
      " #   Column        Non-Null Count   Dtype  \n",
      "---  ------        --------------   -----  \n",
      " 0   id            104825 non-null  object \n",
      " 1   user_id       104825 non-null  int64  \n",
      " 2   session_date  104825 non-null  object \n",
      " 3   mb_used       104825 non-null  float64\n",
      "dtypes: float64(1), int64(1), object(2)\n",
      "memory usage: 3.2+ MB\n",
      "None\n",
      "----------------------------------------\n",
      "Describe of internet:\n",
      "             user_id        mb_used\n",
      "count  104825.000000  104825.000000\n",
      "mean     1242.496361     366.713701\n",
      "std       142.053913     277.170542\n",
      "min      1000.000000       0.000000\n",
      "25%      1122.000000     136.080000\n",
      "50%      1236.000000     343.980000\n",
      "75%      1367.000000     554.610000\n",
      "max      1499.000000    1693.470000\n",
      "----------------------------------------\n",
      "Missing data percentage in internet:\n",
      "id              0.0\n",
      "user_id         0.0\n",
      "session_date    0.0\n",
      "mb_used         0.0\n",
      "dtype: float64\n",
      "----------------------------------------\n",
      "Duplicated values in internet: 0\n",
      "========================================\n",
      "Exploring dataset: messages\n",
      "----------------------------------------\n",
      "Head of messages:\n",
      "         id  user_id message_date\n",
      "0  1000_125     1000   2018-12-27\n",
      "1  1000_160     1000   2018-12-31\n",
      "2  1000_223     1000   2018-12-31\n",
      "3  1000_251     1000   2018-12-27\n",
      "4  1000_255     1000   2018-12-26\n",
      "----------------------------------------\n",
      "Tail of messages:\n",
      "             id  user_id message_date\n",
      "76046  1497_526     1497   2018-12-24\n",
      "76047  1497_536     1497   2018-12-24\n",
      "76048  1497_547     1497   2018-12-31\n",
      "76049  1497_558     1497   2018-12-24\n",
      "76050  1497_613     1497   2018-12-23\n",
      "----------------------------------------\n",
      "Shape of messages: (76051, 3)\n",
      "----------------------------------------\n",
      "Info of messages:\n",
      "<class 'pandas.core.frame.DataFrame'>\n",
      "RangeIndex: 76051 entries, 0 to 76050\n",
      "Data columns (total 3 columns):\n",
      " #   Column        Non-Null Count  Dtype \n",
      "---  ------        --------------  ----- \n",
      " 0   id            76051 non-null  object\n",
      " 1   user_id       76051 non-null  int64 \n",
      " 2   message_date  76051 non-null  object\n",
      "dtypes: int64(1), object(2)\n",
      "memory usage: 1.7+ MB\n",
      "None\n",
      "----------------------------------------\n",
      "Describe of messages:\n",
      "            user_id\n",
      "count  76051.000000\n",
      "mean    1245.972768\n",
      "std      139.843635\n",
      "min     1000.000000\n",
      "25%     1123.000000\n",
      "50%     1251.000000\n",
      "75%     1362.000000\n",
      "max     1497.000000\n",
      "----------------------------------------\n",
      "Missing data percentage in messages:\n",
      "id              0.0\n",
      "user_id         0.0\n",
      "message_date    0.0\n",
      "dtype: float64\n",
      "----------------------------------------\n",
      "Duplicated values in messages: 0\n",
      "========================================\n",
      "Exploring dataset: plans\n",
      "----------------------------------------\n",
      "Head of plans:\n",
      "   messages_included  mb_per_month_included  minutes_included  \\\n",
      "0                 50                  15360               500   \n",
      "1               1000                  30720              3000   \n",
      "\n",
      "   usd_monthly_pay  usd_per_gb  usd_per_message  usd_per_minute plan_name  \n",
      "0               20          10             0.03            0.03      surf  \n",
      "1               70           7             0.01            0.01  ultimate  \n",
      "----------------------------------------\n",
      "Tail of plans:\n",
      "   messages_included  mb_per_month_included  minutes_included  \\\n",
      "0                 50                  15360               500   \n",
      "1               1000                  30720              3000   \n",
      "\n",
      "   usd_monthly_pay  usd_per_gb  usd_per_message  usd_per_minute plan_name  \n",
      "0               20          10             0.03            0.03      surf  \n",
      "1               70           7             0.01            0.01  ultimate  \n",
      "----------------------------------------\n",
      "Shape of plans: (2, 8)\n",
      "----------------------------------------\n",
      "Info of plans:\n",
      "<class 'pandas.core.frame.DataFrame'>\n",
      "RangeIndex: 2 entries, 0 to 1\n",
      "Data columns (total 8 columns):\n",
      " #   Column                 Non-Null Count  Dtype  \n",
      "---  ------                 --------------  -----  \n",
      " 0   messages_included      2 non-null      int64  \n",
      " 1   mb_per_month_included  2 non-null      int64  \n",
      " 2   minutes_included       2 non-null      int64  \n",
      " 3   usd_monthly_pay        2 non-null      int64  \n",
      " 4   usd_per_gb             2 non-null      int64  \n",
      " 5   usd_per_message        2 non-null      float64\n",
      " 6   usd_per_minute         2 non-null      float64\n",
      " 7   plan_name              2 non-null      object \n",
      "dtypes: float64(2), int64(5), object(1)\n",
      "memory usage: 256.0+ bytes\n",
      "None\n",
      "----------------------------------------\n",
      "Describe of plans:\n",
      "       messages_included  mb_per_month_included  minutes_included  \\\n",
      "count           2.000000               2.000000          2.000000   \n",
      "mean          525.000000           23040.000000       1750.000000   \n",
      "std           671.751442           10861.160159       1767.766953   \n",
      "min            50.000000           15360.000000        500.000000   \n",
      "25%           287.500000           19200.000000       1125.000000   \n",
      "50%           525.000000           23040.000000       1750.000000   \n",
      "75%           762.500000           26880.000000       2375.000000   \n",
      "max          1000.000000           30720.000000       3000.000000   \n",
      "\n",
      "       usd_monthly_pay  usd_per_gb  usd_per_message  usd_per_minute  \n",
      "count         2.000000     2.00000         2.000000        2.000000  \n",
      "mean         45.000000     8.50000         0.020000        0.020000  \n",
      "std          35.355339     2.12132         0.014142        0.014142  \n",
      "min          20.000000     7.00000         0.010000        0.010000  \n",
      "25%          32.500000     7.75000         0.015000        0.015000  \n",
      "50%          45.000000     8.50000         0.020000        0.020000  \n",
      "75%          57.500000     9.25000         0.025000        0.025000  \n",
      "max          70.000000    10.00000         0.030000        0.030000  \n",
      "----------------------------------------\n",
      "Missing data percentage in plans:\n",
      "messages_included        0.0\n",
      "mb_per_month_included    0.0\n",
      "minutes_included         0.0\n",
      "usd_monthly_pay          0.0\n",
      "usd_per_gb               0.0\n",
      "usd_per_message          0.0\n",
      "usd_per_minute           0.0\n",
      "plan_name                0.0\n",
      "dtype: float64\n",
      "----------------------------------------\n",
      "Duplicated values in plans: 0\n",
      "========================================\n",
      "Exploring dataset: users\n",
      "----------------------------------------\n",
      "Head of users:\n",
      "   user_id first_name  last_name  age                                   city  \\\n",
      "0     1000   Anamaria      Bauer   45  Atlanta-Sandy Springs-Roswell, GA MSA   \n",
      "1     1001     Mickey  Wilkerson   28        Seattle-Tacoma-Bellevue, WA MSA   \n",
      "2     1002     Carlee    Hoffman   36   Las Vegas-Henderson-Paradise, NV MSA   \n",
      "3     1003   Reynaldo    Jenkins   52                          Tulsa, OK MSA   \n",
      "4     1004    Leonila   Thompson   40        Seattle-Tacoma-Bellevue, WA MSA   \n",
      "\n",
      "     reg_date      plan churn_date  \n",
      "0  2018-12-24  ultimate        NaN  \n",
      "1  2018-08-13      surf        NaN  \n",
      "2  2018-10-21      surf        NaN  \n",
      "3  2018-01-28      surf        NaN  \n",
      "4  2018-05-23      surf        NaN  \n",
      "----------------------------------------\n",
      "Tail of users:\n",
      "     user_id first_name   last_name  age  \\\n",
      "495     1495      Fidel      Sharpe   67   \n",
      "496     1496      Ariel    Shepherd   49   \n",
      "497     1497      Donte     Barrera   49   \n",
      "498     1498       Scot  Williamson   51   \n",
      "499     1499      Shena     Dickson   37   \n",
      "\n",
      "                                          city    reg_date      plan  \\\n",
      "495  New York-Newark-Jersey City, NY-NJ-PA MSA  2018-09-04      surf   \n",
      "496               New Orleans-Metairie, LA MSA  2018-02-20      surf   \n",
      "497     Los Angeles-Long Beach-Anaheim, CA MSA  2018-12-10  ultimate   \n",
      "498  New York-Newark-Jersey City, NY-NJ-PA MSA  2018-02-04      surf   \n",
      "499          Orlando-Kissimmee-Sanford, FL MSA  2018-05-06      surf   \n",
      "\n",
      "    churn_date  \n",
      "495        NaN  \n",
      "496        NaN  \n",
      "497        NaN  \n",
      "498        NaN  \n",
      "499        NaN  \n",
      "----------------------------------------\n",
      "Shape of users: (500, 8)\n",
      "----------------------------------------\n",
      "Info of users:\n",
      "<class 'pandas.core.frame.DataFrame'>\n",
      "RangeIndex: 500 entries, 0 to 499\n",
      "Data columns (total 8 columns):\n",
      " #   Column      Non-Null Count  Dtype \n",
      "---  ------      --------------  ----- \n",
      " 0   user_id     500 non-null    int64 \n",
      " 1   first_name  500 non-null    object\n",
      " 2   last_name   500 non-null    object\n",
      " 3   age         500 non-null    int64 \n",
      " 4   city        500 non-null    object\n",
      " 5   reg_date    500 non-null    object\n",
      " 6   plan        500 non-null    object\n",
      " 7   churn_date  34 non-null     object\n",
      "dtypes: int64(2), object(6)\n",
      "memory usage: 31.4+ KB\n",
      "None\n",
      "----------------------------------------\n",
      "Describe of users:\n",
      "           user_id         age\n",
      "count   500.000000  500.000000\n",
      "mean   1249.500000   45.486000\n",
      "std     144.481833   16.972269\n",
      "min    1000.000000   18.000000\n",
      "25%    1124.750000   30.000000\n",
      "50%    1249.500000   46.000000\n",
      "75%    1374.250000   61.000000\n",
      "max    1499.000000   75.000000\n",
      "----------------------------------------\n",
      "Missing data percentage in users:\n",
      "user_id        0.0\n",
      "first_name     0.0\n",
      "last_name      0.0\n",
      "age            0.0\n",
      "city           0.0\n",
      "reg_date       0.0\n",
      "plan           0.0\n",
      "churn_date    93.2\n",
      "dtype: float64\n",
      "----------------------------------------\n",
      "Duplicated values in users: 0\n",
      "========================================\n"
     ]
    }
   ],
   "source": [
    "import pandas as pd\n",
    "\n",
    "def explore_datasets(datasets):\n",
    "    for dataset_name, dataset in datasets.items():\n",
    "        print(f\"Exploring dataset: {dataset_name}\")\n",
    "        print(\"-\" * 40)\n",
    "        \n",
    "        # Display the first few rows\n",
    "        print(f\"Head of {dataset_name}:\")\n",
    "        print(dataset.head())\n",
    "        print(\"-\" * 40)\n",
    "        \n",
    "        # Display the last few rows\n",
    "        print(f\"Tail of {dataset_name}:\")\n",
    "        print(dataset.tail())\n",
    "        print(\"-\" * 40)\n",
    "        \n",
    "        # Display the shape (rows, columns)\n",
    "        print(f\"Shape of {dataset_name}: {dataset.shape}\")\n",
    "        print(\"-\" * 40)\n",
    "        \n",
    "        # Display basic info about the dataset\n",
    "        print(f\"Info of {dataset_name}:\")\n",
    "        print(dataset.info())\n",
    "        print(\"-\" * 40)\n",
    "        \n",
    "        # Display summary statistics\n",
    "        print(f\"Describe of {dataset_name}:\")\n",
    "        print(dataset.describe())\n",
    "        print(\"-\" * 40)\n",
    "        \n",
    "        # Calculate missing data percentage per column\n",
    "        missing_percent = (dataset.isnull().sum() / len(dataset)) * 100\n",
    "        print(f\"Missing data percentage in {dataset_name}:\\n{missing_percent}\")\n",
    "        print(\"-\" * 40)\n",
    "        \n",
    "        # Calculate duplicated values\n",
    "        duplicated_count = dataset.duplicated().sum()\n",
    "        print(f\"Duplicated values in {dataset_name}: {duplicated_count}\")\n",
    "        print(\"=\" * 40)\n",
    "\n",
    "# Load the data files into different DataFrames\n",
    "calls = pd.read_csv('/datasets/megaline_calls.csv') \n",
    "internet = pd.read_csv('/datasets/megaline_internet.csv') \n",
    "messages = pd.read_csv('/datasets/megaline_messages.csv') \n",
    "plans = pd.read_csv('/datasets/megaline_plans.csv')  \n",
    "users = pd.read_csv('/datasets/megaline_users.csv') \n",
    "\n",
    "# Create a dictionary of datasets\n",
    "datasets = {\n",
    "    'calls': calls,\n",
    "    'internet': internet,\n",
    "    'messages': messages,\n",
    "    'plans': plans,\n",
    "    'users': users\n",
    "}\n",
    "\n",
    "# Call the custom exploration function\n",
    "explore_datasets(datasets)"
   ]
  },
  {
   "cell_type": "markdown",
   "metadata": {},
   "source": [
    "<div class=\"alert alert-info\"> <b> Comments: First Conclusions after data exploration </b>  \n",
    "  \n",
    "A comprehensive analysis of each dataset provided us valuable insights. Here are some thoughts based on the information we got:\n",
    "\n",
    "**Calls DataFrame:**\n",
    "- The average call duration of around 6-7 minutes seems reasonable.\n",
    "- Changing the call durations that are less than 1 minute to 1 minute is a sensible approach.\n",
    "- Converting the call_date to datetime format is important for accurate time-based analysis.\n",
    "\n",
    "**Internet DataFrame:**\n",
    "- It's a good idea to round up mb_used to the nearest integer since that's the company policy.\n",
    "- The mean and median values for data usage don't have significant differences, indicating relatively stable data consumption  \n",
    "  patterns.\n",
    "\n",
    "**Messages DataFrame:**\n",
    "- Both mean and median for messages are quite close, indicating a balanced distribution of messaging activity.\n",
    "\n",
    "**Plans DataFrame:**\n",
    "- The description of the plans and their pricing structure is clear and informative.\n",
    "- The fact that \"Surf\" plan offers moderate conditions at a lower price, while the \"Ultimate\" plan provides unlimited services \n",
    "  at a higher cost, aligns with common pricing strategies.\n",
    "\n",
    "**Users DataFrame:**\n",
    "- The observation about the high percentage of missing values in the churn_date column is important. We need to handle  \n",
    "  missing data when analyzing churn.\n",
    "- Changing data types to datetime and integer formats is a necessary step for accurate analysis.\n",
    "- The age distribution seems fairly spread out, ranging from 18 to 75 years old.\n",
    "\n",
    "**Overall:**\n",
    "- The absence of duplicated data is a positive sign.\n",
    "- We need to clean data, to check data types, to address mass missing values for accurate and meaningful analysis.\n",
    "</div>"
   ]
  },
  {
   "cell_type": "markdown",
   "metadata": {},
   "source": [
    " "
   ]
  },
  {
   "cell_type": "markdown",
   "metadata": {},
   "source": [
    "## Data Enriching"
   ]
  },
  {
   "cell_type": "markdown",
   "metadata": {},
   "source": [
    "It seems logical to enrich the users dataset by adding a new column 'status' , which can provide valuable information about whether a user is active or non-active based on the presence or absence of a value in the churn_date column."
   ]
  },
  {
   "cell_type": "code",
   "execution_count": 143,
   "metadata": {},
   "outputs": [
    {
     "data": {
      "text/html": [
       "<div>\n",
       "<style scoped>\n",
       "    .dataframe tbody tr th:only-of-type {\n",
       "        vertical-align: middle;\n",
       "    }\n",
       "\n",
       "    .dataframe tbody tr th {\n",
       "        vertical-align: top;\n",
       "    }\n",
       "\n",
       "    .dataframe thead th {\n",
       "        text-align: right;\n",
       "    }\n",
       "</style>\n",
       "<table border=\"1\" class=\"dataframe\">\n",
       "  <thead>\n",
       "    <tr style=\"text-align: right;\">\n",
       "      <th></th>\n",
       "      <th>user_id</th>\n",
       "      <th>first_name</th>\n",
       "      <th>last_name</th>\n",
       "      <th>age</th>\n",
       "      <th>city</th>\n",
       "      <th>reg_date</th>\n",
       "      <th>plan</th>\n",
       "      <th>churn_date</th>\n",
       "    </tr>\n",
       "  </thead>\n",
       "  <tbody>\n",
       "    <tr>\n",
       "      <th>0</th>\n",
       "      <td>1000</td>\n",
       "      <td>Anamaria</td>\n",
       "      <td>Bauer</td>\n",
       "      <td>45</td>\n",
       "      <td>Atlanta-Sandy Springs-Roswell, GA MSA</td>\n",
       "      <td>2018-12-24</td>\n",
       "      <td>ultimate</td>\n",
       "      <td>NaN</td>\n",
       "    </tr>\n",
       "    <tr>\n",
       "      <th>1</th>\n",
       "      <td>1001</td>\n",
       "      <td>Mickey</td>\n",
       "      <td>Wilkerson</td>\n",
       "      <td>28</td>\n",
       "      <td>Seattle-Tacoma-Bellevue, WA MSA</td>\n",
       "      <td>2018-08-13</td>\n",
       "      <td>surf</td>\n",
       "      <td>NaN</td>\n",
       "    </tr>\n",
       "  </tbody>\n",
       "</table>\n",
       "</div>"
      ],
      "text/plain": [
       "   user_id first_name  last_name  age                                   city  \\\n",
       "0     1000   Anamaria      Bauer   45  Atlanta-Sandy Springs-Roswell, GA MSA   \n",
       "1     1001     Mickey  Wilkerson   28        Seattle-Tacoma-Bellevue, WA MSA   \n",
       "\n",
       "     reg_date      plan churn_date  \n",
       "0  2018-12-24  ultimate        NaN  \n",
       "1  2018-08-13      surf        NaN  "
      ]
     },
     "execution_count": 143,
     "metadata": {},
     "output_type": "execute_result"
    }
   ],
   "source": [
    "users.head(2)"
   ]
  },
  {
   "cell_type": "code",
   "execution_count": 144,
   "metadata": {},
   "outputs": [],
   "source": [
    "#using the numpy.where() function to label selected elements, based on a condition, adding a new column\n",
    "users['status'] = np.where(users['churn_date'].isnull(), 'non_active', 'active')"
   ]
  },
  {
   "cell_type": "code",
   "execution_count": 145,
   "metadata": {},
   "outputs": [
    {
     "data": {
      "text/html": [
       "<div>\n",
       "<style scoped>\n",
       "    .dataframe tbody tr th:only-of-type {\n",
       "        vertical-align: middle;\n",
       "    }\n",
       "\n",
       "    .dataframe tbody tr th {\n",
       "        vertical-align: top;\n",
       "    }\n",
       "\n",
       "    .dataframe thead th {\n",
       "        text-align: right;\n",
       "    }\n",
       "</style>\n",
       "<table border=\"1\" class=\"dataframe\">\n",
       "  <thead>\n",
       "    <tr style=\"text-align: right;\">\n",
       "      <th></th>\n",
       "      <th>user_id</th>\n",
       "      <th>first_name</th>\n",
       "      <th>last_name</th>\n",
       "      <th>age</th>\n",
       "      <th>city</th>\n",
       "      <th>reg_date</th>\n",
       "      <th>plan</th>\n",
       "      <th>churn_date</th>\n",
       "      <th>status</th>\n",
       "    </tr>\n",
       "  </thead>\n",
       "  <tbody>\n",
       "    <tr>\n",
       "      <th>0</th>\n",
       "      <td>1000</td>\n",
       "      <td>Anamaria</td>\n",
       "      <td>Bauer</td>\n",
       "      <td>45</td>\n",
       "      <td>Atlanta-Sandy Springs-Roswell, GA MSA</td>\n",
       "      <td>2018-12-24</td>\n",
       "      <td>ultimate</td>\n",
       "      <td>NaN</td>\n",
       "      <td>non_active</td>\n",
       "    </tr>\n",
       "    <tr>\n",
       "      <th>1</th>\n",
       "      <td>1001</td>\n",
       "      <td>Mickey</td>\n",
       "      <td>Wilkerson</td>\n",
       "      <td>28</td>\n",
       "      <td>Seattle-Tacoma-Bellevue, WA MSA</td>\n",
       "      <td>2018-08-13</td>\n",
       "      <td>surf</td>\n",
       "      <td>NaN</td>\n",
       "      <td>non_active</td>\n",
       "    </tr>\n",
       "  </tbody>\n",
       "</table>\n",
       "</div>"
      ],
      "text/plain": [
       "   user_id first_name  last_name  age                                   city  \\\n",
       "0     1000   Anamaria      Bauer   45  Atlanta-Sandy Springs-Roswell, GA MSA   \n",
       "1     1001     Mickey  Wilkerson   28        Seattle-Tacoma-Bellevue, WA MSA   \n",
       "\n",
       "     reg_date      plan churn_date      status  \n",
       "0  2018-12-24  ultimate        NaN  non_active  \n",
       "1  2018-08-13      surf        NaN  non_active  "
      ]
     },
     "execution_count": 145,
     "metadata": {},
     "output_type": "execute_result"
    }
   ],
   "source": [
    "#looking on first ten rows \n",
    "users.head(2)"
   ]
  },
  {
   "cell_type": "code",
   "execution_count": 146,
   "metadata": {},
   "outputs": [],
   "source": [
    "# Convert reg_date and churn_date to datetime format\n",
    "users['reg_date'] = pd.to_datetime(users['reg_date'], format='%Y/%m/%d')\n",
    "users['churn_date'] = pd.to_datetime(users['churn_date'], format='%Y/%m/%d')"
   ]
  },
  {
   "cell_type": "code",
   "execution_count": 147,
   "metadata": {},
   "outputs": [],
   "source": [
    "# Rename the original 'city' column to 'area'\n",
    "users.rename(columns={'city': 'area'}, inplace=True)\n",
    "\n",
    "# Convert the 'area' column to string data type\n",
    "users['area'] = users['area'].astype(str)"
   ]
  },
  {
   "cell_type": "code",
   "execution_count": 148,
   "metadata": {},
   "outputs": [],
   "source": [
    "import re\n",
    "# Rest of the code remains the same\n",
    "def extract_city_state(city_string):\n",
    "    city_state_match = re.match(r'^(.*?),\\s*(\\w+)\\s*(MSA)?$', city_string)\n",
    "    if city_state_match:\n",
    "        city = city_state_match.group(1).strip()\n",
    "        state = city_state_match.group(2).strip()\n",
    "        return city, state\n",
    "    else:\n",
    "        return None, None\n",
    "\n",
    "# Apply the custom function to the 'area' column\n",
    "users[['city', 'state']] = users['area'].apply(extract_city_state).apply(pd.Series)\n",
    "\n",
    "# Drop the original 'area' column\n",
    "users.drop('area', axis=1, inplace=True)"
   ]
  },
  {
   "cell_type": "code",
   "execution_count": 149,
   "metadata": {},
   "outputs": [
    {
     "data": {
      "text/html": [
       "<div>\n",
       "<style scoped>\n",
       "    .dataframe tbody tr th:only-of-type {\n",
       "        vertical-align: middle;\n",
       "    }\n",
       "\n",
       "    .dataframe tbody tr th {\n",
       "        vertical-align: top;\n",
       "    }\n",
       "\n",
       "    .dataframe thead th {\n",
       "        text-align: right;\n",
       "    }\n",
       "</style>\n",
       "<table border=\"1\" class=\"dataframe\">\n",
       "  <thead>\n",
       "    <tr style=\"text-align: right;\">\n",
       "      <th></th>\n",
       "      <th>user_id</th>\n",
       "      <th>first_name</th>\n",
       "      <th>last_name</th>\n",
       "      <th>age</th>\n",
       "      <th>reg_date</th>\n",
       "      <th>plan</th>\n",
       "      <th>churn_date</th>\n",
       "      <th>status</th>\n",
       "      <th>city</th>\n",
       "      <th>state</th>\n",
       "    </tr>\n",
       "  </thead>\n",
       "  <tbody>\n",
       "    <tr>\n",
       "      <th>0</th>\n",
       "      <td>1000</td>\n",
       "      <td>Anamaria</td>\n",
       "      <td>Bauer</td>\n",
       "      <td>45</td>\n",
       "      <td>2018-12-24</td>\n",
       "      <td>ultimate</td>\n",
       "      <td>NaT</td>\n",
       "      <td>non_active</td>\n",
       "      <td>Atlanta-Sandy Springs-Roswell</td>\n",
       "      <td>GA</td>\n",
       "    </tr>\n",
       "    <tr>\n",
       "      <th>1</th>\n",
       "      <td>1001</td>\n",
       "      <td>Mickey</td>\n",
       "      <td>Wilkerson</td>\n",
       "      <td>28</td>\n",
       "      <td>2018-08-13</td>\n",
       "      <td>surf</td>\n",
       "      <td>NaT</td>\n",
       "      <td>non_active</td>\n",
       "      <td>Seattle-Tacoma-Bellevue</td>\n",
       "      <td>WA</td>\n",
       "    </tr>\n",
       "    <tr>\n",
       "      <th>2</th>\n",
       "      <td>1002</td>\n",
       "      <td>Carlee</td>\n",
       "      <td>Hoffman</td>\n",
       "      <td>36</td>\n",
       "      <td>2018-10-21</td>\n",
       "      <td>surf</td>\n",
       "      <td>NaT</td>\n",
       "      <td>non_active</td>\n",
       "      <td>Las Vegas-Henderson-Paradise</td>\n",
       "      <td>NV</td>\n",
       "    </tr>\n",
       "    <tr>\n",
       "      <th>3</th>\n",
       "      <td>1003</td>\n",
       "      <td>Reynaldo</td>\n",
       "      <td>Jenkins</td>\n",
       "      <td>52</td>\n",
       "      <td>2018-01-28</td>\n",
       "      <td>surf</td>\n",
       "      <td>NaT</td>\n",
       "      <td>non_active</td>\n",
       "      <td>Tulsa</td>\n",
       "      <td>OK</td>\n",
       "    </tr>\n",
       "    <tr>\n",
       "      <th>4</th>\n",
       "      <td>1004</td>\n",
       "      <td>Leonila</td>\n",
       "      <td>Thompson</td>\n",
       "      <td>40</td>\n",
       "      <td>2018-05-23</td>\n",
       "      <td>surf</td>\n",
       "      <td>NaT</td>\n",
       "      <td>non_active</td>\n",
       "      <td>Seattle-Tacoma-Bellevue</td>\n",
       "      <td>WA</td>\n",
       "    </tr>\n",
       "  </tbody>\n",
       "</table>\n",
       "</div>"
      ],
      "text/plain": [
       "   user_id first_name  last_name  age   reg_date      plan churn_date  \\\n",
       "0     1000   Anamaria      Bauer   45 2018-12-24  ultimate        NaT   \n",
       "1     1001     Mickey  Wilkerson   28 2018-08-13      surf        NaT   \n",
       "2     1002     Carlee    Hoffman   36 2018-10-21      surf        NaT   \n",
       "3     1003   Reynaldo    Jenkins   52 2018-01-28      surf        NaT   \n",
       "4     1004    Leonila   Thompson   40 2018-05-23      surf        NaT   \n",
       "\n",
       "       status                           city state  \n",
       "0  non_active  Atlanta-Sandy Springs-Roswell    GA  \n",
       "1  non_active        Seattle-Tacoma-Bellevue    WA  \n",
       "2  non_active   Las Vegas-Henderson-Paradise    NV  \n",
       "3  non_active                          Tulsa    OK  \n",
       "4  non_active        Seattle-Tacoma-Bellevue    WA  "
      ]
     },
     "execution_count": 149,
     "metadata": {},
     "output_type": "execute_result"
    }
   ],
   "source": [
    "users.head()"
   ]
  },
  {
   "cell_type": "code",
   "execution_count": 150,
   "metadata": {},
   "outputs": [
    {
     "data": {
      "text/plain": [
       "churn_date  churn_date\n",
       "2018.0      7.0            1\n",
       "            8.0            2\n",
       "            9.0            4\n",
       "            10.0           4\n",
       "            11.0           9\n",
       "            12.0          14\n",
       "dtype: int64"
      ]
     },
     "execution_count": 150,
     "metadata": {},
     "output_type": "execute_result"
    }
   ],
   "source": [
    "# grouping the data by year and month to see how many users churned in each month and year\n",
    "churn_by_month = users.groupby([users['churn_date'].dt.year, users['churn_date'].dt.month]).size()\n",
    "churn_by_month"
   ]
  },
  {
   "cell_type": "code",
   "execution_count": 151,
   "metadata": {},
   "outputs": [
    {
     "data": {
      "image/png": "[encoded data removed]",
      "text/plain": [
       "<Figure size 432x288 with 1 Axes>"
      ]
     },
     "metadata": {},
     "output_type": "display_data"
    }
   ],
   "source": [
    "plt.figure(figsize=(6, 4)) \n",
    "churn_by_month.plot(kind='bar')\n",
    "plt.title('Monthly Churn Rate')\n",
    "plt.xlabel('Month')\n",
    "plt.ylabel('Churn Rate')\n",
    "plt.xticks(rotation=45)\n",
    "plt.show()"
   ]
  },
  {
   "cell_type": "code",
   "execution_count": 152,
   "metadata": {},
   "outputs": [
    {
     "data": {
      "text/plain": [
       "plan\n",
       "surf        23\n",
       "ultimate    11\n",
       "Name: churn_date, dtype: int64"
      ]
     },
     "execution_count": 152,
     "metadata": {},
     "output_type": "execute_result"
    }
   ],
   "source": [
    "#group the data by the subscription plan to see how many users churned from each plan\n",
    "churn_by_plan = users.groupby('plan')['churn_date'].count()\n",
    "churn_by_plan"
   ]
  },
  {
   "cell_type": "code",
   "execution_count": 153,
   "metadata": {},
   "outputs": [
    {
     "data": {
      "image/png": "[encoded data removed]",
      "text/plain": [
       "<Figure size 432x288 with 1 Axes>"
      ]
     },
     "metadata": {},
     "output_type": "display_data"
    }
   ],
   "source": [
    "plt.figure(figsize=(6, 4)) \n",
    "churn_by_plan.plot(kind='bar')\n",
    "plt.title('Churn Rate by Plan')\n",
    "plt.xlabel('Plan')\n",
    "plt.ylabel('Churn Rate')\n",
    "plt.xticks(rotation=45)\n",
    "plt.show()"
   ]
  },
  {
   "cell_type": "code",
   "execution_count": 154,
   "metadata": {},
   "outputs": [
    {
     "data": {
      "text/html": [
       "<div>\n",
       "<style scoped>\n",
       "    .dataframe tbody tr th:only-of-type {\n",
       "        vertical-align: middle;\n",
       "    }\n",
       "\n",
       "    .dataframe tbody tr th {\n",
       "        vertical-align: top;\n",
       "    }\n",
       "\n",
       "    .dataframe thead th {\n",
       "        text-align: right;\n",
       "    }\n",
       "</style>\n",
       "<table border=\"1\" class=\"dataframe\">\n",
       "  <thead>\n",
       "    <tr style=\"text-align: right;\">\n",
       "      <th>status</th>\n",
       "      <th>active</th>\n",
       "      <th>non_active</th>\n",
       "    </tr>\n",
       "    <tr>\n",
       "      <th>age_group</th>\n",
       "      <th></th>\n",
       "      <th></th>\n",
       "    </tr>\n",
       "  </thead>\n",
       "  <tbody>\n",
       "    <tr>\n",
       "      <th>Middle-aged</th>\n",
       "      <td>0.048193</td>\n",
       "      <td>0.951807</td>\n",
       "    </tr>\n",
       "    <tr>\n",
       "      <th>Senior</th>\n",
       "      <td>0.074766</td>\n",
       "      <td>0.925234</td>\n",
       "    </tr>\n",
       "    <tr>\n",
       "      <th>Young</th>\n",
       "      <td>0.083333</td>\n",
       "      <td>0.916667</td>\n",
       "    </tr>\n",
       "  </tbody>\n",
       "</table>\n",
       "</div>"
      ],
      "text/plain": [
       "status         active  non_active\n",
       "age_group                        \n",
       "Middle-aged  0.048193    0.951807\n",
       "Senior       0.074766    0.925234\n",
       "Young        0.083333    0.916667"
      ]
     },
     "execution_count": 154,
     "metadata": {},
     "output_type": "execute_result"
    }
   ],
   "source": [
    "# creating age groups\n",
    "def age_group(age):\n",
    "    if age < 30:\n",
    "        return 'Young'\n",
    "    elif age < 50:\n",
    "        return 'Middle-aged'\n",
    "    else:\n",
    "        return 'Senior'\n",
    "\n",
    "users['age_group'] = users['age'].apply(age_group)\n",
    "churn_rate_by_age_group = users.groupby('age_group')['status'].value_counts(normalize=True).unstack()\n",
    "churn_rate_by_age_group"
   ]
  },
  {
   "cell_type": "code",
   "execution_count": 155,
   "metadata": {},
   "outputs": [
    {
     "data": {
      "text/plain": [
       "<Figure size 432x576 with 0 Axes>"
      ]
     },
     "metadata": {},
     "output_type": "display_data"
    },
    {
     "data": {
      "image/png": "[encoded data removed]",
      "text/plain": [
       "<Figure size 432x288 with 1 Axes>"
      ]
     },
     "metadata": {},
     "output_type": "display_data"
    }
   ],
   "source": [
    "plt.figure(figsize=(6, 8)) \n",
    "churn_rate_by_age_group.plot(kind='bar')\n",
    "plt.title('Churn Rate by Age Group')\n",
    "plt.xlabel('Age Group')\n",
    "plt.ylabel('Churn Rate')\n",
    "plt.legend(title='Status', loc='upper left', bbox_to_anchor=(1, 1))\n",
    "plt.show()"
   ]
  },
  {
   "cell_type": "code",
   "execution_count": 156,
   "metadata": {},
   "outputs": [
    {
     "data": {
      "text/plain": [
       "state\n",
       "AZ    1\n",
       "HI    1\n",
       "LA    1\n",
       "NC    1\n",
       "NV    1\n",
       "TN    1\n",
       "TX    1\n",
       "WA    1\n",
       "GA    2\n",
       "MI    2\n",
       "CA    4\n",
       "FL    4\n",
       "Name: churn_date, dtype: int64"
      ]
     },
     "execution_count": 156,
     "metadata": {},
     "output_type": "execute_result"
    }
   ],
   "source": [
    "# grouping the data by state\n",
    "churn_by_state = users.groupby('state')['churn_date'].count()\n",
    "churn_by_state = churn_by_state[churn_by_state > 0].sort_values(ascending=True)\n",
    "churn_by_state"
   ]
  },
  {
   "cell_type": "code",
   "execution_count": 157,
   "metadata": {},
   "outputs": [
    {
     "data": {
      "image/png": "[encoded data removed]",
      "text/plain": [
       "<Figure size 432x288 with 1 Axes>"
      ]
     },
     "metadata": {},
     "output_type": "display_data"
    }
   ],
   "source": [
    "plt.figure(figsize=(6, 4)) \n",
    "churn_by_state.plot(kind='bar')\n",
    "plt.title('Churn Rate by State')\n",
    "plt.xlabel('State')\n",
    "plt.ylabel('Churn Rate')\n",
    "plt.show()"
   ]
  },
  {
   "cell_type": "markdown",
   "metadata": {},
   "source": [
    "<div class=\"alert alert-info\"> <b> Conclusion: </b>  \n",
    "    \n",
    "Based on the analysis of the churn data and visualization, we can draw the following conclusions:\n",
    "\n",
    "**Churn by State:**\n",
    "   The states with the highest churn rates are Georgia (GA), Michigan (MI), California (CA), and Florida (FL). These regions have a significant number of customers who are discontinuing the service.\n",
    "\n",
    "**Churn Rate by Age Group:**\n",
    "   The churn rate analysis by age group indicates that mid-aged customers, likely those in their late 30s to early 60s, tend to exhibit lower churn rates. In contrast, younger customers seem more likely to churn. This suggests that younger customers might be more inclined to explore different service providers or seek unique user experiences.\n",
    "\n",
    "**Churn by Plan:**\n",
    "   The analysis of churn by plan reveals that a higher number of customers are churning from the Surf plan. This could be due to various reasons, such as customers exceeding plan limits or not finding the service suitable for their needs.\n",
    "\n",
    "**Churn by Month:**\n",
    "   The churn analysis by month indicates that the months of November and December have higher churn rates on average. This could be due to various factors, such as customers evaluating their plans and considering changes during the holiday season or end-of-year reflection.\n",
    "\n",
    "Overall, these findings highlight the importance of understanding customer behavior and preferences. Further investigation could be conducted to delve deeper into the reasons behind the observed patterns, such as conducting surveys to gather customer feedback and insights. This information could help the mobile service provider make informed decisions to improve customer satisfaction and retention strategies.\n",
    "</div>"
   ]
  },
  {
   "cell_type": "code",
   "execution_count": 158,
   "metadata": {},
   "outputs": [
    {
     "data": {
      "text/html": [
       "<div>\n",
       "<style scoped>\n",
       "    .dataframe tbody tr th:only-of-type {\n",
       "        vertical-align: middle;\n",
       "    }\n",
       "\n",
       "    .dataframe tbody tr th {\n",
       "        vertical-align: top;\n",
       "    }\n",
       "\n",
       "    .dataframe thead th {\n",
       "        text-align: right;\n",
       "    }\n",
       "</style>\n",
       "<table border=\"1\" class=\"dataframe\">\n",
       "  <thead>\n",
       "    <tr style=\"text-align: right;\">\n",
       "      <th></th>\n",
       "      <th>id</th>\n",
       "      <th>user_id</th>\n",
       "      <th>call_date</th>\n",
       "      <th>duration</th>\n",
       "    </tr>\n",
       "  </thead>\n",
       "  <tbody>\n",
       "    <tr>\n",
       "      <th>0</th>\n",
       "      <td>1000_93</td>\n",
       "      <td>1000</td>\n",
       "      <td>2018-12-27</td>\n",
       "      <td>8.52</td>\n",
       "    </tr>\n",
       "    <tr>\n",
       "      <th>1</th>\n",
       "      <td>1000_145</td>\n",
       "      <td>1000</td>\n",
       "      <td>2018-12-27</td>\n",
       "      <td>13.66</td>\n",
       "    </tr>\n",
       "  </tbody>\n",
       "</table>\n",
       "</div>"
      ],
      "text/plain": [
       "         id  user_id   call_date  duration\n",
       "0   1000_93     1000  2018-12-27      8.52\n",
       "1  1000_145     1000  2018-12-27     13.66"
      ]
     },
     "execution_count": 158,
     "metadata": {},
     "output_type": "execute_result"
    }
   ],
   "source": [
    "calls.head(2)"
   ]
  },
  {
   "cell_type": "code",
   "execution_count": 159,
   "metadata": {},
   "outputs": [],
   "source": [
    "# rounding the duration of calls\n",
    "calls['duration'] = np.ceil(calls['duration']).astype('int64')"
   ]
  },
  {
   "cell_type": "code",
   "execution_count": 160,
   "metadata": {},
   "outputs": [
    {
     "data": {
      "text/html": [
       "<div>\n",
       "<style scoped>\n",
       "    .dataframe tbody tr th:only-of-type {\n",
       "        vertical-align: middle;\n",
       "    }\n",
       "\n",
       "    .dataframe tbody tr th {\n",
       "        vertical-align: top;\n",
       "    }\n",
       "\n",
       "    .dataframe thead th {\n",
       "        text-align: right;\n",
       "    }\n",
       "</style>\n",
       "<table border=\"1\" class=\"dataframe\">\n",
       "  <thead>\n",
       "    <tr style=\"text-align: right;\">\n",
       "      <th></th>\n",
       "      <th>call_date</th>\n",
       "      <th>duration</th>\n",
       "      <th>total_calls</th>\n",
       "      <th>mean_duration</th>\n",
       "    </tr>\n",
       "  </thead>\n",
       "  <tbody>\n",
       "    <tr>\n",
       "      <th>0</th>\n",
       "      <td>2018-01-15</td>\n",
       "      <td>0</td>\n",
       "      <td>2</td>\n",
       "      <td>0</td>\n",
       "    </tr>\n",
       "    <tr>\n",
       "      <th>1</th>\n",
       "      <td>2018-01-15</td>\n",
       "      <td>10</td>\n",
       "      <td>1</td>\n",
       "      <td>10</td>\n",
       "    </tr>\n",
       "    <tr>\n",
       "      <th>2</th>\n",
       "      <td>2018-01-15</td>\n",
       "      <td>11</td>\n",
       "      <td>2</td>\n",
       "      <td>11</td>\n",
       "    </tr>\n",
       "    <tr>\n",
       "      <th>3</th>\n",
       "      <td>2018-01-16</td>\n",
       "      <td>0</td>\n",
       "      <td>2</td>\n",
       "      <td>0</td>\n",
       "    </tr>\n",
       "    <tr>\n",
       "      <th>4</th>\n",
       "      <td>2018-01-16</td>\n",
       "      <td>3</td>\n",
       "      <td>1</td>\n",
       "      <td>3</td>\n",
       "    </tr>\n",
       "    <tr>\n",
       "      <th>...</th>\n",
       "      <td>...</td>\n",
       "      <td>...</td>\n",
       "      <td>...</td>\n",
       "      <td>...</td>\n",
       "    </tr>\n",
       "    <tr>\n",
       "      <th>8101</th>\n",
       "      <td>2018-12-31</td>\n",
       "      <td>27</td>\n",
       "      <td>2</td>\n",
       "      <td>27</td>\n",
       "    </tr>\n",
       "    <tr>\n",
       "      <th>8102</th>\n",
       "      <td>2018-12-31</td>\n",
       "      <td>28</td>\n",
       "      <td>1</td>\n",
       "      <td>28</td>\n",
       "    </tr>\n",
       "    <tr>\n",
       "      <th>8103</th>\n",
       "      <td>2018-12-31</td>\n",
       "      <td>29</td>\n",
       "      <td>1</td>\n",
       "      <td>29</td>\n",
       "    </tr>\n",
       "    <tr>\n",
       "      <th>8104</th>\n",
       "      <td>2018-12-31</td>\n",
       "      <td>30</td>\n",
       "      <td>1</td>\n",
       "      <td>30</td>\n",
       "    </tr>\n",
       "    <tr>\n",
       "      <th>8105</th>\n",
       "      <td>2018-12-31</td>\n",
       "      <td>32</td>\n",
       "      <td>2</td>\n",
       "      <td>32</td>\n",
       "    </tr>\n",
       "  </tbody>\n",
       "</table>\n",
       "<p>8106 rows × 4 columns</p>\n",
       "</div>"
      ],
      "text/plain": [
       "       call_date  duration  total_calls  mean_duration\n",
       "0     2018-01-15         0            2              0\n",
       "1     2018-01-15        10            1             10\n",
       "2     2018-01-15        11            2             11\n",
       "3     2018-01-16         0            2              0\n",
       "4     2018-01-16         3            1              3\n",
       "...          ...       ...          ...            ...\n",
       "8101  2018-12-31        27            2             27\n",
       "8102  2018-12-31        28            1             28\n",
       "8103  2018-12-31        29            1             29\n",
       "8104  2018-12-31        30            1             30\n",
       "8105  2018-12-31        32            2             32\n",
       "\n",
       "[8106 rows x 4 columns]"
      ]
     },
     "execution_count": 160,
     "metadata": {},
     "output_type": "execute_result"
    }
   ],
   "source": [
    "# Grouping and aggregation\n",
    "calls_summary = calls.groupby(['call_date', 'duration']).agg(\n",
    "    total_calls=('user_id', 'count'),\n",
    "    mean_duration=('duration', 'mean')\n",
    ").reset_index()\n",
    "calls_summary"
   ]
  },
  {
   "cell_type": "code",
   "execution_count": 161,
   "metadata": {},
   "outputs": [
    {
     "data": {
      "text/plain": [
       "year_month\n",
       "2018-01     8.220339\n",
       "2018-02     9.252551\n",
       "2018-03     9.410256\n",
       "2018-04    10.691473\n",
       "2018-05    11.494475\n",
       "2018-06    12.236702\n",
       "2018-07    12.213918\n",
       "2018-08    12.691067\n",
       "2018-09    13.204938\n",
       "2018-10    13.254459\n",
       "2018-11    13.400726\n",
       "2018-12    13.686207\n",
       "Freq: M, Name: mean_duration, dtype: float64"
      ]
     },
     "execution_count": 161,
     "metadata": {},
     "output_type": "execute_result"
    }
   ],
   "source": [
    "# Convert 'call_date' to datetime format\n",
    "calls_summary['call_date'] = pd.to_datetime(calls_summary['call_date'])\n",
    "\n",
    "# Extract year and month\n",
    "calls_summary['year_month'] = calls_summary['call_date'].dt.to_period('M')\n",
    "\n",
    "# Group by year and month, calculate mean duration\n",
    "average_duration_by_month = calls_summary.groupby('year_month')['mean_duration'].mean()\n",
    "\n",
    "# Display the result\n",
    "average_duration_by_month"
   ]
  },
  {
   "cell_type": "code",
   "execution_count": 162,
   "metadata": {},
   "outputs": [
    {
     "data": {
      "image/png": "[encoded data removed]",
      "text/plain": [
       "<Figure size 720x432 with 1 Axes>"
      ]
     },
     "metadata": {},
     "output_type": "display_data"
    }
   ],
   "source": [
    "# Plotting the average call duration by month\n",
    "plt.figure(figsize=(10, 6))\n",
    "average_duration_by_month.plot(marker='o')\n",
    "plt.title('Average Call Duration by Month')\n",
    "plt.xlabel('Year-Month')\n",
    "plt.ylabel('Average Call Duration')\n",
    "plt.xticks(rotation=45)\n",
    "plt.grid(True)\n",
    "plt.tight_layout()\n",
    "plt.show()"
   ]
  },
  {
   "cell_type": "code",
   "execution_count": 163,
   "metadata": {},
   "outputs": [
    {
     "name": "stdout",
     "output_type": "stream",
     "text": [
      "Minimum Average Call Duration: 8.0\n",
      "Maximum Average Call Duration: 14.0\n"
     ]
    }
   ],
   "source": [
    "min_average_duration = average_duration_by_month.min().round()\n",
    "max_average_duration = average_duration_by_month.max().round()\n",
    "\n",
    "print(\"Minimum Average Call Duration:\", min_average_duration)\n",
    "print(\"Maximum Average Call Duration:\", max_average_duration)"
   ]
  },
  {
   "cell_type": "code",
   "execution_count": 164,
   "metadata": {},
   "outputs": [],
   "source": [
    "# Convert 'call_date' to datetime format\n",
    "calls['call_date'] = pd.to_datetime(calls['call_date'])\n",
    "\n",
    "# Filter data for December 2018 and January 2018 using query()\n",
    "december_calls = calls.query(\"'2018-12-01' <= call_date <= '2018-12-31'\").copy()\n",
    "january_calls = calls.query(\"'2018-01-01' <= call_date <= '2018-01-31'\").copy()\n",
    "\n",
    "# Extract month and day using .loc indexer\n",
    "december_calls.loc[:, 'month'] = december_calls['call_date'].dt.month\n",
    "december_calls.loc[:, 'day'] = december_calls['call_date'].dt.day\n",
    "\n",
    "january_calls.loc[:, 'month'] = january_calls['call_date'].dt.month\n",
    "january_calls.loc[:, 'day'] = january_calls['call_date'].dt.day "
   ]
  },
  {
   "cell_type": "code",
   "execution_count": 165,
   "metadata": {},
   "outputs": [
    {
     "data": {
      "image/png": "[encoded data removed]",
      "text/plain": [
       "<Figure size 864x432 with 1 Axes>"
      ]
     },
     "metadata": {},
     "output_type": "display_data"
    }
   ],
   "source": [
    "#December Duration of Calls visualization:\n",
    "plt.figure(figsize=(12, 6))\n",
    "sns.lineplot(data=december_calls, x='day', y='duration', ci=None)\n",
    "plt.title('Call Duration in December 2018')\n",
    "plt.xlabel('Day')\n",
    "plt.ylabel('Call Duration')\n",
    "plt.show()"
   ]
  },
  {
   "cell_type": "code",
   "execution_count": 166,
   "metadata": {},
   "outputs": [
    {
     "data": {
      "image/png": "[encoded data removed]",
      "text/plain": [
       "<Figure size 864x432 with 1 Axes>"
      ]
     },
     "metadata": {},
     "output_type": "display_data"
    }
   ],
   "source": [
    "# January Duration of Calls visualization;\n",
    "plt.figure(figsize=(12, 6))\n",
    "sns.lineplot(data=january_calls, x='day', y='duration', ci=None)\n",
    "plt.title('Call Duration in January 2018')\n",
    "plt.xlabel('Day')\n",
    "plt.ylabel('Call Duration')\n",
    "plt.show()"
   ]
  },
  {
   "cell_type": "code",
   "execution_count": 167,
   "metadata": {},
   "outputs": [
    {
     "data": {
      "image/png": "[encoded data removed]",
      "text/plain": [
       "<Figure size 864x432 with 1 Axes>"
      ]
     },
     "metadata": {},
     "output_type": "display_data"
    }
   ],
   "source": [
    "#combined view\n",
    "plt.figure(figsize=(12, 6))\n",
    "sns.lineplot(data=december_calls, x='day', y='duration', label='December', ci=None)\n",
    "sns.lineplot(data=january_calls, x='day', y='duration', label='January', ci=None)\n",
    "plt.title('Call Duration Comparison: December vs January 2018')\n",
    "plt.xlabel('Day')\n",
    "plt.ylabel('Call Duration')\n",
    "plt.legend()\n",
    "plt.show()"
   ]
  },
  {
   "cell_type": "code",
   "execution_count": 168,
   "metadata": {},
   "outputs": [
    {
     "data": {
      "text/html": [
       "<div>\n",
       "<style scoped>\n",
       "    .dataframe tbody tr th:only-of-type {\n",
       "        vertical-align: middle;\n",
       "    }\n",
       "\n",
       "    .dataframe tbody tr th {\n",
       "        vertical-align: top;\n",
       "    }\n",
       "\n",
       "    .dataframe thead tr th {\n",
       "        text-align: left;\n",
       "    }\n",
       "</style>\n",
       "<table border=\"1\" class=\"dataframe\">\n",
       "  <thead>\n",
       "    <tr>\n",
       "      <th></th>\n",
       "      <th>user_id</th>\n",
       "      <th>month</th>\n",
       "      <th colspan=\"2\" halign=\"left\">duration</th>\n",
       "    </tr>\n",
       "    <tr>\n",
       "      <th></th>\n",
       "      <th></th>\n",
       "      <th></th>\n",
       "      <th>count</th>\n",
       "      <th>sum</th>\n",
       "    </tr>\n",
       "  </thead>\n",
       "  <tbody>\n",
       "    <tr>\n",
       "      <th>0</th>\n",
       "      <td>1000</td>\n",
       "      <td>12</td>\n",
       "      <td>16</td>\n",
       "      <td>124</td>\n",
       "    </tr>\n",
       "    <tr>\n",
       "      <th>1</th>\n",
       "      <td>1001</td>\n",
       "      <td>8</td>\n",
       "      <td>27</td>\n",
       "      <td>182</td>\n",
       "    </tr>\n",
       "    <tr>\n",
       "      <th>2</th>\n",
       "      <td>1001</td>\n",
       "      <td>9</td>\n",
       "      <td>49</td>\n",
       "      <td>315</td>\n",
       "    </tr>\n",
       "    <tr>\n",
       "      <th>3</th>\n",
       "      <td>1001</td>\n",
       "      <td>10</td>\n",
       "      <td>65</td>\n",
       "      <td>393</td>\n",
       "    </tr>\n",
       "    <tr>\n",
       "      <th>4</th>\n",
       "      <td>1001</td>\n",
       "      <td>11</td>\n",
       "      <td>64</td>\n",
       "      <td>426</td>\n",
       "    </tr>\n",
       "    <tr>\n",
       "      <th>...</th>\n",
       "      <td>...</td>\n",
       "      <td>...</td>\n",
       "      <td>...</td>\n",
       "      <td>...</td>\n",
       "    </tr>\n",
       "    <tr>\n",
       "      <th>2253</th>\n",
       "      <td>1498</td>\n",
       "      <td>12</td>\n",
       "      <td>39</td>\n",
       "      <td>339</td>\n",
       "    </tr>\n",
       "    <tr>\n",
       "      <th>2254</th>\n",
       "      <td>1499</td>\n",
       "      <td>9</td>\n",
       "      <td>41</td>\n",
       "      <td>346</td>\n",
       "    </tr>\n",
       "    <tr>\n",
       "      <th>2255</th>\n",
       "      <td>1499</td>\n",
       "      <td>10</td>\n",
       "      <td>53</td>\n",
       "      <td>385</td>\n",
       "    </tr>\n",
       "    <tr>\n",
       "      <th>2256</th>\n",
       "      <td>1499</td>\n",
       "      <td>11</td>\n",
       "      <td>45</td>\n",
       "      <td>308</td>\n",
       "    </tr>\n",
       "    <tr>\n",
       "      <th>2257</th>\n",
       "      <td>1499</td>\n",
       "      <td>12</td>\n",
       "      <td>65</td>\n",
       "      <td>496</td>\n",
       "    </tr>\n",
       "  </tbody>\n",
       "</table>\n",
       "<p>2258 rows × 4 columns</p>\n",
       "</div>"
      ],
      "text/plain": [
       "     user_id month duration     \n",
       "                      count  sum\n",
       "0       1000    12       16  124\n",
       "1       1001     8       27  182\n",
       "2       1001     9       49  315\n",
       "3       1001    10       65  393\n",
       "4       1001    11       64  426\n",
       "...      ...   ...      ...  ...\n",
       "2253    1498    12       39  339\n",
       "2254    1499     9       41  346\n",
       "2255    1499    10       53  385\n",
       "2256    1499    11       45  308\n",
       "2257    1499    12       65  496\n",
       "\n",
       "[2258 rows x 4 columns]"
      ]
     },
     "execution_count": 168,
     "metadata": {},
     "output_type": "execute_result"
    }
   ],
   "source": [
    "calls.loc[:, 'month'] = calls['call_date'].dt.month\n",
    "data_calls=calls.groupby(['user_id','month']).agg({'duration' : ('count','sum')}).reset_index()\n",
    "data_calls"
   ]
  },
  {
   "cell_type": "code",
   "execution_count": 169,
   "metadata": {},
   "outputs": [
    {
     "data": {
      "image/png": "[encoded data removed]",
      "text/plain": [
       "<Figure size 864x432 with 1 Axes>"
      ]
     },
     "metadata": {},
     "output_type": "display_data"
    }
   ],
   "source": [
    "# Set the style of seaborn\n",
    "sns.set(style=\"whitegrid\")\n",
    "\n",
    "# Create a line plot using seaborn\n",
    "plt.figure(figsize=(12, 6))\n",
    "sns.lineplot(data=data_calls, x='month', y=('duration', 'count'), label='Total Calls')\n",
    "sns.lineplot(data=data_calls, x='month', y=('duration', 'sum'), label='Total Duration')\n",
    "plt.title('Total Calls and Duration by Month')\n",
    "plt.xlabel('Month')\n",
    "plt.ylabel('Count / Duration')\n",
    "plt.legend()\n",
    "plt.show()\n"
   ]
  },
  {
   "cell_type": "markdown",
   "metadata": {},
   "source": [
    "<div class=\"alert alert-info\"> <b> Observation: </b>  \n",
    "    \n",
    "Average Call Duration by Month graph provides insights on callduration dinamycs during the year. We obseved increasing duration of call starting from March-April time. We also verified the average duration of call per month a found that on averge, January was month with the shortest duration of calls and December 2018 - the longest. \n",
    "    \n",
    "However, this was only the brief glance. When we actually visualize two month, we found out that both months had highest peacks throughout the months. The peaks we were observing in the lineplots could be indicative of certain patterns or events that occurred on those specific days, such as:\n",
    "\n",
    "1. **Special Events or Holidays:** Peaks in call durations could coincide with special events, holidays, or weekends when people might have more free time to make longer calls.\n",
    "2. **Promotions or Offers:** Peaks could also be associated with promotional offers, discounts, or marketing campaigns that encourage people to make longer calls.\n",
    "3. **Workdays vs. Weekends:** Call durations might be longer on weekends compared to workdays when people have more time to chat.\n",
    "4. **Weather Conditions:** Weather conditions could also play a role. For example, people might be more likely to stay indoors and talk on the phone during bad weather.\n",
    "5. **Social Events:** Peaks could also be related to social events or gatherings that lead to longer conversations.\n",
    "\n",
    "Analyzing the context of these peaks, considering external factors, and understanding user behavior could help us identify the underlying reasons for these patterns. It would be helpful to gather additional data to validate these theories and gain deeper insights into the observed patterns.\n",
    "</div>"
   ]
  },
  {
   "cell_type": "code",
   "execution_count": 170,
   "metadata": {},
   "outputs": [
    {
     "data": {
      "text/html": [
       "<div>\n",
       "<style scoped>\n",
       "    .dataframe tbody tr th:only-of-type {\n",
       "        vertical-align: middle;\n",
       "    }\n",
       "\n",
       "    .dataframe tbody tr th {\n",
       "        vertical-align: top;\n",
       "    }\n",
       "\n",
       "    .dataframe thead th {\n",
       "        text-align: right;\n",
       "    }\n",
       "</style>\n",
       "<table border=\"1\" class=\"dataframe\">\n",
       "  <thead>\n",
       "    <tr style=\"text-align: right;\">\n",
       "      <th></th>\n",
       "      <th>id</th>\n",
       "      <th>user_id</th>\n",
       "      <th>message_date</th>\n",
       "    </tr>\n",
       "  </thead>\n",
       "  <tbody>\n",
       "    <tr>\n",
       "      <th>0</th>\n",
       "      <td>1000_125</td>\n",
       "      <td>1000</td>\n",
       "      <td>2018-12-27</td>\n",
       "    </tr>\n",
       "    <tr>\n",
       "      <th>1</th>\n",
       "      <td>1000_160</td>\n",
       "      <td>1000</td>\n",
       "      <td>2018-12-31</td>\n",
       "    </tr>\n",
       "    <tr>\n",
       "      <th>2</th>\n",
       "      <td>1000_223</td>\n",
       "      <td>1000</td>\n",
       "      <td>2018-12-31</td>\n",
       "    </tr>\n",
       "    <tr>\n",
       "      <th>3</th>\n",
       "      <td>1000_251</td>\n",
       "      <td>1000</td>\n",
       "      <td>2018-12-27</td>\n",
       "    </tr>\n",
       "    <tr>\n",
       "      <th>4</th>\n",
       "      <td>1000_255</td>\n",
       "      <td>1000</td>\n",
       "      <td>2018-12-26</td>\n",
       "    </tr>\n",
       "  </tbody>\n",
       "</table>\n",
       "</div>"
      ],
      "text/plain": [
       "         id  user_id message_date\n",
       "0  1000_125     1000   2018-12-27\n",
       "1  1000_160     1000   2018-12-31\n",
       "2  1000_223     1000   2018-12-31\n",
       "3  1000_251     1000   2018-12-27\n",
       "4  1000_255     1000   2018-12-26"
      ]
     },
     "execution_count": 170,
     "metadata": {},
     "output_type": "execute_result"
    }
   ],
   "source": [
    "# Print a sample of data for messages\n",
    "messages.head()"
   ]
  },
  {
   "cell_type": "markdown",
   "metadata": {},
   "source": [
    " "
   ]
  },
  {
   "cell_type": "code",
   "execution_count": 171,
   "metadata": {},
   "outputs": [],
   "source": [
    "#changing datatype\n",
    "messages['message_date'] = pd.to_datetime(messages['message_date'], format = '%Y-%m-%d')\n",
    "#extracting month out of full date\n",
    "messages['month_msg'] = messages['message_date'].dt.month"
   ]
  },
  {
   "cell_type": "code",
   "execution_count": 172,
   "metadata": {},
   "outputs": [],
   "source": [
    "#aggregating data per user in pivot table\n",
    "monthly_msg = messages.pivot_table(index=['user_id','month_msg'], values='id', aggfunc='count')\n",
    "monthly_msg = monthly_msg.reset_index()"
   ]
  },
  {
   "cell_type": "code",
   "execution_count": 173,
   "metadata": {},
   "outputs": [],
   "source": [
    "#renaming the columns\n",
    "monthly_msg.columns = ['user_id', 'month', 'number_msg',]"
   ]
  },
  {
   "cell_type": "code",
   "execution_count": 174,
   "metadata": {},
   "outputs": [
    {
     "data": {
      "text/html": [
       "<div>\n",
       "<style scoped>\n",
       "    .dataframe tbody tr th:only-of-type {\n",
       "        vertical-align: middle;\n",
       "    }\n",
       "\n",
       "    .dataframe tbody tr th {\n",
       "        vertical-align: top;\n",
       "    }\n",
       "\n",
       "    .dataframe thead th {\n",
       "        text-align: right;\n",
       "    }\n",
       "</style>\n",
       "<table border=\"1\" class=\"dataframe\">\n",
       "  <thead>\n",
       "    <tr style=\"text-align: right;\">\n",
       "      <th></th>\n",
       "      <th>user_id</th>\n",
       "      <th>month</th>\n",
       "      <th>number_msg</th>\n",
       "    </tr>\n",
       "  </thead>\n",
       "  <tbody>\n",
       "    <tr>\n",
       "      <th>0</th>\n",
       "      <td>1000</td>\n",
       "      <td>12</td>\n",
       "      <td>11</td>\n",
       "    </tr>\n",
       "    <tr>\n",
       "      <th>1</th>\n",
       "      <td>1001</td>\n",
       "      <td>8</td>\n",
       "      <td>30</td>\n",
       "    </tr>\n",
       "    <tr>\n",
       "      <th>2</th>\n",
       "      <td>1001</td>\n",
       "      <td>9</td>\n",
       "      <td>44</td>\n",
       "    </tr>\n",
       "    <tr>\n",
       "      <th>3</th>\n",
       "      <td>1001</td>\n",
       "      <td>10</td>\n",
       "      <td>53</td>\n",
       "    </tr>\n",
       "    <tr>\n",
       "      <th>4</th>\n",
       "      <td>1001</td>\n",
       "      <td>11</td>\n",
       "      <td>36</td>\n",
       "    </tr>\n",
       "  </tbody>\n",
       "</table>\n",
       "</div>"
      ],
      "text/plain": [
       "   user_id  month  number_msg\n",
       "0     1000     12          11\n",
       "1     1001      8          30\n",
       "2     1001      9          44\n",
       "3     1001     10          53\n",
       "4     1001     11          36"
      ]
     },
     "execution_count": 174,
     "metadata": {},
     "output_type": "execute_result"
    }
   ],
   "source": [
    "monthly_msg.head()"
   ]
  },
  {
   "cell_type": "code",
   "execution_count": 175,
   "metadata": {},
   "outputs": [
    {
     "data": {
      "text/html": [
       "<div>\n",
       "<style scoped>\n",
       "    .dataframe tbody tr th:only-of-type {\n",
       "        vertical-align: middle;\n",
       "    }\n",
       "\n",
       "    .dataframe tbody tr th {\n",
       "        vertical-align: top;\n",
       "    }\n",
       "\n",
       "    .dataframe thead th {\n",
       "        text-align: right;\n",
       "    }\n",
       "</style>\n",
       "<table border=\"1\" class=\"dataframe\">\n",
       "  <thead>\n",
       "    <tr style=\"text-align: right;\">\n",
       "      <th></th>\n",
       "      <th>count</th>\n",
       "      <th>mean</th>\n",
       "      <th>std</th>\n",
       "      <th>min</th>\n",
       "      <th>25%</th>\n",
       "      <th>50%</th>\n",
       "      <th>75%</th>\n",
       "      <th>max</th>\n",
       "    </tr>\n",
       "  </thead>\n",
       "  <tbody>\n",
       "    <tr>\n",
       "      <th>user_id</th>\n",
       "      <td>1806.0</td>\n",
       "      <td>1245.091916</td>\n",
       "      <td>139.583315</td>\n",
       "      <td>1000.0</td>\n",
       "      <td>1126.25</td>\n",
       "      <td>1245.0</td>\n",
       "      <td>1362.0</td>\n",
       "      <td>1497.0</td>\n",
       "    </tr>\n",
       "    <tr>\n",
       "      <th>month</th>\n",
       "      <td>1806.0</td>\n",
       "      <td>9.260797</td>\n",
       "      <td>2.443621</td>\n",
       "      <td>1.0</td>\n",
       "      <td>8.00</td>\n",
       "      <td>10.0</td>\n",
       "      <td>11.0</td>\n",
       "      <td>12.0</td>\n",
       "    </tr>\n",
       "    <tr>\n",
       "      <th>number_msg</th>\n",
       "      <td>1806.0</td>\n",
       "      <td>42.110188</td>\n",
       "      <td>33.122931</td>\n",
       "      <td>1.0</td>\n",
       "      <td>17.00</td>\n",
       "      <td>34.0</td>\n",
       "      <td>59.0</td>\n",
       "      <td>266.0</td>\n",
       "    </tr>\n",
       "  </tbody>\n",
       "</table>\n",
       "</div>"
      ],
      "text/plain": [
       "             count         mean         std     min      25%     50%     75%  \\\n",
       "user_id     1806.0  1245.091916  139.583315  1000.0  1126.25  1245.0  1362.0   \n",
       "month       1806.0     9.260797    2.443621     1.0     8.00    10.0    11.0   \n",
       "number_msg  1806.0    42.110188   33.122931     1.0    17.00    34.0    59.0   \n",
       "\n",
       "               max  \n",
       "user_id     1497.0  \n",
       "month         12.0  \n",
       "number_msg   266.0  "
      ]
     },
     "execution_count": 175,
     "metadata": {},
     "output_type": "execute_result"
    }
   ],
   "source": [
    "monthly_msg.describe().T"
   ]
  },
  {
   "cell_type": "code",
   "execution_count": 176,
   "metadata": {},
   "outputs": [
    {
     "data": {
      "image/png": "[encoded data removed]",
      "text/plain": [
       "<Figure size 720x432 with 1 Axes>"
      ]
     },
     "metadata": {},
     "output_type": "display_data"
    }
   ],
   "source": [
    "# Sort the DataFrame by the 'number_msg' column\n",
    "monthly_msg_sorted = monthly_msg.sort_values('number_msg', ascending=False)\n",
    "\n",
    "# Create a bar plot\n",
    "plt.figure(figsize=(10, 6))\n",
    "plt.bar(monthly_msg_sorted['month'], monthly_msg_sorted['number_msg'])\n",
    "plt.xlabel('Month')\n",
    "plt.ylabel('Number of Messages')\n",
    "plt.title('Number of Messages per Month')\n",
    "plt.xticks(monthly_msg_sorted['month'], labels=monthly_msg_sorted['month'], rotation=45)\n",
    "plt.tight_layout()\n",
    "plt.show()"
   ]
  },
  {
   "cell_type": "markdown",
   "metadata": {},
   "source": [
    "<div class=\"alert alert-info\"> <b> Observation - Messages Dataset: </b> \n",
    "\n",
    "**User Distribution:**\n",
    "   - The dataset includes 1806 unique users.\n",
    "   - User IDs range from 1000 to 1497, with a mean of approximately 1245. This indicates a relatively even distribution of users.\n",
    "**Months of Communication:**\n",
    "   - The data covers the months ranging from 1 to 12, indicating a full year of communication data.\n",
    "   - The mean month is around 9.26, suggesting that the dataset has data spanning several months.\n",
    "**Number of Messages:**\n",
    "   - On average, users send about 42 messages per month.\n",
    "   - The number of messages per month has a standard deviation of approximately 33.12, indicating a significant variability in message counts.\n",
    "   - The minimum number of messages sent by a user in a month is 1, while the maximum is 266.\n",
    "   - 25% of the users send 17 or fewer messages per month, while 50% (median) send 34 or fewer messages. 75% of the users send 59 or fewer messages per month.\n",
    "\n",
    "Overall, the statistics suggest that users generally send a moderate number of messages each month, with some users sending a significantly higher number. There is variability in communication patterns among users, with some sending very few messages and others sending a substantial amount. The distribution of messages is positively skewed, with a larger number of users having lower message counts and a few users with high message counts.\n",
    "\n",
    "In addition, the bar graph created from the 'monthly_msg_sorted' data shows the messaging activity distribution across different months. \n",
    "\n",
    "- December and October are the most active months in terms of messaging activity. This is reflected by the higher bar heights for these months, suggesting that users sent more messages during these months compared to others.\n",
    "\n",
    "- On the other hand, the lowest messaging activity is observed in January, February, and March. The bars corresponding to these months are notably shorter, indicating that users sent fewer messages during these months.\n",
    "\n",
    "Overall, the graph visually illustrates the variation in messaging activity throughout the year, with certain months experiencing higher levels of communication compared to others. This information can be valuable for understanding user behavior and engagement patterns over time.</div>"
   ]
  },
  {
   "cell_type": "code",
   "execution_count": 177,
   "metadata": {},
   "outputs": [
    {
     "data": {
      "text/html": [
       "<div>\n",
       "<style scoped>\n",
       "    .dataframe tbody tr th:only-of-type {\n",
       "        vertical-align: middle;\n",
       "    }\n",
       "\n",
       "    .dataframe tbody tr th {\n",
       "        vertical-align: top;\n",
       "    }\n",
       "\n",
       "    .dataframe thead th {\n",
       "        text-align: right;\n",
       "    }\n",
       "</style>\n",
       "<table border=\"1\" class=\"dataframe\">\n",
       "  <thead>\n",
       "    <tr style=\"text-align: right;\">\n",
       "      <th></th>\n",
       "      <th>id</th>\n",
       "      <th>user_id</th>\n",
       "      <th>session_date</th>\n",
       "      <th>mb_used</th>\n",
       "    </tr>\n",
       "  </thead>\n",
       "  <tbody>\n",
       "    <tr>\n",
       "      <th>0</th>\n",
       "      <td>1000_13</td>\n",
       "      <td>1000</td>\n",
       "      <td>2018-12-29</td>\n",
       "      <td>89.86</td>\n",
       "    </tr>\n",
       "    <tr>\n",
       "      <th>1</th>\n",
       "      <td>1000_204</td>\n",
       "      <td>1000</td>\n",
       "      <td>2018-12-31</td>\n",
       "      <td>0.00</td>\n",
       "    </tr>\n",
       "    <tr>\n",
       "      <th>2</th>\n",
       "      <td>1000_379</td>\n",
       "      <td>1000</td>\n",
       "      <td>2018-12-28</td>\n",
       "      <td>660.40</td>\n",
       "    </tr>\n",
       "    <tr>\n",
       "      <th>3</th>\n",
       "      <td>1000_413</td>\n",
       "      <td>1000</td>\n",
       "      <td>2018-12-26</td>\n",
       "      <td>270.99</td>\n",
       "    </tr>\n",
       "    <tr>\n",
       "      <th>4</th>\n",
       "      <td>1000_442</td>\n",
       "      <td>1000</td>\n",
       "      <td>2018-12-27</td>\n",
       "      <td>880.22</td>\n",
       "    </tr>\n",
       "  </tbody>\n",
       "</table>\n",
       "</div>"
      ],
      "text/plain": [
       "         id  user_id session_date  mb_used\n",
       "0   1000_13     1000   2018-12-29    89.86\n",
       "1  1000_204     1000   2018-12-31     0.00\n",
       "2  1000_379     1000   2018-12-28   660.40\n",
       "3  1000_413     1000   2018-12-26   270.99\n",
       "4  1000_442     1000   2018-12-27   880.22"
      ]
     },
     "execution_count": 177,
     "metadata": {},
     "output_type": "execute_result"
    }
   ],
   "source": [
    "# Print a sample of data for the internet traffic\n",
    "internet.head()"
   ]
  },
  {
   "cell_type": "code",
   "execution_count": 178,
   "metadata": {},
   "outputs": [
    {
     "data": {
      "text/html": [
       "<div>\n",
       "<style scoped>\n",
       "    .dataframe tbody tr th:only-of-type {\n",
       "        vertical-align: middle;\n",
       "    }\n",
       "\n",
       "    .dataframe tbody tr th {\n",
       "        vertical-align: top;\n",
       "    }\n",
       "\n",
       "    .dataframe thead th {\n",
       "        text-align: right;\n",
       "    }\n",
       "</style>\n",
       "<table border=\"1\" class=\"dataframe\">\n",
       "  <thead>\n",
       "    <tr style=\"text-align: right;\">\n",
       "      <th></th>\n",
       "      <th>user_id</th>\n",
       "      <th>month</th>\n",
       "      <th>mb_used</th>\n",
       "      <th>gb_used_mnth</th>\n",
       "    </tr>\n",
       "  </thead>\n",
       "  <tbody>\n",
       "    <tr>\n",
       "      <th>0</th>\n",
       "      <td>1000</td>\n",
       "      <td>12</td>\n",
       "      <td>1901.47</td>\n",
       "      <td>2</td>\n",
       "    </tr>\n",
       "    <tr>\n",
       "      <th>1</th>\n",
       "      <td>1001</td>\n",
       "      <td>8</td>\n",
       "      <td>6919.15</td>\n",
       "      <td>7</td>\n",
       "    </tr>\n",
       "    <tr>\n",
       "      <th>2</th>\n",
       "      <td>1001</td>\n",
       "      <td>9</td>\n",
       "      <td>13314.82</td>\n",
       "      <td>14</td>\n",
       "    </tr>\n",
       "    <tr>\n",
       "      <th>3</th>\n",
       "      <td>1001</td>\n",
       "      <td>10</td>\n",
       "      <td>22330.49</td>\n",
       "      <td>22</td>\n",
       "    </tr>\n",
       "    <tr>\n",
       "      <th>4</th>\n",
       "      <td>1001</td>\n",
       "      <td>11</td>\n",
       "      <td>18504.30</td>\n",
       "      <td>19</td>\n",
       "    </tr>\n",
       "  </tbody>\n",
       "</table>\n",
       "</div>"
      ],
      "text/plain": [
       "   user_id  month   mb_used  gb_used_mnth\n",
       "0     1000     12   1901.47             2\n",
       "1     1001      8   6919.15             7\n",
       "2     1001      9  13314.82            14\n",
       "3     1001     10  22330.49            22\n",
       "4     1001     11  18504.30            19"
      ]
     },
     "execution_count": 178,
     "metadata": {},
     "output_type": "execute_result"
    }
   ],
   "source": [
    "# Changing datatype and extracting month\n",
    "internet['session_date'] = pd.to_datetime(internet['session_date'])\n",
    "internet['session_month'] = internet['session_date'].dt.month\n",
    "\n",
    "# Aggregating data per user and month\n",
    "monthly_inet = internet.groupby(['user_id', 'session_month'])['mb_used'].sum().reset_index()\n",
    "\n",
    "# Renaming the columns\n",
    "monthly_inet.columns = ['user_id', 'month', 'mb_used']\n",
    "\n",
    "# Converting to gigabytes\n",
    "monthly_inet['gb_used_mnth'] = np.ceil(monthly_inet['mb_used'] / 1024).astype(int)\n",
    "\n",
    "# Displaying sample\n",
    "monthly_inet.head()"
   ]
  },
  {
   "cell_type": "code",
   "execution_count": 179,
   "metadata": {},
   "outputs": [
    {
     "data": {
      "text/html": [
       "<div>\n",
       "<style scoped>\n",
       "    .dataframe tbody tr th:only-of-type {\n",
       "        vertical-align: middle;\n",
       "    }\n",
       "\n",
       "    .dataframe tbody tr th {\n",
       "        vertical-align: top;\n",
       "    }\n",
       "\n",
       "    .dataframe thead th {\n",
       "        text-align: right;\n",
       "    }\n",
       "</style>\n",
       "<table border=\"1\" class=\"dataframe\">\n",
       "  <thead>\n",
       "    <tr style=\"text-align: right;\">\n",
       "      <th></th>\n",
       "      <th>count</th>\n",
       "      <th>mean</th>\n",
       "      <th>std</th>\n",
       "      <th>min</th>\n",
       "      <th>25%</th>\n",
       "      <th>50%</th>\n",
       "      <th>75%</th>\n",
       "      <th>max</th>\n",
       "    </tr>\n",
       "  </thead>\n",
       "  <tbody>\n",
       "    <tr>\n",
       "      <th>user_id</th>\n",
       "      <td>2277.0</td>\n",
       "      <td>1244.925780</td>\n",
       "      <td>142.544823</td>\n",
       "      <td>1000.00</td>\n",
       "      <td>1121.00</td>\n",
       "      <td>1243.00</td>\n",
       "      <td>1367.00</td>\n",
       "      <td>1499.00</td>\n",
       "    </tr>\n",
       "    <tr>\n",
       "      <th>month</th>\n",
       "      <td>2277.0</td>\n",
       "      <td>9.177866</td>\n",
       "      <td>2.497183</td>\n",
       "      <td>1.00</td>\n",
       "      <td>8.00</td>\n",
       "      <td>10.00</td>\n",
       "      <td>11.00</td>\n",
       "      <td>12.00</td>\n",
       "    </tr>\n",
       "    <tr>\n",
       "      <th>mb_used</th>\n",
       "      <td>2277.0</td>\n",
       "      <td>16882.197501</td>\n",
       "      <td>7869.784848</td>\n",
       "      <td>92.31</td>\n",
       "      <td>12347.72</td>\n",
       "      <td>16873.74</td>\n",
       "      <td>21041.52</td>\n",
       "      <td>70931.59</td>\n",
       "    </tr>\n",
       "    <tr>\n",
       "      <th>gb_used_mnth</th>\n",
       "      <td>2277.0</td>\n",
       "      <td>16.989021</td>\n",
       "      <td>7.693683</td>\n",
       "      <td>1.00</td>\n",
       "      <td>13.00</td>\n",
       "      <td>17.00</td>\n",
       "      <td>21.00</td>\n",
       "      <td>70.00</td>\n",
       "    </tr>\n",
       "  </tbody>\n",
       "</table>\n",
       "</div>"
      ],
      "text/plain": [
       "               count          mean          std      min       25%       50%  \\\n",
       "user_id       2277.0   1244.925780   142.544823  1000.00   1121.00   1243.00   \n",
       "month         2277.0      9.177866     2.497183     1.00      8.00     10.00   \n",
       "mb_used       2277.0  16882.197501  7869.784848    92.31  12347.72  16873.74   \n",
       "gb_used_mnth  2277.0     16.989021     7.693683     1.00     13.00     17.00   \n",
       "\n",
       "                   75%       max  \n",
       "user_id        1367.00   1499.00  \n",
       "month            11.00     12.00  \n",
       "mb_used       21041.52  70931.59  \n",
       "gb_used_mnth     21.00     70.00  "
      ]
     },
     "execution_count": 179,
     "metadata": {},
     "output_type": "execute_result"
    }
   ],
   "source": [
    "monthly_inet.describe().T"
   ]
  },
  {
   "cell_type": "code",
   "execution_count": 180,
   "metadata": {
    "scrolled": false
   },
   "outputs": [
    {
     "data": {
      "image/png": "[encoded data removed]",
      "text/plain": [
       "<Figure size 720x432 with 1 Axes>"
      ]
     },
     "metadata": {},
     "output_type": "display_data"
    }
   ],
   "source": [
    "# Calculate the number of unique users for each month\n",
    "users_per_month = monthly_inet.groupby('month')['user_id'].nunique().reset_index()\n",
    "\n",
    "# Create a bar plot for unique users per month\n",
    "plt.figure(figsize=(10, 6))\n",
    "sns.barplot(data=users_per_month, x='month', y='user_id', color='skyblue')\n",
    "plt.title('Number of Unique Users by Month')\n",
    "plt.xlabel('Month')\n",
    "plt.ylabel('Number of Unique Users')\n",
    "plt.xticks(rotation=45)\n",
    "plt.tight_layout()\n",
    "plt.show()"
   ]
  },
  {
   "cell_type": "markdown",
   "metadata": {},
   "source": [
    "<div class=\"alert alert-info\"> <b> Conclusions - Internet Dataset: </b>\n",
    "\n",
    "Upon initial examination, no missing values or duplicated data were identified in the dataset. The datatypes of the 'session_date' column were appropriately changed to datetime type. New columns were added to extract the month from the session date and convert the data usage from megabytes (MB) to gigabytes (GB) for more meaningful calculations.\n",
    "\n",
    "The descriptive statistics for the dataset reveal the following key insights:\n",
    "- The dataset contains records for 2,277 unique users.\n",
    "- The 'user_id' values range from 1,000 to 1,499, with an average of approximately 1,244.\n",
    "- The data spans across the months of January (1) to December (12), with an average month value of approximately 9.\n",
    "- The average monthly internet usage in megabytes (MB) is around 16,882, with a standard deviation of 7,870 MB.\n",
    "- The data was further converted to gigabytes (GB) for better interpretation, resulting in an average monthly usage of around 17 GB, with a standard deviation of 7.69 GB.\n",
    "\n",
    "The visual representation of the data through a bar plot indicates a consistent upward trend in the number of unique users each month. This trend is evident from January 2018 to December 2018, with an increase in the number of users observed each month.\n",
    "\n",
    "Overall, this analysis provides valuable insights into the monthly internet usage patterns of users, highlighting the growth in user engagement over the course of the year.     \n",
    "</div>"
   ]
  },
  {
   "cell_type": "code",
   "execution_count": 181,
   "metadata": {},
   "outputs": [],
   "source": [
    "#Print out the plan conditions and make sure they are clear for you\n",
    "plans.columns = ['cap_messages', 'cap_mb', 'cap_call_min', 'monthly_charge', 'gb_cost', 'msg_cost', 'min_call_cost', 'plan_name']\n",
    "plans['cap_gb'] = np.ceil((plans['cap_mb'].values) / 1024).astype(int)"
   ]
  },
  {
   "cell_type": "code",
   "execution_count": 182,
   "metadata": {},
   "outputs": [
    {
     "data": {
      "text/html": [
       "<div>\n",
       "<style scoped>\n",
       "    .dataframe tbody tr th:only-of-type {\n",
       "        vertical-align: middle;\n",
       "    }\n",
       "\n",
       "    .dataframe tbody tr th {\n",
       "        vertical-align: top;\n",
       "    }\n",
       "\n",
       "    .dataframe thead th {\n",
       "        text-align: right;\n",
       "    }\n",
       "</style>\n",
       "<table border=\"1\" class=\"dataframe\">\n",
       "  <thead>\n",
       "    <tr style=\"text-align: right;\">\n",
       "      <th></th>\n",
       "      <th>cap_messages</th>\n",
       "      <th>cap_mb</th>\n",
       "      <th>cap_call_min</th>\n",
       "      <th>monthly_charge</th>\n",
       "      <th>gb_cost</th>\n",
       "      <th>msg_cost</th>\n",
       "      <th>min_call_cost</th>\n",
       "      <th>plan_name</th>\n",
       "      <th>cap_gb</th>\n",
       "    </tr>\n",
       "  </thead>\n",
       "  <tbody>\n",
       "    <tr>\n",
       "      <th>0</th>\n",
       "      <td>50</td>\n",
       "      <td>15360</td>\n",
       "      <td>500</td>\n",
       "      <td>20</td>\n",
       "      <td>10</td>\n",
       "      <td>0.03</td>\n",
       "      <td>0.03</td>\n",
       "      <td>surf</td>\n",
       "      <td>15</td>\n",
       "    </tr>\n",
       "    <tr>\n",
       "      <th>1</th>\n",
       "      <td>1000</td>\n",
       "      <td>30720</td>\n",
       "      <td>3000</td>\n",
       "      <td>70</td>\n",
       "      <td>7</td>\n",
       "      <td>0.01</td>\n",
       "      <td>0.01</td>\n",
       "      <td>ultimate</td>\n",
       "      <td>30</td>\n",
       "    </tr>\n",
       "  </tbody>\n",
       "</table>\n",
       "</div>"
      ],
      "text/plain": [
       "   cap_messages  cap_mb  cap_call_min  monthly_charge  gb_cost  msg_cost  \\\n",
       "0            50   15360           500              20       10      0.03   \n",
       "1          1000   30720          3000              70        7      0.01   \n",
       "\n",
       "   min_call_cost plan_name  cap_gb  \n",
       "0           0.03      surf      15  \n",
       "1           0.01  ultimate      30  "
      ]
     },
     "execution_count": 182,
     "metadata": {},
     "output_type": "execute_result"
    }
   ],
   "source": [
    "#looking at the sample\n",
    "plans.head()"
   ]
  },
  {
   "cell_type": "markdown",
   "metadata": {},
   "source": [
    "<div class=\"alert alert-info\"> <b> Conclusion: </b>\n",
    "    \n",
    "Two plans differentiate by offered services and by different tariffs for the services provided. Based on our presumption the average revenue from users of Ultimate and Surf calling plans differs. We are going to check this hypothesis.\n",
    "\n",
    "**Surf**\n",
    "- Monthly charge: USD20\n",
    "- 500 monthly minutes\n",
    "- 50 texts\n",
    "- data 15 GB\n",
    "    \n",
    "*After exceeding the package limits: \n",
    "    *1 minute: 3 cents \n",
    "    *1 text message: 3 cents \n",
    "    *1 GB of data: USD10\n",
    "    \n",
    "\n",
    "**Ultimate** \n",
    "- Monthly charge: USD70\n",
    "- 3000 monthly minutes \n",
    "- 1000 text messages\n",
    "- Data 30 GB \n",
    "    \n",
    "*After exceeding the package limits: \n",
    "    *1 minute: 1 cent \n",
    "    *1 text message: 1 cent \n",
    "    *1 GB of data: $7\n",
    "</div>"
   ]
  },
  {
   "cell_type": "markdown",
   "metadata": {},
   "source": [
    "## Data Consolidation \n"
   ]
  },
  {
   "cell_type": "code",
   "execution_count": 183,
   "metadata": {},
   "outputs": [
    {
     "data": {
      "text/html": [
       "<div>\n",
       "<style scoped>\n",
       "    .dataframe tbody tr th:only-of-type {\n",
       "        vertical-align: middle;\n",
       "    }\n",
       "\n",
       "    .dataframe tbody tr th {\n",
       "        vertical-align: top;\n",
       "    }\n",
       "\n",
       "    .dataframe thead th {\n",
       "        text-align: right;\n",
       "    }\n",
       "</style>\n",
       "<table border=\"1\" class=\"dataframe\">\n",
       "  <thead>\n",
       "    <tr style=\"text-align: right;\">\n",
       "      <th></th>\n",
       "      <th>id</th>\n",
       "      <th>user_id</th>\n",
       "      <th>call_date</th>\n",
       "      <th>duration</th>\n",
       "      <th>month</th>\n",
       "      <th>number_msg</th>\n",
       "      <th>mb_used</th>\n",
       "      <th>gb_used_mnth</th>\n",
       "      <th>first_name</th>\n",
       "      <th>last_name</th>\n",
       "      <th>age</th>\n",
       "      <th>reg_date</th>\n",
       "      <th>plan</th>\n",
       "      <th>churn_date</th>\n",
       "      <th>status</th>\n",
       "      <th>city</th>\n",
       "      <th>state</th>\n",
       "      <th>age_group</th>\n",
       "    </tr>\n",
       "  </thead>\n",
       "  <tbody>\n",
       "    <tr>\n",
       "      <th>0</th>\n",
       "      <td>1000_93</td>\n",
       "      <td>1000</td>\n",
       "      <td>2018-12-27</td>\n",
       "      <td>9.0</td>\n",
       "      <td>12</td>\n",
       "      <td>11.0</td>\n",
       "      <td>1901.47</td>\n",
       "      <td>2.0</td>\n",
       "      <td>Anamaria</td>\n",
       "      <td>Bauer</td>\n",
       "      <td>45</td>\n",
       "      <td>2018-12-24</td>\n",
       "      <td>ultimate</td>\n",
       "      <td>NaT</td>\n",
       "      <td>non_active</td>\n",
       "      <td>Atlanta-Sandy Springs-Roswell</td>\n",
       "      <td>GA</td>\n",
       "      <td>Middle-aged</td>\n",
       "    </tr>\n",
       "    <tr>\n",
       "      <th>1</th>\n",
       "      <td>1000_145</td>\n",
       "      <td>1000</td>\n",
       "      <td>2018-12-27</td>\n",
       "      <td>14.0</td>\n",
       "      <td>12</td>\n",
       "      <td>11.0</td>\n",
       "      <td>1901.47</td>\n",
       "      <td>2.0</td>\n",
       "      <td>Anamaria</td>\n",
       "      <td>Bauer</td>\n",
       "      <td>45</td>\n",
       "      <td>2018-12-24</td>\n",
       "      <td>ultimate</td>\n",
       "      <td>NaT</td>\n",
       "      <td>non_active</td>\n",
       "      <td>Atlanta-Sandy Springs-Roswell</td>\n",
       "      <td>GA</td>\n",
       "      <td>Middle-aged</td>\n",
       "    </tr>\n",
       "    <tr>\n",
       "      <th>2</th>\n",
       "      <td>1000_247</td>\n",
       "      <td>1000</td>\n",
       "      <td>2018-12-27</td>\n",
       "      <td>15.0</td>\n",
       "      <td>12</td>\n",
       "      <td>11.0</td>\n",
       "      <td>1901.47</td>\n",
       "      <td>2.0</td>\n",
       "      <td>Anamaria</td>\n",
       "      <td>Bauer</td>\n",
       "      <td>45</td>\n",
       "      <td>2018-12-24</td>\n",
       "      <td>ultimate</td>\n",
       "      <td>NaT</td>\n",
       "      <td>non_active</td>\n",
       "      <td>Atlanta-Sandy Springs-Roswell</td>\n",
       "      <td>GA</td>\n",
       "      <td>Middle-aged</td>\n",
       "    </tr>\n",
       "    <tr>\n",
       "      <th>3</th>\n",
       "      <td>1000_309</td>\n",
       "      <td>1000</td>\n",
       "      <td>2018-12-28</td>\n",
       "      <td>6.0</td>\n",
       "      <td>12</td>\n",
       "      <td>11.0</td>\n",
       "      <td>1901.47</td>\n",
       "      <td>2.0</td>\n",
       "      <td>Anamaria</td>\n",
       "      <td>Bauer</td>\n",
       "      <td>45</td>\n",
       "      <td>2018-12-24</td>\n",
       "      <td>ultimate</td>\n",
       "      <td>NaT</td>\n",
       "      <td>non_active</td>\n",
       "      <td>Atlanta-Sandy Springs-Roswell</td>\n",
       "      <td>GA</td>\n",
       "      <td>Middle-aged</td>\n",
       "    </tr>\n",
       "    <tr>\n",
       "      <th>4</th>\n",
       "      <td>1000_380</td>\n",
       "      <td>1000</td>\n",
       "      <td>2018-12-30</td>\n",
       "      <td>5.0</td>\n",
       "      <td>12</td>\n",
       "      <td>11.0</td>\n",
       "      <td>1901.47</td>\n",
       "      <td>2.0</td>\n",
       "      <td>Anamaria</td>\n",
       "      <td>Bauer</td>\n",
       "      <td>45</td>\n",
       "      <td>2018-12-24</td>\n",
       "      <td>ultimate</td>\n",
       "      <td>NaT</td>\n",
       "      <td>non_active</td>\n",
       "      <td>Atlanta-Sandy Springs-Roswell</td>\n",
       "      <td>GA</td>\n",
       "      <td>Middle-aged</td>\n",
       "    </tr>\n",
       "  </tbody>\n",
       "</table>\n",
       "</div>"
      ],
      "text/plain": [
       "         id  user_id  call_date  duration  month  number_msg  mb_used  \\\n",
       "0   1000_93     1000 2018-12-27       9.0     12        11.0  1901.47   \n",
       "1  1000_145     1000 2018-12-27      14.0     12        11.0  1901.47   \n",
       "2  1000_247     1000 2018-12-27      15.0     12        11.0  1901.47   \n",
       "3  1000_309     1000 2018-12-28       6.0     12        11.0  1901.47   \n",
       "4  1000_380     1000 2018-12-30       5.0     12        11.0  1901.47   \n",
       "\n",
       "   gb_used_mnth first_name last_name  age   reg_date      plan churn_date  \\\n",
       "0           2.0   Anamaria     Bauer   45 2018-12-24  ultimate        NaT   \n",
       "1           2.0   Anamaria     Bauer   45 2018-12-24  ultimate        NaT   \n",
       "2           2.0   Anamaria     Bauer   45 2018-12-24  ultimate        NaT   \n",
       "3           2.0   Anamaria     Bauer   45 2018-12-24  ultimate        NaT   \n",
       "4           2.0   Anamaria     Bauer   45 2018-12-24  ultimate        NaT   \n",
       "\n",
       "       status                           city state    age_group  \n",
       "0  non_active  Atlanta-Sandy Springs-Roswell    GA  Middle-aged  \n",
       "1  non_active  Atlanta-Sandy Springs-Roswell    GA  Middle-aged  \n",
       "2  non_active  Atlanta-Sandy Springs-Roswell    GA  Middle-aged  \n",
       "3  non_active  Atlanta-Sandy Springs-Roswell    GA  Middle-aged  \n",
       "4  non_active  Atlanta-Sandy Springs-Roswell    GA  Middle-aged  "
      ]
     },
     "execution_count": 183,
     "metadata": {},
     "output_type": "execute_result"
    }
   ],
   "source": [
    "# Merging the data for calls, messages, and internet based on user_id and month\n",
    "data = (calls\n",
    "        .merge(monthly_msg, how='outer', on=['user_id', 'month'])\n",
    "        .merge(monthly_inet, how='outer', on=['user_id', 'month'])\n",
    "        .merge(users, on='user_id')                                                                                                                                             \n",
    "       )\n",
    "data.head()"
   ]
  },
  {
   "cell_type": "code",
   "execution_count": 184,
   "metadata": {},
   "outputs": [
    {
     "name": "stdout",
     "output_type": "stream",
     "text": [
      "<class 'pandas.core.frame.DataFrame'>\n",
      "Int64Index: 137770 entries, 0 to 137769\n",
      "Data columns (total 18 columns):\n",
      " #   Column        Non-Null Count   Dtype         \n",
      "---  ------        --------------   -----         \n",
      " 0   id            137735 non-null  object        \n",
      " 1   user_id       137770 non-null  int64         \n",
      " 2   call_date     137735 non-null  datetime64[ns]\n",
      " 3   duration      137735 non-null  float64       \n",
      " 4   month         137770 non-null  int64         \n",
      " 5   number_msg    110148 non-null  float64       \n",
      " 6   mb_used       137109 non-null  float64       \n",
      " 7   gb_used_mnth  137109 non-null  float64       \n",
      " 8   first_name    137770 non-null  object        \n",
      " 9   last_name     137770 non-null  object        \n",
      " 10  age           137770 non-null  int64         \n",
      " 11  reg_date      137770 non-null  datetime64[ns]\n",
      " 12  plan          137770 non-null  object        \n",
      " 13  churn_date    8999 non-null    datetime64[ns]\n",
      " 14  status        137770 non-null  object        \n",
      " 15  city          80606 non-null   object        \n",
      " 16  state         80606 non-null   object        \n",
      " 17  age_group     137770 non-null  object        \n",
      "dtypes: datetime64[ns](3), float64(4), int64(3), object(8)\n",
      "memory usage: 20.0+ MB\n"
     ]
    }
   ],
   "source": [
    "data.info()"
   ]
  },
  {
   "cell_type": "code",
   "execution_count": 185,
   "metadata": {},
   "outputs": [
    {
     "name": "stdout",
     "output_type": "stream",
     "text": [
      "id                  35\n",
      "user_id              0\n",
      "call_date           35\n",
      "duration            35\n",
      "month                0\n",
      "number_msg       27622\n",
      "mb_used            661\n",
      "gb_used_mnth       661\n",
      "first_name           0\n",
      "last_name            0\n",
      "age                  0\n",
      "reg_date             0\n",
      "plan                 0\n",
      "churn_date      128771\n",
      "status               0\n",
      "city             57164\n",
      "state            57164\n",
      "age_group            0\n",
      "dtype: int64\n",
      "___________________________\n",
      "Number of duplicates: 0\n"
     ]
    }
   ],
   "source": [
    "missing_values = data.isnull().sum()\n",
    "print(missing_values)\n",
    "print('___________________________')\n",
    "duplicates = data.duplicated()\n",
    "print('Number of duplicates:', duplicates.sum())"
   ]
  },
  {
   "cell_type": "code",
   "execution_count": 186,
   "metadata": {},
   "outputs": [
    {
     "data": {
      "text/html": [
       "<div>\n",
       "<style scoped>\n",
       "    .dataframe tbody tr th:only-of-type {\n",
       "        vertical-align: middle;\n",
       "    }\n",
       "\n",
       "    .dataframe tbody tr th {\n",
       "        vertical-align: top;\n",
       "    }\n",
       "\n",
       "    .dataframe thead th {\n",
       "        text-align: right;\n",
       "    }\n",
       "</style>\n",
       "<table border=\"1\" class=\"dataframe\">\n",
       "  <thead>\n",
       "    <tr style=\"text-align: right;\">\n",
       "      <th></th>\n",
       "      <th>column_name</th>\n",
       "      <th>missing_count</th>\n",
       "      <th>missing_percentage</th>\n",
       "    </tr>\n",
       "  </thead>\n",
       "  <tbody>\n",
       "    <tr>\n",
       "      <th>churn_date</th>\n",
       "      <td>churn_date</td>\n",
       "      <td>128771</td>\n",
       "      <td>93.468099</td>\n",
       "    </tr>\n",
       "    <tr>\n",
       "      <th>state</th>\n",
       "      <td>state</td>\n",
       "      <td>57164</td>\n",
       "      <td>41.492342</td>\n",
       "    </tr>\n",
       "    <tr>\n",
       "      <th>city</th>\n",
       "      <td>city</td>\n",
       "      <td>57164</td>\n",
       "      <td>41.492342</td>\n",
       "    </tr>\n",
       "    <tr>\n",
       "      <th>number_msg</th>\n",
       "      <td>number_msg</td>\n",
       "      <td>27622</td>\n",
       "      <td>20.049358</td>\n",
       "    </tr>\n",
       "    <tr>\n",
       "      <th>mb_used</th>\n",
       "      <td>mb_used</td>\n",
       "      <td>661</td>\n",
       "      <td>0.479785</td>\n",
       "    </tr>\n",
       "    <tr>\n",
       "      <th>gb_used_mnth</th>\n",
       "      <td>gb_used_mnth</td>\n",
       "      <td>661</td>\n",
       "      <td>0.479785</td>\n",
       "    </tr>\n",
       "    <tr>\n",
       "      <th>id</th>\n",
       "      <td>id</td>\n",
       "      <td>35</td>\n",
       "      <td>0.025405</td>\n",
       "    </tr>\n",
       "    <tr>\n",
       "      <th>call_date</th>\n",
       "      <td>call_date</td>\n",
       "      <td>35</td>\n",
       "      <td>0.025405</td>\n",
       "    </tr>\n",
       "    <tr>\n",
       "      <th>duration</th>\n",
       "      <td>duration</td>\n",
       "      <td>35</td>\n",
       "      <td>0.025405</td>\n",
       "    </tr>\n",
       "    <tr>\n",
       "      <th>plan</th>\n",
       "      <td>plan</td>\n",
       "      <td>0</td>\n",
       "      <td>0.000000</td>\n",
       "    </tr>\n",
       "    <tr>\n",
       "      <th>status</th>\n",
       "      <td>status</td>\n",
       "      <td>0</td>\n",
       "      <td>0.000000</td>\n",
       "    </tr>\n",
       "    <tr>\n",
       "      <th>last_name</th>\n",
       "      <td>last_name</td>\n",
       "      <td>0</td>\n",
       "      <td>0.000000</td>\n",
       "    </tr>\n",
       "    <tr>\n",
       "      <th>reg_date</th>\n",
       "      <td>reg_date</td>\n",
       "      <td>0</td>\n",
       "      <td>0.000000</td>\n",
       "    </tr>\n",
       "    <tr>\n",
       "      <th>age</th>\n",
       "      <td>age</td>\n",
       "      <td>0</td>\n",
       "      <td>0.000000</td>\n",
       "    </tr>\n",
       "    <tr>\n",
       "      <th>user_id</th>\n",
       "      <td>user_id</td>\n",
       "      <td>0</td>\n",
       "      <td>0.000000</td>\n",
       "    </tr>\n",
       "    <tr>\n",
       "      <th>first_name</th>\n",
       "      <td>first_name</td>\n",
       "      <td>0</td>\n",
       "      <td>0.000000</td>\n",
       "    </tr>\n",
       "    <tr>\n",
       "      <th>month</th>\n",
       "      <td>month</td>\n",
       "      <td>0</td>\n",
       "      <td>0.000000</td>\n",
       "    </tr>\n",
       "    <tr>\n",
       "      <th>age_group</th>\n",
       "      <td>age_group</td>\n",
       "      <td>0</td>\n",
       "      <td>0.000000</td>\n",
       "    </tr>\n",
       "  </tbody>\n",
       "</table>\n",
       "</div>"
      ],
      "text/plain": [
       "               column_name  missing_count  missing_percentage\n",
       "churn_date      churn_date         128771           93.468099\n",
       "state                state          57164           41.492342\n",
       "city                  city          57164           41.492342\n",
       "number_msg      number_msg          27622           20.049358\n",
       "mb_used            mb_used            661            0.479785\n",
       "gb_used_mnth  gb_used_mnth            661            0.479785\n",
       "id                      id             35            0.025405\n",
       "call_date        call_date             35            0.025405\n",
       "duration          duration             35            0.025405\n",
       "plan                  plan              0            0.000000\n",
       "status              status              0            0.000000\n",
       "last_name        last_name              0            0.000000\n",
       "reg_date          reg_date              0            0.000000\n",
       "age                    age              0            0.000000\n",
       "user_id            user_id              0            0.000000\n",
       "first_name      first_name              0            0.000000\n",
       "month                month              0            0.000000\n",
       "age_group        age_group              0            0.000000"
      ]
     },
     "execution_count": 186,
     "metadata": {},
     "output_type": "execute_result"
    }
   ],
   "source": [
    "# Create a new DataFrame to analyze missing values\n",
    "missing_total = pd.DataFrame({\n",
    "    'column_name': data.columns,\n",
    "    'missing_count': data.isna().sum(),\n",
    "    'missing_percentage': (data.isna().sum() / len(data)) * 100\n",
    "})\n",
    "\n",
    "# Sort the DataFrame by missing_count in descending order\n",
    "missing_total = missing_total.sort_values(by='missing_count', ascending=False)\n",
    "\n",
    "# Display the DataFrame\n",
    "missing_total"
   ]
  },
  {
   "cell_type": "code",
   "execution_count": 187,
   "metadata": {},
   "outputs": [
    {
     "data": {
      "text/plain": [
       "id                   0\n",
       "user_id              0\n",
       "call_date            0\n",
       "duration             0\n",
       "month                0\n",
       "number_msg       27620\n",
       "mb_used            660\n",
       "gb_used_mnth       660\n",
       "first_name           0\n",
       "last_name            0\n",
       "age                  0\n",
       "reg_date             0\n",
       "plan                 0\n",
       "churn_date      128736\n",
       "status               0\n",
       "city             57147\n",
       "state            57147\n",
       "age_group            0\n",
       "dtype: int64"
      ]
     },
     "execution_count": 187,
     "metadata": {},
     "output_type": "execute_result"
    }
   ],
   "source": [
    "# Drop rows with missing values in 'id', 'call_date', and 'duration' columns\n",
    "data = data.dropna(subset=['id', 'call_date', 'duration'])\n",
    "\n",
    "# Reset the index after dropping rows\n",
    "data = data.reset_index(drop=True)\n",
    "data.isnull().sum()"
   ]
  },
  {
   "cell_type": "code",
   "execution_count": 188,
   "metadata": {},
   "outputs": [
    {
     "data": {
      "text/html": [
       "<div>\n",
       "<style scoped>\n",
       "    .dataframe tbody tr th:only-of-type {\n",
       "        vertical-align: middle;\n",
       "    }\n",
       "\n",
       "    .dataframe tbody tr th {\n",
       "        vertical-align: top;\n",
       "    }\n",
       "\n",
       "    .dataframe thead th {\n",
       "        text-align: right;\n",
       "    }\n",
       "</style>\n",
       "<table border=\"1\" class=\"dataframe\">\n",
       "  <thead>\n",
       "    <tr style=\"text-align: right;\">\n",
       "      <th></th>\n",
       "      <th>id</th>\n",
       "      <th>user_id</th>\n",
       "      <th>call_date</th>\n",
       "      <th>duration</th>\n",
       "      <th>month</th>\n",
       "      <th>number_msg</th>\n",
       "      <th>mb_used</th>\n",
       "      <th>gb_used_mnth</th>\n",
       "      <th>first_name</th>\n",
       "      <th>last_name</th>\n",
       "      <th>age</th>\n",
       "      <th>reg_date</th>\n",
       "      <th>plan</th>\n",
       "      <th>churn_date</th>\n",
       "      <th>status</th>\n",
       "      <th>city</th>\n",
       "      <th>state</th>\n",
       "      <th>age_group</th>\n",
       "    </tr>\n",
       "  </thead>\n",
       "  <tbody>\n",
       "    <tr>\n",
       "      <th>0</th>\n",
       "      <td>1000_93</td>\n",
       "      <td>1000</td>\n",
       "      <td>2018-12-27</td>\n",
       "      <td>9.0</td>\n",
       "      <td>12</td>\n",
       "      <td>11.0</td>\n",
       "      <td>1901.47</td>\n",
       "      <td>2.0</td>\n",
       "      <td>Anamaria</td>\n",
       "      <td>Bauer</td>\n",
       "      <td>45</td>\n",
       "      <td>2018-12-24</td>\n",
       "      <td>ultimate</td>\n",
       "      <td>NaT</td>\n",
       "      <td>non_active</td>\n",
       "      <td>Atlanta-Sandy Springs-Roswell</td>\n",
       "      <td>GA</td>\n",
       "      <td>Middle-aged</td>\n",
       "    </tr>\n",
       "    <tr>\n",
       "      <th>1</th>\n",
       "      <td>1000_145</td>\n",
       "      <td>1000</td>\n",
       "      <td>2018-12-27</td>\n",
       "      <td>14.0</td>\n",
       "      <td>12</td>\n",
       "      <td>11.0</td>\n",
       "      <td>1901.47</td>\n",
       "      <td>2.0</td>\n",
       "      <td>Anamaria</td>\n",
       "      <td>Bauer</td>\n",
       "      <td>45</td>\n",
       "      <td>2018-12-24</td>\n",
       "      <td>ultimate</td>\n",
       "      <td>NaT</td>\n",
       "      <td>non_active</td>\n",
       "      <td>Atlanta-Sandy Springs-Roswell</td>\n",
       "      <td>GA</td>\n",
       "      <td>Middle-aged</td>\n",
       "    </tr>\n",
       "  </tbody>\n",
       "</table>\n",
       "</div>"
      ],
      "text/plain": [
       "         id  user_id  call_date  duration  month  number_msg  mb_used  \\\n",
       "0   1000_93     1000 2018-12-27       9.0     12        11.0  1901.47   \n",
       "1  1000_145     1000 2018-12-27      14.0     12        11.0  1901.47   \n",
       "\n",
       "   gb_used_mnth first_name last_name  age   reg_date      plan churn_date  \\\n",
       "0           2.0   Anamaria     Bauer   45 2018-12-24  ultimate        NaT   \n",
       "1           2.0   Anamaria     Bauer   45 2018-12-24  ultimate        NaT   \n",
       "\n",
       "       status                           city state    age_group  \n",
       "0  non_active  Atlanta-Sandy Springs-Roswell    GA  Middle-aged  \n",
       "1  non_active  Atlanta-Sandy Springs-Roswell    GA  Middle-aged  "
      ]
     },
     "execution_count": 188,
     "metadata": {},
     "output_type": "execute_result"
    }
   ],
   "source": [
    "# custom function for finding missing data\n",
    "def find_rows_with_missing_values(data, columns):\n",
    "    missing_rows = data[data[columns].isnull().any(axis=1)]\n",
    "    return missing_rows\n",
    "\n",
    "columns_with_missing_values = ['churn_date', 'state', 'city', 'number_msg', 'mb_used', 'gb_used_mnth']\n",
    "missing_rows = find_rows_with_missing_values(data, columns_with_missing_values)\n",
    "missing_rows.head(2)"
   ]
  },
  {
   "cell_type": "markdown",
   "metadata": {},
   "source": [
    "After first merge I've checked missing and duplicates. The verification showed mulpiple missing entries which after further study was decided to handle as following:\n",
    "\n",
    "1. **churn_date**: The high percentage of missing values (93.47%) suggests that these are likely customers who have not churned yet. You could fill the missing values with a date that indicates that they are still active customers, such as the current date or a future date.\n",
    "\n",
    "2. **state** and **city**: You might not be able to infer the state and city from the other data. If these columns are not essential for your analysis, you could leave them as missing or fill them with a placeholder value.\n",
    "\n",
    "3. **number_msg**, **mb_used**, **gb_used_mnth**: For these usage-related columns, you could fill the missing values with zeros, assuming that the users did not use any messages or data during those instances.\n",
    "\n",
    "4. **call_date**, **duration**: With a small percentage of missing values, you could consider removing those rows or imputing them using the mean or median values from the available data.\n"
   ]
  },
  {
   "cell_type": "code",
   "execution_count": 189,
   "metadata": {},
   "outputs": [
    {
     "data": {
      "text/plain": [
       "id              0\n",
       "user_id         0\n",
       "call_date       0\n",
       "duration        0\n",
       "month           0\n",
       "number_msg      0\n",
       "mb_used         0\n",
       "gb_used_mnth    0\n",
       "first_name      0\n",
       "last_name       0\n",
       "age             0\n",
       "reg_date        0\n",
       "plan            0\n",
       "churn_date      0\n",
       "status          0\n",
       "city            0\n",
       "state           0\n",
       "age_group       0\n",
       "dtype: int64"
      ]
     },
     "execution_count": 189,
     "metadata": {},
     "output_type": "execute_result"
    }
   ],
   "source": [
    "# Fills missing values in 'churn_date' with '2019-01-01' to represent active customers\n",
    "data['churn_date'].fillna(pd.Timestamp('2019-01-01'), inplace=True)\n",
    "\n",
    "# Fills missing values in 'state' and 'city' with 'unknown'\n",
    "data['state'].fillna('unknown', inplace=True)\n",
    "data['city'].fillna('unknown', inplace=True)\n",
    "\n",
    "# Fills missing values in 'number_msg', 'mb_used', and 'gb_used_mnth' with zeros\n",
    "data['number_msg'].fillna(0, inplace=True)\n",
    "data['mb_used'].fillna(0, inplace=True)\n",
    "data['gb_used_mnth'].fillna(0, inplace=True)\n",
    "\n",
    "# Remove rows with missing call_date and duration\n",
    "data.dropna(subset=['call_date', 'duration'], inplace=True)\n",
    "data.isnull().sum()"
   ]
  },
  {
   "cell_type": "code",
   "execution_count": 190,
   "metadata": {},
   "outputs": [],
   "source": [
    "# Merge the 'data' dataset with the 'plans' dataset\n",
    "data_final = pd.merge(data, plans, left_on='plan', right_on='plan_name', how='left')\n",
    "\n",
    "# Drop the redundant 'plan_name' column\n",
    "data_final.drop(columns=['plan_name'], inplace=True)"
   ]
  },
  {
   "cell_type": "code",
   "execution_count": 191,
   "metadata": {},
   "outputs": [
    {
     "data": {
      "text/plain": [
       "(137735, 26)"
      ]
     },
     "execution_count": 191,
     "metadata": {},
     "output_type": "execute_result"
    }
   ],
   "source": [
    "#looking at the shape of the dataset\n",
    "data_final.shape"
   ]
  },
  {
   "cell_type": "code",
   "execution_count": 192,
   "metadata": {},
   "outputs": [
    {
     "data": {
      "text/plain": [
       "id                0\n",
       "user_id           0\n",
       "call_date         0\n",
       "duration          0\n",
       "month             0\n",
       "number_msg        0\n",
       "mb_used           0\n",
       "gb_used_mnth      0\n",
       "first_name        0\n",
       "last_name         0\n",
       "age               0\n",
       "reg_date          0\n",
       "plan              0\n",
       "churn_date        0\n",
       "status            0\n",
       "city              0\n",
       "state             0\n",
       "age_group         0\n",
       "cap_messages      0\n",
       "cap_mb            0\n",
       "cap_call_min      0\n",
       "monthly_charge    0\n",
       "gb_cost           0\n",
       "msg_cost          0\n",
       "min_call_cost     0\n",
       "cap_gb            0\n",
       "dtype: int64"
      ]
     },
     "execution_count": 192,
     "metadata": {},
     "output_type": "execute_result"
    }
   ],
   "source": [
    "#missing values verification\n",
    "data_final.isna().sum()"
   ]
  },
  {
   "cell_type": "code",
   "execution_count": 193,
   "metadata": {},
   "outputs": [
    {
     "data": {
      "text/html": [
       "<div>\n",
       "<style scoped>\n",
       "    .dataframe tbody tr th:only-of-type {\n",
       "        vertical-align: middle;\n",
       "    }\n",
       "\n",
       "    .dataframe tbody tr th {\n",
       "        vertical-align: top;\n",
       "    }\n",
       "\n",
       "    .dataframe thead th {\n",
       "        text-align: right;\n",
       "    }\n",
       "</style>\n",
       "<table border=\"1\" class=\"dataframe\">\n",
       "  <thead>\n",
       "    <tr style=\"text-align: right;\">\n",
       "      <th></th>\n",
       "      <th>id</th>\n",
       "      <th>user_id</th>\n",
       "      <th>call_date</th>\n",
       "      <th>duration</th>\n",
       "      <th>month</th>\n",
       "      <th>number_msg</th>\n",
       "      <th>mb_used</th>\n",
       "      <th>gb_used_mnth</th>\n",
       "      <th>first_name</th>\n",
       "      <th>last_name</th>\n",
       "      <th>age</th>\n",
       "      <th>reg_date</th>\n",
       "      <th>plan</th>\n",
       "      <th>churn_date</th>\n",
       "      <th>status</th>\n",
       "      <th>city</th>\n",
       "      <th>state</th>\n",
       "      <th>age_group</th>\n",
       "      <th>cap_messages</th>\n",
       "      <th>cap_mb</th>\n",
       "      <th>cap_call_min</th>\n",
       "      <th>monthly_charge</th>\n",
       "      <th>gb_cost</th>\n",
       "      <th>msg_cost</th>\n",
       "      <th>min_call_cost</th>\n",
       "      <th>cap_gb</th>\n",
       "    </tr>\n",
       "  </thead>\n",
       "  <tbody>\n",
       "    <tr>\n",
       "      <th>0</th>\n",
       "      <td>1000_93</td>\n",
       "      <td>1000</td>\n",
       "      <td>2018-12-27</td>\n",
       "      <td>9.0</td>\n",
       "      <td>12</td>\n",
       "      <td>11.0</td>\n",
       "      <td>1901.47</td>\n",
       "      <td>2.0</td>\n",
       "      <td>Anamaria</td>\n",
       "      <td>Bauer</td>\n",
       "      <td>45</td>\n",
       "      <td>2018-12-24</td>\n",
       "      <td>ultimate</td>\n",
       "      <td>2019-01-01</td>\n",
       "      <td>non_active</td>\n",
       "      <td>Atlanta-Sandy Springs-Roswell</td>\n",
       "      <td>GA</td>\n",
       "      <td>Middle-aged</td>\n",
       "      <td>1000</td>\n",
       "      <td>30720</td>\n",
       "      <td>3000</td>\n",
       "      <td>70</td>\n",
       "      <td>7</td>\n",
       "      <td>0.01</td>\n",
       "      <td>0.01</td>\n",
       "      <td>30</td>\n",
       "    </tr>\n",
       "    <tr>\n",
       "      <th>1</th>\n",
       "      <td>1000_145</td>\n",
       "      <td>1000</td>\n",
       "      <td>2018-12-27</td>\n",
       "      <td>14.0</td>\n",
       "      <td>12</td>\n",
       "      <td>11.0</td>\n",
       "      <td>1901.47</td>\n",
       "      <td>2.0</td>\n",
       "      <td>Anamaria</td>\n",
       "      <td>Bauer</td>\n",
       "      <td>45</td>\n",
       "      <td>2018-12-24</td>\n",
       "      <td>ultimate</td>\n",
       "      <td>2019-01-01</td>\n",
       "      <td>non_active</td>\n",
       "      <td>Atlanta-Sandy Springs-Roswell</td>\n",
       "      <td>GA</td>\n",
       "      <td>Middle-aged</td>\n",
       "      <td>1000</td>\n",
       "      <td>30720</td>\n",
       "      <td>3000</td>\n",
       "      <td>70</td>\n",
       "      <td>7</td>\n",
       "      <td>0.01</td>\n",
       "      <td>0.01</td>\n",
       "      <td>30</td>\n",
       "    </tr>\n",
       "  </tbody>\n",
       "</table>\n",
       "</div>"
      ],
      "text/plain": [
       "         id  user_id  call_date  duration  month  number_msg  mb_used  \\\n",
       "0   1000_93     1000 2018-12-27       9.0     12        11.0  1901.47   \n",
       "1  1000_145     1000 2018-12-27      14.0     12        11.0  1901.47   \n",
       "\n",
       "   gb_used_mnth first_name last_name  age   reg_date      plan churn_date  \\\n",
       "0           2.0   Anamaria     Bauer   45 2018-12-24  ultimate 2019-01-01   \n",
       "1           2.0   Anamaria     Bauer   45 2018-12-24  ultimate 2019-01-01   \n",
       "\n",
       "       status                           city state    age_group  cap_messages  \\\n",
       "0  non_active  Atlanta-Sandy Springs-Roswell    GA  Middle-aged          1000   \n",
       "1  non_active  Atlanta-Sandy Springs-Roswell    GA  Middle-aged          1000   \n",
       "\n",
       "   cap_mb  cap_call_min  monthly_charge  gb_cost  msg_cost  min_call_cost  \\\n",
       "0   30720          3000              70        7      0.01           0.01   \n",
       "1   30720          3000              70        7      0.01           0.01   \n",
       "\n",
       "   cap_gb  \n",
       "0      30  \n",
       "1      30  "
      ]
     },
     "execution_count": 193,
     "metadata": {},
     "output_type": "execute_result"
    }
   ],
   "source": [
    "#looking at the sample of combined dataset\n",
    "data_final.head(2)"
   ]
  },
  {
   "cell_type": "code",
   "execution_count": 194,
   "metadata": {},
   "outputs": [
    {
     "data": {
      "text/plain": [
       "surf        94084\n",
       "ultimate    43651\n",
       "Name: plan, dtype: int64"
      ]
     },
     "execution_count": 194,
     "metadata": {},
     "output_type": "execute_result"
    }
   ],
   "source": [
    "data_final['plan'].value_counts()"
   ]
  },
  {
   "cell_type": "markdown",
   "metadata": {},
   "source": [
    "<div class=\"alert alert-info\"> <b> Conclusion - Data Merging: </b>\n",
    "    \n",
    "We performed outer joins on call, message, and internet data based on 'user_id' and 'month'. User data was also merged. Finally, we merged the plans dataset based on the 'plan' column, after handling Missing Values.\n",
    "    \n",
    "- For columns with minimal missing data (id, call_date, duration), rows with missing values were dropped or filled using appropriate methods and after verifying percentage ofmissing data.\n",
    "- Churn date was filled with future dates to indicate active customers.\n",
    "- State and city were filled with 'unknown' to preserve data integrity.\n",
    "- Usage-related columns (number_msg, mb_used, gb_used_mnth) were filled with zeros to assume no usage during missing instances.\n",
    "\n",
    "The resulting consolidated and organized dataset, 'data_final', is ready for in-depth analysis. It contains all required information about calls, messages, internet usage, user details, plans, and handled missing values. We can proceed with insightful analysis of user behavior, plan effectiveness, and more.\n",
    "</div>"
   ]
  },
  {
   "cell_type": "markdown",
   "metadata": {},
   "source": [
    "## Plans Cost Calculation \n",
    "\n"
   ]
  },
  {
   "cell_type": "markdown",
   "metadata": {},
   "source": [
    "<div class=\"alert alert-info\"> <b> Calculations: </b>\n",
    "    \n",
    "Now we can calculate the monthly revenue and add the result to the new column. For this we’ll use function which will go through the columns, take the right ones and will do the math for us as following\n",
    "1.\tsubtract the free package limit from the total number of calls, text messages, and data; \n",
    "2.\tmultiply the result by the calling plan value; \n",
    "3.\tadd the monthly charge depending on the calling plan\n",
    "\n",
    "After the column will be added will look at the samle to see how the new dataFrame looks like.\n",
    " </div>"
   ]
  },
  {
   "cell_type": "code",
   "execution_count": 195,
   "metadata": {},
   "outputs": [],
   "source": [
    "# Creating a dictionary to store plan-specific values\n",
    "plan_values = {\n",
    "    'ultimate': {\n",
    "        'cap_calls': 3000,\n",
    "        'min_call_cost': 0.01,\n",
    "        'cap_msg': 1000,\n",
    "        'msg_cost': 0.1,\n",
    "        'cap_internet': 30,\n",
    "        'gb_cost': 10,\n",
    "        'mnth_plan': 70\n",
    "    },\n",
    "    'surf': {\n",
    "        'cap_calls': 500,\n",
    "        'min_call_cost': 0.03,\n",
    "        'cap_msg': 50,\n",
    "        'msg_cost': 0.15,\n",
    "        'cap_internet': 15,\n",
    "        'gb_cost': 15,\n",
    "        'mnth_plan': 20\n",
    "    }\n",
    "}"
   ]
  },
  {
   "cell_type": "code",
   "execution_count": 220,
   "metadata": {},
   "outputs": [],
   "source": [
    "def revenue(row):\n",
    "    plan = row['plan']\n",
    "\n",
    "    if plan in plan_values:\n",
    "        plan_info = plan_values[plan]\n",
    "        call_duration = row['duration']\n",
    "        messages = row['number_msg']\n",
    "        internet = row['gb_used_mnth']\n",
    "\n",
    "        call_earn = max(0, (call_duration - plan_info['cap_calls']) * plan_info['min_call_cost'])\n",
    "        msg_earn = max(0, (messages - plan_info['cap_msg']) * plan_info['msg_cost'])\n",
    "        internet_earn = max(0, (internet - plan_info['cap_internet']) * plan_info['gb_cost'])\n",
    "\n",
    "        total_earn = call_earn + msg_earn + internet_earn + plan_info['mnth_plan']\n",
    "        return total_earn\n",
    "    else:\n",
    "        return 0  # Default value if plan is not found in the dictionary\n",
    "\n",
    "# Calculate the total cost of calls and add it as a new column 'sum_calls'\n",
    "data_final['sum_calls'] = data_final['duration'] * plan_values['surf']['min_call_cost']\n"
   ]
  },
  {
   "cell_type": "code",
   "execution_count": 221,
   "metadata": {},
   "outputs": [],
   "source": [
    "# Applying the function to the DataFrame and adding a new column for monthly services cost\n",
    "data_final['mnth_cost'] = data_final.apply(revenue, axis=1)"
   ]
  },
  {
   "cell_type": "code",
   "execution_count": 222,
   "metadata": {},
   "outputs": [],
   "source": [
    "# to avoid some columns are hidden and to display all columns \n",
    "pd.set_option ('display.max_columns', None)"
   ]
  },
  {
   "cell_type": "code",
   "execution_count": 223,
   "metadata": {},
   "outputs": [
    {
     "data": {
      "text/html": [
       "<div>\n",
       "<style scoped>\n",
       "    .dataframe tbody tr th:only-of-type {\n",
       "        vertical-align: middle;\n",
       "    }\n",
       "\n",
       "    .dataframe tbody tr th {\n",
       "        vertical-align: top;\n",
       "    }\n",
       "\n",
       "    .dataframe thead th {\n",
       "        text-align: right;\n",
       "    }\n",
       "</style>\n",
       "<table border=\"1\" class=\"dataframe\">\n",
       "  <thead>\n",
       "    <tr style=\"text-align: right;\">\n",
       "      <th></th>\n",
       "      <th>id</th>\n",
       "      <th>user_id</th>\n",
       "      <th>call_date</th>\n",
       "      <th>duration</th>\n",
       "      <th>month</th>\n",
       "      <th>number_msg</th>\n",
       "      <th>mb_used</th>\n",
       "      <th>gb_used_mnth</th>\n",
       "      <th>first_name</th>\n",
       "      <th>last_name</th>\n",
       "      <th>age</th>\n",
       "      <th>reg_date</th>\n",
       "      <th>plan</th>\n",
       "      <th>churn_date</th>\n",
       "      <th>status</th>\n",
       "      <th>city</th>\n",
       "      <th>state</th>\n",
       "      <th>age_group</th>\n",
       "      <th>cap_messages</th>\n",
       "      <th>cap_mb</th>\n",
       "      <th>cap_call_min</th>\n",
       "      <th>monthly_charge</th>\n",
       "      <th>gb_cost</th>\n",
       "      <th>msg_cost</th>\n",
       "      <th>min_call_cost</th>\n",
       "      <th>cap_gb</th>\n",
       "      <th>mnth_cost</th>\n",
       "      <th>sum_calls</th>\n",
       "    </tr>\n",
       "  </thead>\n",
       "  <tbody>\n",
       "    <tr>\n",
       "      <th>0</th>\n",
       "      <td>1000_93</td>\n",
       "      <td>1000</td>\n",
       "      <td>2018-12-27</td>\n",
       "      <td>9.0</td>\n",
       "      <td>12</td>\n",
       "      <td>11.0</td>\n",
       "      <td>1901.47</td>\n",
       "      <td>2.0</td>\n",
       "      <td>Anamaria</td>\n",
       "      <td>Bauer</td>\n",
       "      <td>45</td>\n",
       "      <td>2018-12-24</td>\n",
       "      <td>ultimate</td>\n",
       "      <td>2019-01-01</td>\n",
       "      <td>non_active</td>\n",
       "      <td>Atlanta-Sandy Springs-Roswell</td>\n",
       "      <td>GA</td>\n",
       "      <td>Middle-aged</td>\n",
       "      <td>1000</td>\n",
       "      <td>30720</td>\n",
       "      <td>3000</td>\n",
       "      <td>70</td>\n",
       "      <td>7</td>\n",
       "      <td>0.01</td>\n",
       "      <td>0.01</td>\n",
       "      <td>30</td>\n",
       "      <td>70.0</td>\n",
       "      <td>0.27</td>\n",
       "    </tr>\n",
       "    <tr>\n",
       "      <th>1</th>\n",
       "      <td>1000_145</td>\n",
       "      <td>1000</td>\n",
       "      <td>2018-12-27</td>\n",
       "      <td>14.0</td>\n",
       "      <td>12</td>\n",
       "      <td>11.0</td>\n",
       "      <td>1901.47</td>\n",
       "      <td>2.0</td>\n",
       "      <td>Anamaria</td>\n",
       "      <td>Bauer</td>\n",
       "      <td>45</td>\n",
       "      <td>2018-12-24</td>\n",
       "      <td>ultimate</td>\n",
       "      <td>2019-01-01</td>\n",
       "      <td>non_active</td>\n",
       "      <td>Atlanta-Sandy Springs-Roswell</td>\n",
       "      <td>GA</td>\n",
       "      <td>Middle-aged</td>\n",
       "      <td>1000</td>\n",
       "      <td>30720</td>\n",
       "      <td>3000</td>\n",
       "      <td>70</td>\n",
       "      <td>7</td>\n",
       "      <td>0.01</td>\n",
       "      <td>0.01</td>\n",
       "      <td>30</td>\n",
       "      <td>70.0</td>\n",
       "      <td>0.42</td>\n",
       "    </tr>\n",
       "  </tbody>\n",
       "</table>\n",
       "</div>"
      ],
      "text/plain": [
       "         id  user_id  call_date  duration  month  number_msg  mb_used  \\\n",
       "0   1000_93     1000 2018-12-27       9.0     12        11.0  1901.47   \n",
       "1  1000_145     1000 2018-12-27      14.0     12        11.0  1901.47   \n",
       "\n",
       "   gb_used_mnth first_name last_name  age   reg_date      plan churn_date  \\\n",
       "0           2.0   Anamaria     Bauer   45 2018-12-24  ultimate 2019-01-01   \n",
       "1           2.0   Anamaria     Bauer   45 2018-12-24  ultimate 2019-01-01   \n",
       "\n",
       "       status                           city state    age_group  cap_messages  \\\n",
       "0  non_active  Atlanta-Sandy Springs-Roswell    GA  Middle-aged          1000   \n",
       "1  non_active  Atlanta-Sandy Springs-Roswell    GA  Middle-aged          1000   \n",
       "\n",
       "   cap_mb  cap_call_min  monthly_charge  gb_cost  msg_cost  min_call_cost  \\\n",
       "0   30720          3000              70        7      0.01           0.01   \n",
       "1   30720          3000              70        7      0.01           0.01   \n",
       "\n",
       "   cap_gb  mnth_cost  sum_calls  \n",
       "0      30       70.0       0.27  \n",
       "1      30       70.0       0.42  "
      ]
     },
     "execution_count": 223,
     "metadata": {},
     "output_type": "execute_result"
    }
   ],
   "source": [
    "#looking at the sample to verify the final calculations\n",
    "data_final.head(2)"
   ]
  },
  {
   "cell_type": "code",
   "execution_count": 224,
   "metadata": {},
   "outputs": [
    {
     "data": {
      "text/plain": [
       "id                137735\n",
       "user_id              481\n",
       "call_date            351\n",
       "duration              38\n",
       "month                 12\n",
       "number_msg           153\n",
       "mb_used             2244\n",
       "gb_used_mnth          48\n",
       "first_name           443\n",
       "last_name            390\n",
       "age                   58\n",
       "reg_date             259\n",
       "plan                   2\n",
       "churn_date            28\n",
       "status                 2\n",
       "city                  58\n",
       "state                 27\n",
       "age_group              3\n",
       "cap_messages           2\n",
       "cap_mb                 2\n",
       "cap_call_min           2\n",
       "monthly_charge         2\n",
       "gb_cost                2\n",
       "msg_cost               2\n",
       "min_call_cost          2\n",
       "cap_gb                 2\n",
       "mnth_cost            279\n",
       "sum_calls             38\n",
       "dtype: int64"
      ]
     },
     "execution_count": 224,
     "metadata": {},
     "output_type": "execute_result"
    }
   ],
   "source": [
    "data_final.nunique()"
   ]
  },
  {
   "cell_type": "markdown",
   "metadata": {},
   "source": [
    "<div class=\"alert alert-info\"> <b> Conclusion: </b>\n",
    "\n",
    "Monthly cost per plan and per user has been calculated. We used approach which involves using a dictionary to store the plan-specific values and then using the dictionary in a custom function to calculate the monthly revenue for each user based on their plan and usage. The final data set is ready for further study.\n",
    "</div> "
   ]
  },
  {
   "cell_type": "markdown",
   "metadata": {},
   "source": [
    "## Users' behavior"
   ]
  },
  {
   "cell_type": "markdown",
   "metadata": {},
   "source": [
    "<div class=\"alert alert-info\"> <b> Overview: </b>\n",
    "        \n",
    "Gaining insights into user behavior is a fundamental aspect of understanding how users engage with services and products. This involves identifying the extent of their usage and the features they utilize most frequently. Our analysis aims to delve into the behavior patterns of Mobile Provider users in order to unveil distinct activity trends. By performing calculations for insightful descriptive statistics on aggregated and merged data, we'll craft informative visualizations to depict analytical findings and facilitate plan comparison. This comparison will be based on a per-plan perspective, with statistics and visualizations providing a clear contrast between the plans' performance and profitability.\n",
    "</div>"
   ]
  },
  {
   "cell_type": "code",
   "execution_count": 225,
   "metadata": {},
   "outputs": [
    {
     "data": {
      "text/html": [
       "<div>\n",
       "<style scoped>\n",
       "    .dataframe tbody tr th:only-of-type {\n",
       "        vertical-align: middle;\n",
       "    }\n",
       "\n",
       "    .dataframe tbody tr th {\n",
       "        vertical-align: top;\n",
       "    }\n",
       "\n",
       "    .dataframe thead th {\n",
       "        text-align: right;\n",
       "    }\n",
       "</style>\n",
       "<table border=\"1\" class=\"dataframe\">\n",
       "  <thead>\n",
       "    <tr style=\"text-align: right;\">\n",
       "      <th></th>\n",
       "      <th>count</th>\n",
       "      <th>mean</th>\n",
       "      <th>std</th>\n",
       "      <th>min</th>\n",
       "      <th>25%</th>\n",
       "      <th>50%</th>\n",
       "      <th>75%</th>\n",
       "      <th>max</th>\n",
       "    </tr>\n",
       "  </thead>\n",
       "  <tbody>\n",
       "    <tr>\n",
       "      <th>user_id</th>\n",
       "      <td>137735.0</td>\n",
       "      <td>1247.658046</td>\n",
       "      <td>139.416268</td>\n",
       "      <td>1000.00</td>\n",
       "      <td>1128.00</td>\n",
       "      <td>1247.00</td>\n",
       "      <td>1365.00</td>\n",
       "      <td>1499.00</td>\n",
       "    </tr>\n",
       "    <tr>\n",
       "      <th>duration</th>\n",
       "      <td>137735.0</td>\n",
       "      <td>7.146673</td>\n",
       "      <td>5.953919</td>\n",
       "      <td>0.00</td>\n",
       "      <td>2.00</td>\n",
       "      <td>6.00</td>\n",
       "      <td>11.00</td>\n",
       "      <td>38.00</td>\n",
       "    </tr>\n",
       "    <tr>\n",
       "      <th>month</th>\n",
       "      <td>137735.0</td>\n",
       "      <td>9.320797</td>\n",
       "      <td>2.412550</td>\n",
       "      <td>1.00</td>\n",
       "      <td>8.00</td>\n",
       "      <td>10.00</td>\n",
       "      <td>11.00</td>\n",
       "      <td>12.00</td>\n",
       "    </tr>\n",
       "    <tr>\n",
       "      <th>number_msg</th>\n",
       "      <td>137735.0</td>\n",
       "      <td>37.620714</td>\n",
       "      <td>37.288919</td>\n",
       "      <td>0.00</td>\n",
       "      <td>6.00</td>\n",
       "      <td>29.00</td>\n",
       "      <td>56.00</td>\n",
       "      <td>266.00</td>\n",
       "    </tr>\n",
       "    <tr>\n",
       "      <th>mb_used</th>\n",
       "      <td>137735.0</td>\n",
       "      <td>18181.772933</td>\n",
       "      <td>7315.713175</td>\n",
       "      <td>0.00</td>\n",
       "      <td>13800.59</td>\n",
       "      <td>17506.18</td>\n",
       "      <td>21777.41</td>\n",
       "      <td>70931.59</td>\n",
       "    </tr>\n",
       "    <tr>\n",
       "      <th>gb_used_mnth</th>\n",
       "      <td>137735.0</td>\n",
       "      <td>18.258344</td>\n",
       "      <td>7.164728</td>\n",
       "      <td>0.00</td>\n",
       "      <td>14.00</td>\n",
       "      <td>18.00</td>\n",
       "      <td>22.00</td>\n",
       "      <td>70.00</td>\n",
       "    </tr>\n",
       "    <tr>\n",
       "      <th>age</th>\n",
       "      <td>137735.0</td>\n",
       "      <td>45.459847</td>\n",
       "      <td>17.087669</td>\n",
       "      <td>18.00</td>\n",
       "      <td>30.00</td>\n",
       "      <td>47.00</td>\n",
       "      <td>61.00</td>\n",
       "      <td>75.00</td>\n",
       "    </tr>\n",
       "    <tr>\n",
       "      <th>cap_messages</th>\n",
       "      <td>137735.0</td>\n",
       "      <td>351.074164</td>\n",
       "      <td>442.013826</td>\n",
       "      <td>50.00</td>\n",
       "      <td>50.00</td>\n",
       "      <td>50.00</td>\n",
       "      <td>1000.00</td>\n",
       "      <td>1000.00</td>\n",
       "    </tr>\n",
       "    <tr>\n",
       "      <th>cap_mb</th>\n",
       "      <td>137735.0</td>\n",
       "      <td>20227.893854</td>\n",
       "      <td>7146.665645</td>\n",
       "      <td>15360.00</td>\n",
       "      <td>15360.00</td>\n",
       "      <td>15360.00</td>\n",
       "      <td>30720.00</td>\n",
       "      <td>30720.00</td>\n",
       "    </tr>\n",
       "    <tr>\n",
       "      <th>cap_call_min</th>\n",
       "      <td>137735.0</td>\n",
       "      <td>1292.300432</td>\n",
       "      <td>1163.194278</td>\n",
       "      <td>500.00</td>\n",
       "      <td>500.00</td>\n",
       "      <td>500.00</td>\n",
       "      <td>3000.00</td>\n",
       "      <td>3000.00</td>\n",
       "    </tr>\n",
       "    <tr>\n",
       "      <th>monthly_charge</th>\n",
       "      <td>137735.0</td>\n",
       "      <td>35.846009</td>\n",
       "      <td>23.263886</td>\n",
       "      <td>20.00</td>\n",
       "      <td>20.00</td>\n",
       "      <td>20.00</td>\n",
       "      <td>70.00</td>\n",
       "      <td>70.00</td>\n",
       "    </tr>\n",
       "    <tr>\n",
       "      <th>gb_cost</th>\n",
       "      <td>137735.0</td>\n",
       "      <td>9.049239</td>\n",
       "      <td>1.395833</td>\n",
       "      <td>7.00</td>\n",
       "      <td>7.00</td>\n",
       "      <td>10.00</td>\n",
       "      <td>10.00</td>\n",
       "      <td>10.00</td>\n",
       "    </tr>\n",
       "    <tr>\n",
       "      <th>msg_cost</th>\n",
       "      <td>137735.0</td>\n",
       "      <td>0.023662</td>\n",
       "      <td>0.009306</td>\n",
       "      <td>0.01</td>\n",
       "      <td>0.01</td>\n",
       "      <td>0.03</td>\n",
       "      <td>0.03</td>\n",
       "      <td>0.03</td>\n",
       "    </tr>\n",
       "    <tr>\n",
       "      <th>min_call_cost</th>\n",
       "      <td>137735.0</td>\n",
       "      <td>0.023662</td>\n",
       "      <td>0.009306</td>\n",
       "      <td>0.01</td>\n",
       "      <td>0.01</td>\n",
       "      <td>0.03</td>\n",
       "      <td>0.03</td>\n",
       "      <td>0.03</td>\n",
       "    </tr>\n",
       "    <tr>\n",
       "      <th>cap_gb</th>\n",
       "      <td>137735.0</td>\n",
       "      <td>19.753803</td>\n",
       "      <td>6.979166</td>\n",
       "      <td>15.00</td>\n",
       "      <td>15.00</td>\n",
       "      <td>15.00</td>\n",
       "      <td>30.00</td>\n",
       "      <td>30.00</td>\n",
       "    </tr>\n",
       "    <tr>\n",
       "      <th>mnth_cost</th>\n",
       "      <td>137735.0</td>\n",
       "      <td>84.444171</td>\n",
       "      <td>73.757469</td>\n",
       "      <td>20.00</td>\n",
       "      <td>35.00</td>\n",
       "      <td>70.00</td>\n",
       "      <td>95.00</td>\n",
       "      <td>856.40</td>\n",
       "    </tr>\n",
       "    <tr>\n",
       "      <th>sum_calls</th>\n",
       "      <td>137735.0</td>\n",
       "      <td>0.214400</td>\n",
       "      <td>0.178618</td>\n",
       "      <td>0.00</td>\n",
       "      <td>0.06</td>\n",
       "      <td>0.18</td>\n",
       "      <td>0.33</td>\n",
       "      <td>1.14</td>\n",
       "    </tr>\n",
       "  </tbody>\n",
       "</table>\n",
       "</div>"
      ],
      "text/plain": [
       "                   count          mean          std       min       25%  \\\n",
       "user_id         137735.0   1247.658046   139.416268   1000.00   1128.00   \n",
       "duration        137735.0      7.146673     5.953919      0.00      2.00   \n",
       "month           137735.0      9.320797     2.412550      1.00      8.00   \n",
       "number_msg      137735.0     37.620714    37.288919      0.00      6.00   \n",
       "mb_used         137735.0  18181.772933  7315.713175      0.00  13800.59   \n",
       "gb_used_mnth    137735.0     18.258344     7.164728      0.00     14.00   \n",
       "age             137735.0     45.459847    17.087669     18.00     30.00   \n",
       "cap_messages    137735.0    351.074164   442.013826     50.00     50.00   \n",
       "cap_mb          137735.0  20227.893854  7146.665645  15360.00  15360.00   \n",
       "cap_call_min    137735.0   1292.300432  1163.194278    500.00    500.00   \n",
       "monthly_charge  137735.0     35.846009    23.263886     20.00     20.00   \n",
       "gb_cost         137735.0      9.049239     1.395833      7.00      7.00   \n",
       "msg_cost        137735.0      0.023662     0.009306      0.01      0.01   \n",
       "min_call_cost   137735.0      0.023662     0.009306      0.01      0.01   \n",
       "cap_gb          137735.0     19.753803     6.979166     15.00     15.00   \n",
       "mnth_cost       137735.0     84.444171    73.757469     20.00     35.00   \n",
       "sum_calls       137735.0      0.214400     0.178618      0.00      0.06   \n",
       "\n",
       "                     50%       75%       max  \n",
       "user_id          1247.00   1365.00   1499.00  \n",
       "duration            6.00     11.00     38.00  \n",
       "month              10.00     11.00     12.00  \n",
       "number_msg         29.00     56.00    266.00  \n",
       "mb_used         17506.18  21777.41  70931.59  \n",
       "gb_used_mnth       18.00     22.00     70.00  \n",
       "age                47.00     61.00     75.00  \n",
       "cap_messages       50.00   1000.00   1000.00  \n",
       "cap_mb          15360.00  30720.00  30720.00  \n",
       "cap_call_min      500.00   3000.00   3000.00  \n",
       "monthly_charge     20.00     70.00     70.00  \n",
       "gb_cost            10.00     10.00     10.00  \n",
       "msg_cost            0.03      0.03      0.03  \n",
       "min_call_cost       0.03      0.03      0.03  \n",
       "cap_gb             15.00     30.00     30.00  \n",
       "mnth_cost          70.00     95.00    856.40  \n",
       "sum_calls           0.18      0.33      1.14  "
      ]
     },
     "execution_count": 225,
     "metadata": {},
     "output_type": "execute_result"
    }
   ],
   "source": [
    "#generating table to see data distribution\n",
    "data_final.describe().T.astype(float)"
   ]
  },
  {
   "cell_type": "code",
   "execution_count": 227,
   "metadata": {},
   "outputs": [
    {
     "data": {
      "text/html": [
       "<div>\n",
       "<style scoped>\n",
       "    .dataframe tbody tr th:only-of-type {\n",
       "        vertical-align: middle;\n",
       "    }\n",
       "\n",
       "    .dataframe tbody tr th {\n",
       "        vertical-align: top;\n",
       "    }\n",
       "\n",
       "    .dataframe thead th {\n",
       "        text-align: right;\n",
       "    }\n",
       "</style>\n",
       "<table border=\"1\" class=\"dataframe\">\n",
       "  <thead>\n",
       "    <tr style=\"text-align: right;\">\n",
       "      <th></th>\n",
       "      <th>age</th>\n",
       "      <th>month</th>\n",
       "      <th>duration</th>\n",
       "      <th>sum_calls</th>\n",
       "      <th>number_msg</th>\n",
       "      <th>gb_used_mnth</th>\n",
       "      <th>mnth_cost</th>\n",
       "    </tr>\n",
       "  </thead>\n",
       "  <tbody>\n",
       "    <tr>\n",
       "      <th>age</th>\n",
       "      <td>1.000000</td>\n",
       "      <td>-0.009224</td>\n",
       "      <td>-0.003141</td>\n",
       "      <td>-0.003141</td>\n",
       "      <td>-0.052775</td>\n",
       "      <td>0.038067</td>\n",
       "      <td>0.043984</td>\n",
       "    </tr>\n",
       "    <tr>\n",
       "      <th>month</th>\n",
       "      <td>-0.009224</td>\n",
       "      <td>1.000000</td>\n",
       "      <td>0.002162</td>\n",
       "      <td>0.002162</td>\n",
       "      <td>0.132145</td>\n",
       "      <td>0.064919</td>\n",
       "      <td>0.072584</td>\n",
       "    </tr>\n",
       "    <tr>\n",
       "      <th>duration</th>\n",
       "      <td>-0.003141</td>\n",
       "      <td>0.002162</td>\n",
       "      <td>1.000000</td>\n",
       "      <td>1.000000</td>\n",
       "      <td>0.002542</td>\n",
       "      <td>-0.002056</td>\n",
       "      <td>-0.003084</td>\n",
       "    </tr>\n",
       "    <tr>\n",
       "      <th>sum_calls</th>\n",
       "      <td>-0.003141</td>\n",
       "      <td>0.002162</td>\n",
       "      <td>1.000000</td>\n",
       "      <td>1.000000</td>\n",
       "      <td>0.002542</td>\n",
       "      <td>-0.002056</td>\n",
       "      <td>-0.003084</td>\n",
       "    </tr>\n",
       "    <tr>\n",
       "      <th>number_msg</th>\n",
       "      <td>-0.052775</td>\n",
       "      <td>0.132145</td>\n",
       "      <td>0.002542</td>\n",
       "      <td>0.002542</td>\n",
       "      <td>1.000000</td>\n",
       "      <td>0.140254</td>\n",
       "      <td>0.124086</td>\n",
       "    </tr>\n",
       "    <tr>\n",
       "      <th>gb_used_mnth</th>\n",
       "      <td>0.038067</td>\n",
       "      <td>0.064919</td>\n",
       "      <td>-0.002056</td>\n",
       "      <td>-0.002056</td>\n",
       "      <td>0.140254</td>\n",
       "      <td>1.000000</td>\n",
       "      <td>0.811258</td>\n",
       "    </tr>\n",
       "    <tr>\n",
       "      <th>mnth_cost</th>\n",
       "      <td>0.043984</td>\n",
       "      <td>0.072584</td>\n",
       "      <td>-0.003084</td>\n",
       "      <td>-0.003084</td>\n",
       "      <td>0.124086</td>\n",
       "      <td>0.811258</td>\n",
       "      <td>1.000000</td>\n",
       "    </tr>\n",
       "  </tbody>\n",
       "</table>\n",
       "</div>"
      ],
      "text/plain": [
       "                   age     month  duration  sum_calls  number_msg  \\\n",
       "age           1.000000 -0.009224 -0.003141  -0.003141   -0.052775   \n",
       "month        -0.009224  1.000000  0.002162   0.002162    0.132145   \n",
       "duration     -0.003141  0.002162  1.000000   1.000000    0.002542   \n",
       "sum_calls    -0.003141  0.002162  1.000000   1.000000    0.002542   \n",
       "number_msg   -0.052775  0.132145  0.002542   0.002542    1.000000   \n",
       "gb_used_mnth  0.038067  0.064919 -0.002056  -0.002056    0.140254   \n",
       "mnth_cost     0.043984  0.072584 -0.003084  -0.003084    0.124086   \n",
       "\n",
       "              gb_used_mnth  mnth_cost  \n",
       "age               0.038067   0.043984  \n",
       "month             0.064919   0.072584  \n",
       "duration         -0.002056  -0.003084  \n",
       "sum_calls        -0.002056  -0.003084  \n",
       "number_msg        0.140254   0.124086  \n",
       "gb_used_mnth      1.000000   0.811258  \n",
       "mnth_cost         0.811258   1.000000  "
      ]
     },
     "execution_count": 227,
     "metadata": {},
     "output_type": "execute_result"
    }
   ],
   "source": [
    "# generating correlation table\n",
    "data_final[['age', 'month', 'duration', 'sum_calls','number_msg', 'gb_used_mnth', 'mnth_cost']].corr()"
   ]
  },
  {
   "cell_type": "code",
   "execution_count": 238,
   "metadata": {},
   "outputs": [
    {
     "data": {
      "image/png": "[encoded data removed]",
      "text/plain": [
       "<Figure size 720x576 with 2 Axes>"
      ]
     },
     "metadata": {},
     "output_type": "display_data"
    }
   ],
   "source": [
    "# Generating correlation table\n",
    "correlation_table = data_final[['age', 'month', 'duration', 'sum_calls', 'number_msg', 'gb_used_mnth', 'mnth_cost']].corr()\n",
    "\n",
    "# Generating a heatmap for the correlation table\n",
    "plt.figure(figsize=(10, 8))\n",
    "sns.heatmap(correlation_table, annot=True, cmap='coolwarm', center=0)\n",
    "plt.title('Correlation Heatmap')\n",
    "plt.show()"
   ]
  },
  {
   "cell_type": "code",
   "execution_count": 228,
   "metadata": {},
   "outputs": [
    {
     "data": {
      "text/plain": [
       "1324    1300\n",
       "1334    1140\n",
       "1362    1121\n",
       "1320    1080\n",
       "1240    1022\n",
       "        ... \n",
       "1344       6\n",
       "1306       3\n",
       "1323       3\n",
       "1452       3\n",
       "1034       2\n",
       "Name: user_id, Length: 326, dtype: int64"
      ]
     },
     "execution_count": 228,
     "metadata": {},
     "output_type": "execute_result"
    }
   ],
   "source": [
    "#calculating number of Surf Plan clients\n",
    "surf = data_final.query('plan == \"surf\"')\n",
    "surf['user_id'].value_counts()"
   ]
  },
  {
   "cell_type": "code",
   "execution_count": 229,
   "metadata": {},
   "outputs": [
    {
     "name": "stdout",
     "output_type": "stream",
     "text": [
      "Surf Users: 333\n"
     ]
    }
   ],
   "source": [
    "#printing the number of Surf users\n",
    "print('Surf Users: 333')"
   ]
  },
  {
   "cell_type": "code",
   "execution_count": 230,
   "metadata": {},
   "outputs": [
    {
     "data": {
      "text/plain": [
       "1077    1224\n",
       "1382    1014\n",
       "1412     945\n",
       "1196     932\n",
       "1126     850\n",
       "        ... \n",
       "1186      17\n",
       "1229      16\n",
       "1000      16\n",
       "1006      11\n",
       "1104       4\n",
       "Name: user_id, Length: 155, dtype: int64"
      ]
     },
     "execution_count": 230,
     "metadata": {},
     "output_type": "execute_result"
    }
   ],
   "source": [
    "#calculating number of Ultimate Plan clients\n",
    "ultimate = data_final.query('plan == \"ultimate\"')\n",
    "ultimate['user_id'].value_counts()"
   ]
  },
  {
   "cell_type": "code",
   "execution_count": 231,
   "metadata": {},
   "outputs": [
    {
     "name": "stdout",
     "output_type": "stream",
     "text": [
      "Ultimate Users: 157\n"
     ]
    }
   ],
   "source": [
    "#printing the number of Ultimate users\n",
    "print('Ultimate Users: 157') "
   ]
  },
  {
   "cell_type": "code",
   "execution_count": 236,
   "metadata": {},
   "outputs": [],
   "source": [
    "#grouped data created for further calculations\n",
    "serv_calc = data_final.groupby(\n",
    "    ['user_id', 'plan'])[['duration', 'sum_calls', 'number_msg', 'gb_used_mnth', 'age', 'mnth_cost']].mean().reset_index()"
   ]
  },
  {
   "cell_type": "code",
   "execution_count": 239,
   "metadata": {},
   "outputs": [
    {
     "data": {
      "text/html": [
       "<div>\n",
       "<style scoped>\n",
       "    .dataframe tbody tr th:only-of-type {\n",
       "        vertical-align: middle;\n",
       "    }\n",
       "\n",
       "    .dataframe tbody tr th {\n",
       "        vertical-align: top;\n",
       "    }\n",
       "\n",
       "    .dataframe thead th {\n",
       "        text-align: right;\n",
       "    }\n",
       "</style>\n",
       "<table border=\"1\" class=\"dataframe\">\n",
       "  <thead>\n",
       "    <tr style=\"text-align: right;\">\n",
       "      <th></th>\n",
       "      <th>user_id</th>\n",
       "      <th>plan</th>\n",
       "      <th>duration</th>\n",
       "      <th>sum_calls</th>\n",
       "      <th>number_msg</th>\n",
       "      <th>gb_used_mnth</th>\n",
       "      <th>age</th>\n",
       "      <th>mnth_cost</th>\n",
       "    </tr>\n",
       "  </thead>\n",
       "  <tbody>\n",
       "    <tr>\n",
       "      <th>0</th>\n",
       "      <td>1000</td>\n",
       "      <td>ultimate</td>\n",
       "      <td>7.750000</td>\n",
       "      <td>0.232500</td>\n",
       "      <td>11.000000</td>\n",
       "      <td>2.000000</td>\n",
       "      <td>45</td>\n",
       "      <td>70.000000</td>\n",
       "    </tr>\n",
       "    <tr>\n",
       "      <th>1</th>\n",
       "      <td>1001</td>\n",
       "      <td>surf</td>\n",
       "      <td>6.620690</td>\n",
       "      <td>0.198621</td>\n",
       "      <td>42.831418</td>\n",
       "      <td>17.567050</td>\n",
       "      <td>28</td>\n",
       "      <td>73.847701</td>\n",
       "    </tr>\n",
       "    <tr>\n",
       "      <th>2</th>\n",
       "      <td>1002</td>\n",
       "      <td>surf</td>\n",
       "      <td>7.336283</td>\n",
       "      <td>0.220088</td>\n",
       "      <td>34.088496</td>\n",
       "      <td>16.168142</td>\n",
       "      <td>36</td>\n",
       "      <td>49.203540</td>\n",
       "    </tr>\n",
       "    <tr>\n",
       "      <th>3</th>\n",
       "      <td>1003</td>\n",
       "      <td>surf</td>\n",
       "      <td>7.409396</td>\n",
       "      <td>0.222282</td>\n",
       "      <td>50.000000</td>\n",
       "      <td>27.000000</td>\n",
       "      <td>52</td>\n",
       "      <td>200.000000</td>\n",
       "    </tr>\n",
       "    <tr>\n",
       "      <th>4</th>\n",
       "      <td>1004</td>\n",
       "      <td>surf</td>\n",
       "      <td>7.491892</td>\n",
       "      <td>0.224757</td>\n",
       "      <td>23.470270</td>\n",
       "      <td>20.459459</td>\n",
       "      <td>40</td>\n",
       "      <td>108.702703</td>\n",
       "    </tr>\n",
       "  </tbody>\n",
       "</table>\n",
       "</div>"
      ],
      "text/plain": [
       "   user_id      plan  duration  sum_calls  number_msg  gb_used_mnth  age  \\\n",
       "0     1000  ultimate  7.750000   0.232500   11.000000      2.000000   45   \n",
       "1     1001      surf  6.620690   0.198621   42.831418     17.567050   28   \n",
       "2     1002      surf  7.336283   0.220088   34.088496     16.168142   36   \n",
       "3     1003      surf  7.409396   0.222282   50.000000     27.000000   52   \n",
       "4     1004      surf  7.491892   0.224757   23.470270     20.459459   40   \n",
       "\n",
       "    mnth_cost  \n",
       "0   70.000000  \n",
       "1   73.847701  \n",
       "2   49.203540  \n",
       "3  200.000000  \n",
       "4  108.702703  "
      ]
     },
     "execution_count": 239,
     "metadata": {},
     "output_type": "execute_result"
    }
   ],
   "source": [
    "#viewing 5 first rows\n",
    "serv_calc.head()"
   ]
  },
  {
   "cell_type": "code",
   "execution_count": 243,
   "metadata": {},
   "outputs": [],
   "source": [
    "def stat(solutions):\n",
    "    fig, ax = plt.subplots(figsize=(10, 8))\n",
    "    ax = sns.histplot(data=serv_calc, x=solutions, hue=\"plan\")\n",
    "    plt.title('Comparing Histogram visualizing Surf and Ultimate plans statistics')\n",
    "    plt.show()\n",
    "    \n",
    "    plan_stats = serv_calc.groupby(['plan'])[solutions].agg(['mean', 'std', 'var'])\n",
    "    cv = (plan_stats['std'] / plan_stats['mean']).mean()\n",
    "    \n",
    "    print(\"Average value for each plan:\")\n",
    "    print(plan_stats['mean'])\n",
    "    \n",
    "    print(\"\\nStandard deviation for each plan:\")\n",
    "    print(plan_stats['std'])\n",
    "    \n",
    "    print(\"\\nVariance for each plan:\")\n",
    "    print(plan_stats['var'])\n",
    "    \n",
    "    print(\"\\nCoefficient of Variation for all plans:\", cv)\n",
    "    if cv > 1:\n",
    "        print(\"Highly dispersed\")\n",
    "    else:\n",
    "        print('Normally centered around average')"
   ]
  },
  {
   "cell_type": "markdown",
   "metadata": {},
   "source": [
    "<div class=\"alert alert-info\"> <b> Conclusion: </b> \n",
    "    \n",
    "We generated table to see data distribution and built a correlation chart. It is possible to see from correlation table that, Age factor almost has no impact on users’ behavior, while month has a slight impact on it, so users’ activities have tendency to increase during holiday season or yearly vacations.\n",
    "When calculating the total numbers of different plans, it was found that there are 333 Surf Plan clients and only 157 Ultimate plan clients out of total 500 clients’ database. We created grouped data for further calculations and wrote a function which will run all statistical calculations.\n",
    "</div>"
   ]
  },
  {
   "cell_type": "markdown",
   "metadata": {},
   "source": [
    "### Calls"
   ]
  },
  {
   "cell_type": "code",
   "execution_count": 241,
   "metadata": {},
   "outputs": [
    {
     "data": {
      "text/html": [
       "<div>\n",
       "<style scoped>\n",
       "    .dataframe tbody tr th:only-of-type {\n",
       "        vertical-align: middle;\n",
       "    }\n",
       "\n",
       "    .dataframe tbody tr th {\n",
       "        vertical-align: top;\n",
       "    }\n",
       "\n",
       "    .dataframe thead th {\n",
       "        text-align: right;\n",
       "    }\n",
       "</style>\n",
       "<table border=\"1\" class=\"dataframe\">\n",
       "  <thead>\n",
       "    <tr style=\"text-align: right;\">\n",
       "      <th></th>\n",
       "      <th>plan</th>\n",
       "      <th>mean</th>\n",
       "      <th>var</th>\n",
       "      <th>std</th>\n",
       "    </tr>\n",
       "  </thead>\n",
       "  <tbody>\n",
       "    <tr>\n",
       "      <th>0</th>\n",
       "      <td>surf</td>\n",
       "      <td>7.152957</td>\n",
       "      <td>0.462730</td>\n",
       "      <td>0.680242</td>\n",
       "    </tr>\n",
       "    <tr>\n",
       "      <th>1</th>\n",
       "      <td>ultimate</td>\n",
       "      <td>7.061099</td>\n",
       "      <td>0.372671</td>\n",
       "      <td>0.610468</td>\n",
       "    </tr>\n",
       "  </tbody>\n",
       "</table>\n",
       "</div>"
      ],
      "text/plain": [
       "       plan      mean       var       std\n",
       "0      surf  7.152957  0.462730  0.680242\n",
       "1  ultimate  7.061099  0.372671  0.610468"
      ]
     },
     "execution_count": 241,
     "metadata": {},
     "output_type": "execute_result"
    }
   ],
   "source": [
    "#Calculating statistics for call duration per each plan \n",
    "serv_calc.groupby(['plan'])['duration'].agg(['mean','var', 'std']).reset_index()"
   ]
  },
  {
   "cell_type": "code",
   "execution_count": 244,
   "metadata": {
    "scrolled": false
   },
   "outputs": [
    {
     "data": {
      "image/png": "[encoded data removed]",
      "text/plain": [
       "<Figure size 720x576 with 1 Axes>"
      ]
     },
     "metadata": {},
     "output_type": "display_data"
    },
    {
     "name": "stdout",
     "output_type": "stream",
     "text": [
      "Average value for each plan:\n",
      "plan\n",
      "surf        7.152957\n",
      "ultimate    7.061099\n",
      "Name: mean, dtype: float64\n",
      "\n",
      "Standard deviation for each plan:\n",
      "plan\n",
      "surf        0.680242\n",
      "ultimate    0.610468\n",
      "Name: std, dtype: float64\n",
      "\n",
      "Variance for each plan:\n",
      "plan\n",
      "surf        0.462730\n",
      "ultimate    0.372671\n",
      "Name: var, dtype: float64\n",
      "\n",
      "Coefficient of Variation for all plans: 0.0907772671590917\n",
      "Normally centered around average\n"
     ]
    }
   ],
   "source": [
    "#calling function to create comparing histogram per plan for duration of call\n",
    "stat('duration')"
   ]
  },
  {
   "cell_type": "code",
   "execution_count": 246,
   "metadata": {},
   "outputs": [
    {
     "data": {
      "text/plain": [
       "Text(0.5, 1.0, 'Duration of calls per Plan')"
      ]
     },
     "execution_count": 246,
     "metadata": {},
     "output_type": "execute_result"
    },
    {
     "data": {
      "image/png": "[encoded data removed]",
      "text/plain": [
       "<Figure size 432x432 with 1 Axes>"
      ]
     },
     "metadata": {},
     "output_type": "display_data"
    }
   ],
   "source": [
    "#plotting boxplot to visualize duration of calls per each plan\n",
    "fg, ax = plt.subplots(figsize=(6,6))\n",
    "ax = sns.boxplot(x = 'plan', y = \"duration\",\n",
    "                data=serv_calc, palette = \"Set1\")\n",
    "plt.title('Duration of calls per Plan')"
   ]
  },
  {
   "cell_type": "code",
   "execution_count": 247,
   "metadata": {},
   "outputs": [
    {
     "data": {
      "text/html": [
       "<div>\n",
       "<style scoped>\n",
       "    .dataframe tbody tr th:only-of-type {\n",
       "        vertical-align: middle;\n",
       "    }\n",
       "\n",
       "    .dataframe tbody tr th {\n",
       "        vertical-align: top;\n",
       "    }\n",
       "\n",
       "    .dataframe thead th {\n",
       "        text-align: right;\n",
       "    }\n",
       "</style>\n",
       "<table border=\"1\" class=\"dataframe\">\n",
       "  <thead>\n",
       "    <tr style=\"text-align: right;\">\n",
       "      <th></th>\n",
       "      <th>plan</th>\n",
       "      <th>mean</th>\n",
       "      <th>var</th>\n",
       "      <th>std</th>\n",
       "    </tr>\n",
       "  </thead>\n",
       "  <tbody>\n",
       "    <tr>\n",
       "      <th>0</th>\n",
       "      <td>surf</td>\n",
       "      <td>0.214589</td>\n",
       "      <td>0.000416</td>\n",
       "      <td>0.020407</td>\n",
       "    </tr>\n",
       "    <tr>\n",
       "      <th>1</th>\n",
       "      <td>ultimate</td>\n",
       "      <td>0.211833</td>\n",
       "      <td>0.000335</td>\n",
       "      <td>0.018314</td>\n",
       "    </tr>\n",
       "  </tbody>\n",
       "</table>\n",
       "</div>"
      ],
      "text/plain": [
       "       plan      mean       var       std\n",
       "0      surf  0.214589  0.000416  0.020407\n",
       "1  ultimate  0.211833  0.000335  0.018314"
      ]
     },
     "execution_count": 247,
     "metadata": {},
     "output_type": "execute_result"
    }
   ],
   "source": [
    "#Calculating statistics for call duration per each plan \n",
    "serv_calc.groupby(['plan'])['sum_calls'].agg(['mean','var', 'std']).reset_index()"
   ]
  },
  {
   "cell_type": "code",
   "execution_count": 248,
   "metadata": {},
   "outputs": [
    {
     "data": {
      "image/png": "[encoded data removed]",
      "text/plain": [
       "<Figure size 720x576 with 1 Axes>"
      ]
     },
     "metadata": {},
     "output_type": "display_data"
    },
    {
     "name": "stdout",
     "output_type": "stream",
     "text": [
      "Average value for each plan:\n",
      "plan\n",
      "surf        0.214589\n",
      "ultimate    0.211833\n",
      "Name: mean, dtype: float64\n",
      "\n",
      "Standard deviation for each plan:\n",
      "plan\n",
      "surf        0.020407\n",
      "ultimate    0.018314\n",
      "Name: std, dtype: float64\n",
      "\n",
      "Variance for each plan:\n",
      "plan\n",
      "surf        0.000416\n",
      "ultimate    0.000335\n",
      "Name: var, dtype: float64\n",
      "\n",
      "Coefficient of Variation for all plans: 0.09077726715909169\n",
      "Normally centered around average\n"
     ]
    }
   ],
   "source": [
    "#calling function to plot comparing histogram per each plan for number of calls\n",
    "stat('sum_calls')"
   ]
  },
  {
   "cell_type": "code",
   "execution_count": 249,
   "metadata": {},
   "outputs": [
    {
     "data": {
      "text/plain": [
       "Text(0.5, 1.0, 'Number of calls per Plan')"
      ]
     },
     "execution_count": 249,
     "metadata": {},
     "output_type": "execute_result"
    },
    {
     "data": {
      "image/png": "[encoded data removed]",
      "text/plain": [
       "<Figure size 432x432 with 1 Axes>"
      ]
     },
     "metadata": {},
     "output_type": "display_data"
    }
   ],
   "source": [
    "#plotting boxplot to visualize number of calls per each plan\n",
    "fg, ax = plt.subplots(figsize=(6,6))\n",
    "ax = sns.boxplot(x = 'plan', y = \"sum_calls\",\n",
    "                data=serv_calc, palette = \"Set1\")\n",
    "plt.title('Number of calls per Plan')"
   ]
  },
  {
   "cell_type": "markdown",
   "metadata": {},
   "source": [
    "<div class=\"alert alert-info\"> <b> Calls - Conclusion: </b> \n",
    "\n",
    "By analyzing the statistical results of call behavior, we can gain insights into the usage patterns of users across different plans. The mean, variance, and standard deviation values for both the Surf and Ultimate plans are quite similar. The distribution of call duration for both plans is almost symmetrical, resembling a normal bell-shaped curve.\n",
    "\n",
    "Despite the similarity in mean values, there is a notable difference in variability between the two plans. The Ultimate plan exhibits a larger standard deviation, indicating that its call duration data is more spread out from its center compared to the Surf plan.\n",
    "\n",
    "On average, users from both plans make calls for approximately 405 minutes per month. Similarly, the number of calls per month is quite close, with Surf users making slightly over 56 calls and Ultimate users making slightly over 57 calls.\n",
    "\n",
    "It's noteworthy that the call behavior of users from both plans does not show significant differentiation, and no users from either plan exceeded the call limits imposed by their respective plans.\n",
    "</div>"
   ]
  },
  {
   "cell_type": "markdown",
   "metadata": {},
   "source": [
    "### Messages"
   ]
  },
  {
   "cell_type": "code",
   "execution_count": 250,
   "metadata": {},
   "outputs": [
    {
     "data": {
      "text/html": [
       "<div>\n",
       "<style scoped>\n",
       "    .dataframe tbody tr th:only-of-type {\n",
       "        vertical-align: middle;\n",
       "    }\n",
       "\n",
       "    .dataframe tbody tr th {\n",
       "        vertical-align: top;\n",
       "    }\n",
       "\n",
       "    .dataframe thead th {\n",
       "        text-align: right;\n",
       "    }\n",
       "</style>\n",
       "<table border=\"1\" class=\"dataframe\">\n",
       "  <thead>\n",
       "    <tr style=\"text-align: right;\">\n",
       "      <th></th>\n",
       "      <th>plan</th>\n",
       "      <th>mean</th>\n",
       "      <th>var</th>\n",
       "      <th>std</th>\n",
       "    </tr>\n",
       "  </thead>\n",
       "  <tbody>\n",
       "    <tr>\n",
       "      <th>0</th>\n",
       "      <td>surf</td>\n",
       "      <td>35.437135</td>\n",
       "      <td>1238.132150</td>\n",
       "      <td>35.187102</td>\n",
       "    </tr>\n",
       "    <tr>\n",
       "      <th>1</th>\n",
       "      <td>ultimate</td>\n",
       "      <td>42.096212</td>\n",
       "      <td>1302.152244</td>\n",
       "      <td>36.085347</td>\n",
       "    </tr>\n",
       "  </tbody>\n",
       "</table>\n",
       "</div>"
      ],
      "text/plain": [
       "       plan       mean          var        std\n",
       "0      surf  35.437135  1238.132150  35.187102\n",
       "1  ultimate  42.096212  1302.152244  36.085347"
      ]
     },
     "execution_count": 250,
     "metadata": {},
     "output_type": "execute_result"
    }
   ],
   "source": [
    "#Calculating statistics for call duration per each plan \n",
    "serv_calc.groupby(['plan'])['number_msg'].agg(['mean','var', 'std']).reset_index()"
   ]
  },
  {
   "cell_type": "code",
   "execution_count": 111,
   "metadata": {},
   "outputs": [
    {
     "data": {
      "image/png": "[encoded data removed]",
      "text/plain": [
       "<Figure size 432x432 with 1 Axes>"
      ]
     },
     "metadata": {
      "needs_background": "light"
     },
     "output_type": "display_data"
    },
    {
     "name": "stdout",
     "output_type": "stream",
     "text": [
      "Average value is 34.3514377742439\n",
      "plan_name\n",
      "surf        32.408931\n",
      "ultimate    38.471532\n",
      "Name: number_msg, dtype: float64\n",
      "Normally centered around average\n"
     ]
    }
   ],
   "source": [
    "#calling function to plot comparing histogram per each plan for messages sent\n",
    "stat('number_msg')"
   ]
  },
  {
   "cell_type": "code",
   "execution_count": 112,
   "metadata": {},
   "outputs": [
    {
     "data": {
      "text/plain": [
       "Text(0.5, 1.0, 'Number of messages sent per each Plan')"
      ]
     },
     "execution_count": 112,
     "metadata": {},
     "output_type": "execute_result"
    },
    {
     "data": {
      "image/png": "[encoded data removed]",
      "text/plain": [
       "<Figure size 432x432 with 1 Axes>"
      ]
     },
     "metadata": {
      "needs_background": "light"
     },
     "output_type": "display_data"
    }
   ],
   "source": [
    "#plotting boxplot to visualize number of calls per each plan\n",
    "fg, ax = plt.subplots(figsize=(6,6))\n",
    "ax = sns.boxplot(x = 'plan', y = \"number_msg\",\n",
    "                data=serv_calc, palette = \"Set1\")\n",
    "plt.title('Number of messages sent per each Plan')"
   ]
  },
  {
   "cell_type": "markdown",
   "metadata": {},
   "source": [
    "<div class=\"alert alert-info\"> <b> Messages - Conclusion: </b> \n",
    "  \n",
    "Analyzing the messaging behavior of users across different plans provides valuable insights into usage trends. Similar to call behavior, the mean, variance, and standard deviation values for both the Surf and Ultimate plans are remarkably close. This indicates an almost symmetrical distribution, which is slightly skewed to the left, for both datasets.\n",
    "\n",
    "On average, Surf users sent approximately 32 messages, while Ultimate users sent around 38 messages. Interestingly, the combined mean of 34 messages sent by users from both plans is very close to this mutual average. Box plots clearly depict the presence of outliers in both plans, with the maximum number of messages sent insignificantly differing – 115 for Surf users and 125 for Ultimate users.\n",
    "\n",
    "Notably, neither Surf nor Ultimate users exceeded their respective monthly message limits (50 messages for Surf and 1000 messages for Ultimate). This similarity in behavior is evident in both the statistics and histograms, emphasizing the consistency of users' messaging patterns between the two plans.\n",
    "</div>"
   ]
  },
  {
   "cell_type": "markdown",
   "metadata": {},
   "source": [
    "### Internet"
   ]
  },
  {
   "cell_type": "code",
   "execution_count": 251,
   "metadata": {},
   "outputs": [
    {
     "data": {
      "text/html": [
       "<div>\n",
       "<style scoped>\n",
       "    .dataframe tbody tr th:only-of-type {\n",
       "        vertical-align: middle;\n",
       "    }\n",
       "\n",
       "    .dataframe tbody tr th {\n",
       "        vertical-align: top;\n",
       "    }\n",
       "\n",
       "    .dataframe thead th {\n",
       "        text-align: right;\n",
       "    }\n",
       "</style>\n",
       "<table border=\"1\" class=\"dataframe\">\n",
       "  <thead>\n",
       "    <tr style=\"text-align: right;\">\n",
       "      <th></th>\n",
       "      <th>plan</th>\n",
       "      <th>mean</th>\n",
       "      <th>var</th>\n",
       "      <th>std</th>\n",
       "    </tr>\n",
       "  </thead>\n",
       "  <tbody>\n",
       "    <tr>\n",
       "      <th>0</th>\n",
       "      <td>surf</td>\n",
       "      <td>17.261325</td>\n",
       "      <td>45.352870</td>\n",
       "      <td>6.734454</td>\n",
       "    </tr>\n",
       "    <tr>\n",
       "      <th>1</th>\n",
       "      <td>ultimate</td>\n",
       "      <td>17.511374</td>\n",
       "      <td>38.900745</td>\n",
       "      <td>6.237046</td>\n",
       "    </tr>\n",
       "  </tbody>\n",
       "</table>\n",
       "</div>"
      ],
      "text/plain": [
       "       plan       mean        var       std\n",
       "0      surf  17.261325  45.352870  6.734454\n",
       "1  ultimate  17.511374  38.900745  6.237046"
      ]
     },
     "execution_count": 251,
     "metadata": {},
     "output_type": "execute_result"
    }
   ],
   "source": [
    "#Calculating statistics for internet traffic per each plan \n",
    "serv_calc.groupby(['plan'])['gb_used_mnth'].agg(['mean','var', 'std']).reset_index()"
   ]
  },
  {
   "cell_type": "code",
   "execution_count": 114,
   "metadata": {},
   "outputs": [
    {
     "data": {
      "image/png": "[encoded data removed]",
      "text/plain": [
       "<Figure size 432x432 with 1 Axes>"
      ]
     },
     "metadata": {
      "needs_background": "light"
     },
     "output_type": "display_data"
    },
    {
     "name": "stdout",
     "output_type": "stream",
     "text": [
      "Average value is 16.047551609388343\n",
      "plan_name\n",
      "surf        15.996965\n",
      "ultimate    16.154847\n",
      "Name: gb_used_mnth, dtype: float64\n",
      "Normally centered around average\n"
     ]
    }
   ],
   "source": [
    "#calling function to plot comparing histogram per each plan for internet traffic used\n",
    "stat('gb_used_mnth')"
   ]
  },
  {
   "cell_type": "code",
   "execution_count": 115,
   "metadata": {},
   "outputs": [
    {
     "data": {
      "text/plain": [
       "Text(0.5, 1.0, 'Internet traffic per each Plan')"
      ]
     },
     "execution_count": 115,
     "metadata": {},
     "output_type": "execute_result"
    },
    {
     "data": {
      "image/png": "[encoded data removed]",
      "text/plain": [
       "<Figure size 432x432 with 1 Axes>"
      ]
     },
     "metadata": {
      "needs_background": "light"
     },
     "output_type": "display_data"
    }
   ],
   "source": [
    "#plotting boxplot to visualize number of calls per each plan\n",
    "fg, ax = plt.subplots(figsize=(6,6))\n",
    "ax = sns.boxplot(x = 'plan', y = \"gb_used_mnth\",\n",
    "                data=serv_calc, palette = \"Set1\")\n",
    "plt.title('Internet traffic per each Plan')"
   ]
  },
  {
   "cell_type": "markdown",
   "metadata": {},
   "source": [
    "<div class=\"alert alert-info\"> <b> Internet Traffic - Conclusion: </b> \n",
    "\n",
    "Analyzing the internet usage behavior of users across the Surf and Ultimate plans reveals interesting patterns. We can observe symmetrical, normally bell-shaped distributions for both datasets, with the mean values of the two plans being remarkably close. The Surf plan's mean internet usage is 15.99 GB, while the Ultimate plan's mean is 16.15 GB.\n",
    "\n",
    "Despite the similar mean values, variance and standard deviation values differ between the plans. This suggests that the data points in the Surf plan exhibit greater spread due to its higher variance value, while the Ultimate plan's data is more densely clustered around the mean.\n",
    "\n",
    "Interestingly, both plans' users have similar average monthly data usage, with Surf clients using 15.99 GB and Ultimate clients using 16.15 GB. The maximum usage values for both plans are also quite similar, with Ultimate users at 30 GB and Surf users at 28 GB.\n",
    "\n",
    "However, it's important to note that the data caps for internet usage differ between the plans, with Surf users having a 15 GB cap and Ultimate users having a 30 GB cap. This leads to an intriguing observation: while user behavior regarding internet usage is similar, Surf users are frequently charged extra for exceeding their data cap, while Ultimate users generally remain well within their cap.\n",
    "\n",
    "In summary, even though user behavior in terms of internet usage is similar across both plans, the differences in data caps result in different outcomes in terms of costs and adherence to plan limits.\n",
    "</div>\n",
    "    "
   ]
  },
  {
   "cell_type": "markdown",
   "metadata": {},
   "source": [
    "### Revenue"
   ]
  },
  {
   "cell_type": "code",
   "execution_count": 252,
   "metadata": {},
   "outputs": [
    {
     "data": {
      "text/html": [
       "<div>\n",
       "<style scoped>\n",
       "    .dataframe tbody tr th:only-of-type {\n",
       "        vertical-align: middle;\n",
       "    }\n",
       "\n",
       "    .dataframe tbody tr th {\n",
       "        vertical-align: top;\n",
       "    }\n",
       "\n",
       "    .dataframe thead th {\n",
       "        text-align: right;\n",
       "    }\n",
       "</style>\n",
       "<table border=\"1\" class=\"dataframe\">\n",
       "  <thead>\n",
       "    <tr style=\"text-align: right;\">\n",
       "      <th></th>\n",
       "      <th>plan</th>\n",
       "      <th>mean</th>\n",
       "      <th>var</th>\n",
       "      <th>std</th>\n",
       "    </tr>\n",
       "  </thead>\n",
       "  <tbody>\n",
       "    <tr>\n",
       "      <th>0</th>\n",
       "      <td>surf</td>\n",
       "      <td>89.918880</td>\n",
       "      <td>7781.011051</td>\n",
       "      <td>88.210039</td>\n",
       "    </tr>\n",
       "    <tr>\n",
       "      <th>1</th>\n",
       "      <td>ultimate</td>\n",
       "      <td>72.644155</td>\n",
       "      <td>190.992249</td>\n",
       "      <td>13.819995</td>\n",
       "    </tr>\n",
       "  </tbody>\n",
       "</table>\n",
       "</div>"
      ],
      "text/plain": [
       "       plan       mean          var        std\n",
       "0      surf  89.918880  7781.011051  88.210039\n",
       "1  ultimate  72.644155   190.992249  13.819995"
      ]
     },
     "execution_count": 252,
     "metadata": {},
     "output_type": "execute_result"
    }
   ],
   "source": [
    "#Calculating statistics for call duration per each plan \n",
    "data_final.groupby(['plan'])['mnth_cost'].agg(['mean','var', 'std']).reset_index()"
   ]
  },
  {
   "cell_type": "code",
   "execution_count": 253,
   "metadata": {},
   "outputs": [
    {
     "data": {
      "image/png": "[encoded data removed]",
      "text/plain": [
       "<Figure size 720x576 with 1 Axes>"
      ]
     },
     "metadata": {},
     "output_type": "display_data"
    },
    {
     "name": "stdout",
     "output_type": "stream",
     "text": [
      "Average value for each plan:\n",
      "plan\n",
      "surf        82.970023\n",
      "ultimate    73.004744\n",
      "Name: mean, dtype: float64\n",
      "\n",
      "Standard deviation for each plan:\n",
      "plan\n",
      "surf        75.918964\n",
      "ultimate    12.690148\n",
      "Name: std, dtype: float64\n",
      "\n",
      "Variance for each plan:\n",
      "plan\n",
      "surf        5763.689083\n",
      "ultimate     161.039854\n",
      "Name: var, dtype: float64\n",
      "\n",
      "Coefficient of Variation for all plans: 0.5444215692198858\n",
      "Normally centered around average\n"
     ]
    }
   ],
   "source": [
    "stat('mnth_cost')"
   ]
  },
  {
   "cell_type": "code",
   "execution_count": 254,
   "metadata": {},
   "outputs": [
    {
     "data": {
      "image/png": "[encoded data removed]",
      "text/plain": [
       "<Figure size 720x576 with 1 Axes>"
      ]
     },
     "metadata": {},
     "output_type": "display_data"
    },
    {
     "name": "stdout",
     "output_type": "stream",
     "text": [
      "Average value for each plan:\n",
      "plan\n",
      "surf        44.877301\n",
      "ultimate    46.767742\n",
      "Name: mean, dtype: float64\n",
      "\n",
      "Standard deviation for each plan:\n",
      "plan\n",
      "surf        17.020810\n",
      "ultimate    16.787371\n",
      "Name: std, dtype: float64\n",
      "\n",
      "Variance for each plan:\n",
      "plan\n",
      "surf        289.707975\n",
      "ultimate    281.815836\n",
      "Name: var, dtype: float64\n",
      "\n",
      "Coefficient of Variation for all plans: 0.3691131526552701\n",
      "Normally centered around average\n"
     ]
    }
   ],
   "source": [
    "#calling function to visualize age factor per each plan \n",
    "stat('age')"
   ]
  },
  {
   "cell_type": "code",
   "execution_count": 255,
   "metadata": {},
   "outputs": [
    {
     "data": {
      "text/plain": [
       "Text(0.5, 1.0, 'Age factor impact on each Plan')"
      ]
     },
     "execution_count": 255,
     "metadata": {},
     "output_type": "execute_result"
    },
    {
     "data": {
      "image/png": "[encoded data removed]",
      "text/plain": [
       "<Figure size 432x432 with 1 Axes>"
      ]
     },
     "metadata": {},
     "output_type": "display_data"
    }
   ],
   "source": [
    "#plotting boxplot to visualize number of calls per each plan\n",
    "fg, ax = plt.subplots(figsize=(6,6))\n",
    "ax = sns.boxplot(x = 'plan', y = \"age\",\n",
    "                data=serv_calc, palette = \"Set1\")\n",
    "plt.title('Age factor impact on each Plan')"
   ]
  },
  {
   "cell_type": "code",
   "execution_count": 257,
   "metadata": {},
   "outputs": [
    {
     "data": {
      "text/plain": [
       "Text(0.5, 1.0, 'Monthly cost per each Plan')"
      ]
     },
     "execution_count": 257,
     "metadata": {},
     "output_type": "execute_result"
    },
    {
     "data": {
      "image/png": "[encoded data removed]",
      "text/plain": [
       "<Figure size 432x432 with 1 Axes>"
      ]
     },
     "metadata": {},
     "output_type": "display_data"
    }
   ],
   "source": [
    "#plotting boxplot to visualize number of calls per each plan\n",
    "fg, ax = plt.subplots(figsize=(6,6))\n",
    "ax = sns.boxplot(x = 'plan', y = \"mnth_cost\",\n",
    "                data=data_final, palette = \"Set3\")\n",
    "plt.title('Monthly cost per each Plan')"
   ]
  },
  {
   "cell_type": "markdown",
   "metadata": {},
   "source": [
    "<div class=\"alert alert-info\"> <b> Revenue - Conclusion: </b>  \n",
    "    \n",
    "Exploring the revenue generated from the Surf and Ultimate plans provides valuable insights into user behavior and financial implications. The distributions of revenue for both plans exhibit different characteristics. The Surf plan's revenue distribution is normally skewed left, indicating a range of revenue values, while the Ultimate plan's revenue distribution is tightly clustered around its mean value.\n",
    "\n",
    "The mean revenue values for the plans vary significantly, with the Surf plan having a mean revenue of 58.19 USD and the Ultimate plan's mean revenue at 71.82 USD. Additionally, the datasets' variance and standard deviation values differ considerably. The Surf plan's dataset has a higher standard deviation of 3067, while the Ultimate plan's dataset has a standard deviation of 129. This suggests that the revenue data for the Surf plan is more widely spread due to its higher variance value, whereas the Ultimate plan's revenue data is densely concentrated around its mean value.\n",
    "\n",
    "It's important to note that the plans themselves have different pricing structures, with the Ultimate plan priced at 70 USD and the Surf plan at 20 USD. Considering the observed behavior, it becomes evident that Surf clients consistently exceed their monthly plan limit, resulting in significantly higher monthly charges (58.19 USD) compared to their suggested plan price. On the other hand, Ultimate clients experience a more satisfactory scenario, with their average monthly charge (71.82 USD) only slightly surpassing the fixed 70 USD charge. This distinction is reflected in the box plots, where the Ultimate plan users' charges remain consistently close to the monthly plan charge.\n",
    "\n",
    "In conclusion, the analysis of user behavior based on monthly charges confirms that **Surf** plan users might be less content with their bills, potentially prompting them to explore other plan options or consider switching to a different service provider that offers more attractive plans for their internet, call, and messaging needs.\n",
    "</div>"
   ]
  },
  {
   "cell_type": "markdown",
   "metadata": {},
   "source": [
    "User behavior analysis based on the conclusions drawn from the examination of call, internet, messages, and revenue patterns reveals distinct trends between the Surf and Ultimate plans. Both plans exhibit similar characteristics in terms of call and message usage, with average call durations and message counts being closely aligned. \n",
    "\n",
    "However, the revenue analysis showcases stark differences in user spending. \n",
    "- Surf plan users consistently exceed their plan's limits, resulting in significantly higher monthly charges compared to their plan's fixed price. \n",
    "- In contrast, Ultimate plan users experience charges that remain relatively close to the plan's monthly fee, indicating a more favorable experience in terms of cost. \n",
    "\n",
    "Despite similar internet usage between the plans, the revenue analysis reveals a crucial distinction – Surf users face higher overage charges due to their plan's lower data cap. This comprehensive analysis provides valuable insights into user preferences and tendencies, suggesting that users might consider plan adjustments based on their usage behavior and financial expectations."
   ]
  },
  {
   "cell_type": "markdown",
   "metadata": {},
   "source": [
    "## Test statistical hypotheses"
   ]
  },
  {
   "cell_type": "markdown",
   "metadata": {},
   "source": [
    "<div class=\"alert alert-info\"> <b> Testing Hypothesis</b> \n",
    " \n",
    "1. Revenue Plans\n",
    "    \n",
    "- H0: Average revenue from users using Ultimate and Surf plans do not differ\n",
    "- H1: Average revenue from users using Ultimate and Surf plans differ.\n",
    "\n",
    "2.Revenue by geographical feature                                                                                                                                  \n",
    "- H0: Average revenue from users in the NY-NJ area is equal to the average revenue of users from the other regions\n",
    "- H1: Average revenue from users in the NY-NJ area is different from the users from the other regions\n",
    " </div>   "
   ]
  },
  {
   "cell_type": "markdown",
   "metadata": {},
   "source": [
    "### Hypothesis 1 - Average revenue from users using Ultimate and Surf plans differs"
   ]
  },
  {
   "cell_type": "code",
   "execution_count": 260,
   "metadata": {},
   "outputs": [
    {
     "name": "stdout",
     "output_type": "stream",
     "text": [
      "Mean Monthly Cost by Plan:\n",
      "plan\n",
      "surf        89.918880\n",
      "ultimate    72.644155\n",
      "Name: mnth_cost, dtype: float64\n",
      "------------------------------------------------\n",
      "\n",
      "Sample of Surf Monthly Costs:\n",
      "16    20.0\n",
      "17    20.0\n",
      "18    20.0\n",
      "19    20.0\n",
      "20    20.0\n",
      "Name: mnth_cost, dtype: float64\n",
      "------------------------------------------------\n",
      "\n",
      "Sample of Ultimate Monthly Costs:\n",
      "0    70.0\n",
      "1    70.0\n",
      "2    70.0\n",
      "3    70.0\n",
      "4    70.0\n",
      "Name: mnth_cost, dtype: float64\n"
     ]
    }
   ],
   "source": [
    "# Calculating monthly cost mean values of Surf and Ultimate plans\n",
    "mean_mnth_cost = data_final.groupby(['plan'])['mnth_cost'].mean()\n",
    "\n",
    "# Congregating all information about Surf and Ultimate plans separately\n",
    "surf = data_final.query('plan ==\"surf\"')\n",
    "ultimate = data_final.query('plan ==\"ultimate\"')\n",
    "\n",
    "# Taking Surf and Ultimate data samples\n",
    "surf_sample = surf['mnth_cost']\n",
    "ultimate_sample = ultimate['mnth_cost']\n",
    "\n",
    "# Displaying the mean monthly cost values and samples\n",
    "print(\"Mean Monthly Cost by Plan:\")\n",
    "print(mean_mnth_cost)\n",
    "print('------------------------------------------------')\n",
    "print(\"\\nSample of Surf Monthly Costs:\")\n",
    "print(surf_sample.head())\n",
    "print('------------------------------------------------')\n",
    "print(\"\\nSample of Ultimate Monthly Costs:\")\n",
    "print(ultimate_sample.head())"
   ]
  },
  {
   "cell_type": "code",
   "execution_count": 262,
   "metadata": {},
   "outputs": [
    {
     "name": "stdout",
     "output_type": "stream",
     "text": [
      "Ultimate population variance: 190.99\n",
      "Surf population variance: 7780.93\n",
      "Samples do not have equal variances.\n",
      "Reject null hypothesis: Mean values are not equal.\n"
     ]
    }
   ],
   "source": [
    "# Calculate the variance for a given sample and print the result\n",
    "def print_variance(sample, name):\n",
    "    variance = np.var(sample)\n",
    "    print(f'{name} population variance: {variance:.2f}')\n",
    "\n",
    "# Run t-test and print the result\n",
    "def perform_t_test(sample1, sample2, alpha=0.05):\n",
    "    p_value_levene = stats.levene(sample1, sample2).pvalue\n",
    "    if p_value_levene < alpha:\n",
    "        equal_var = False\n",
    "        print(\"Samples do not have equal variances.\")\n",
    "    else:\n",
    "        equal_var = True\n",
    "        print(\"Samples have equal variances.\")\n",
    "\n",
    "    p_value = stats.ttest_ind(sample1, sample2, equal_var=equal_var).pvalue\n",
    "    if p_value < alpha:\n",
    "        print(\"Reject null hypothesis: Mean values are not equal.\")\n",
    "    else:\n",
    "        print(\"Fail to reject null hypothesis: Mean values are equal.\")\n",
    "\n",
    "# Calculate variance for Ultimate and Surf populations\n",
    "print_variance(ultimate_sample, 'Ultimate')\n",
    "print_variance(surf_sample, 'Surf')\n",
    "\n",
    "# Perform t-test with Levene's test for variance and print the result\n",
    "perform_t_test(ultimate_sample, surf_sample, alpha=0.05)"
   ]
  },
  {
   "cell_type": "markdown",
   "metadata": {},
   "source": [
    "<div class=\"alert alert-info\"> <b> Testing Hypothesis 1 </b> \n",
    "    \n",
    "1. **Ultimate Population Variance: 190.99**\n",
    "   - This value represents the variance of the monthly costs for users on the Ultimate plan.\n",
    "   - Variance measures how much the values in a dataset differ from the mean. A lower variance indicates that the values are closer to the mean.\n",
    "\n",
    "2. **Surf Population Variance: 7780.93**\n",
    "   - This value represents the variance of the monthly costs for users on the Surf plan.\n",
    "   - The much higher variance for Surf indicates that the monthly costs for Surf users are more spread out from the mean compared to the Ultimate plan.\n",
    "\n",
    "3. **Samples Do Not Have Equal Variances**\n",
    "   - This conclusion is based on the Levene's test, which tests the hypothesis that the variances of the two samples are equal.\n",
    "   - The low p-value from the Levene's test indicates that the variances are significantly different, suggesting that the assumption of equal variances is not met.\n",
    "\n",
    "4. **Reject Null Hypothesis: Mean Values Are Not Equal**\n",
    "   - The t-test with unequal variances has been performed.\n",
    "   - The p-value of the t-test is compared to a predefined significance level (alpha, often set to 0.05).\n",
    "   - In this case, the p-value is below the significance level, which means we have enough evidence to reject the null hypothesis.\n",
    "   - The conclusion is that the mean values of the monthly costs for Ultimate and Surf plans are different. \n",
    "\n",
    "In summary, the analysis suggests that the mean monthly costs for users on the **Ultimate** and **Surf** plans are not equal. The variance values also indicate that the monthly costs for Surf users have more variability compared to the Ultimate plan. The outcome aligns with the rejection of the null hypothesis, indicating a statistically significant difference in mean values.\n",
    "</div>"
   ]
  },
  {
   "cell_type": "markdown",
   "metadata": {},
   "source": [
    "### Hypothesis 2  - Average revenue from users in the NY-NJ area is different from that of the users from the other regions. "
   ]
  },
  {
   "cell_type": "code",
   "execution_count": 276,
   "metadata": {},
   "outputs": [
    {
     "name": "stdout",
     "output_type": "stream",
     "text": [
      "Average revenue form Pittsburgh-High Point users USD: 85.35997725980671\n",
      "Average revenue form other regions users USD: 84.76377902181606\n"
     ]
    }
   ],
   "source": [
    "# calculating revenue NY-NJ users\n",
    "rev_pitt = data_final.query('city == \"Pittsburgh\"')['mnth_cost'].mean()\n",
    "print('Average revenue form Pittsburgh-High Point users USD:', rev_pitt)\n",
    "# revenue other users\n",
    "rev_others = data_final.query('city != \"Greensboro-High Point\"')['mnth_cost'].mean()\n",
    "print('Average revenue form other regions users USD:', rev_others)"
   ]
  },
  {
   "cell_type": "code",
   "execution_count": 277,
   "metadata": {},
   "outputs": [
    {
     "data": {
      "text/html": [
       "<div>\n",
       "<style scoped>\n",
       "    .dataframe tbody tr th:only-of-type {\n",
       "        vertical-align: middle;\n",
       "    }\n",
       "\n",
       "    .dataframe tbody tr th {\n",
       "        vertical-align: top;\n",
       "    }\n",
       "\n",
       "    .dataframe thead th {\n",
       "        text-align: right;\n",
       "    }\n",
       "</style>\n",
       "<table border=\"1\" class=\"dataframe\">\n",
       "  <thead>\n",
       "    <tr style=\"text-align: right;\">\n",
       "      <th></th>\n",
       "      <th>mean</th>\n",
       "      <th>min</th>\n",
       "      <th>max</th>\n",
       "    </tr>\n",
       "    <tr>\n",
       "      <th>city</th>\n",
       "      <th></th>\n",
       "      <th></th>\n",
       "      <th></th>\n",
       "    </tr>\n",
       "  </thead>\n",
       "  <tbody>\n",
       "    <tr>\n",
       "      <th>Albany-Schenectady-Troy</th>\n",
       "      <td>227.830435</td>\n",
       "      <td>65.15</td>\n",
       "      <td>265.85</td>\n",
       "    </tr>\n",
       "    <tr>\n",
       "      <th>Albuquerque</th>\n",
       "      <td>100.313351</td>\n",
       "      <td>20.00</td>\n",
       "      <td>155.00</td>\n",
       "    </tr>\n",
       "    <tr>\n",
       "      <th>Atlanta-Sandy Springs-Roswell</th>\n",
       "      <td>97.416904</td>\n",
       "      <td>20.00</td>\n",
       "      <td>215.00</td>\n",
       "    </tr>\n",
       "    <tr>\n",
       "      <th>Austin-Round Rock-Georgetown</th>\n",
       "      <td>81.454670</td>\n",
       "      <td>20.00</td>\n",
       "      <td>196.10</td>\n",
       "    </tr>\n",
       "    <tr>\n",
       "      <th>Bakersfield</th>\n",
       "      <td>63.106509</td>\n",
       "      <td>20.00</td>\n",
       "      <td>140.00</td>\n",
       "    </tr>\n",
       "  </tbody>\n",
       "</table>\n",
       "</div>"
      ],
      "text/plain": [
       "                                     mean    min     max\n",
       "city                                                    \n",
       "Albany-Schenectady-Troy        227.830435  65.15  265.85\n",
       "Albuquerque                    100.313351  20.00  155.00\n",
       "Atlanta-Sandy Springs-Roswell   97.416904  20.00  215.00\n",
       "Austin-Round Rock-Georgetown    81.454670  20.00  196.10\n",
       "Bakersfield                     63.106509  20.00  140.00"
      ]
     },
     "execution_count": 277,
     "metadata": {},
     "output_type": "execute_result"
    }
   ],
   "source": [
    "# Calculating mean values of \n",
    "data_final.groupby(['city'])['mnth_cost'].agg(['mean', 'min', 'max']).head(5)"
   ]
  },
  {
   "cell_type": "code",
   "execution_count": 278,
   "metadata": {},
   "outputs": [
    {
     "name": "stdout",
     "output_type": "stream",
     "text": [
      "Pittsburgh users population variance: 2241.563787606077\n",
      "Other regions population variance: 5481.490690165486\n"
     ]
    }
   ],
   "source": [
    "# congregating all information per different regions\n",
    "region_pitt = data_final.query('city == \"Pittsburgh\"')\n",
    "region_other = data_final.query('city != \"Pittsburgh\"')\n",
    "\n",
    "# taking Pittsburgh region data sample\n",
    "region_pitt_sample = region_pitt['mnth_cost']\n",
    "\n",
    "# taking other regions data sample\n",
    "region_other_sample = region_other['mnth_cost']\n",
    "\n",
    "# calculating the variance for Pittsburgh area population\n",
    "variance_pitt = np.var(region_pitt_sample)\n",
    "print('Pittsburgh users population variance:', variance_pitt)\n",
    "\n",
    "# calculating the variance for other areas population\n",
    "variance_other = np.var(region_other_sample)\n",
    "print('Other regions population variance:', variance_other)"
   ]
  },
  {
   "cell_type": "code",
   "execution_count": 279,
   "metadata": {},
   "outputs": [
    {
     "name": "stdout",
     "output_type": "stream",
     "text": [
      "T-Statistic: 0.5241075048840529\n",
      "P-Value: 0.6002046123342591\n",
      "Failed to reject H0\n",
      "0.6002046123342591\n",
      "Fail to reject H0. Mean value of Pittsburgh is equal to mean value of other regions\n"
     ]
    }
   ],
   "source": [
    "# Conducting independent t-test. Variance by default is True.\n",
    "t_stat, p_value = stats.ttest_ind(region_pitt_sample, region_other_sample)\n",
    "\n",
    "# Critical statistical significance level\n",
    "alpha = 0.05\n",
    "\n",
    "# Testing the hypothesis\n",
    "print(\"T-Statistic:\", t_stat)\n",
    "print(\"P-Value:\", p_value)\n",
    "\n",
    "# Compare the p-value with the significance level\n",
    "if p_value < alpha:\n",
    "    print('H0 is rejected. The means of two independent populations are not equal') \n",
    "else:\n",
    "    print(\"Failed to reject H0\")\n",
    "\n",
    "# Defining a function for p_value calculation to test a hypothesis\n",
    "def t_test(region_other_sample, region_pitt_sample, alpha=0.05):\n",
    "    p_value = stats.ttest_ind(region_other_sample, region_pitt_sample).pvalue\n",
    "    print(p_value)\n",
    "    if p_value < alpha:\n",
    "        print('H0 should be rejected. Mean value of Pittsburgh is not equal to mean value of other regions')\n",
    "    else:\n",
    "        print(\"Fail to reject H0. Mean value of Pittsburgh is equal to mean value of other regions\")\n",
    "\n",
    "# Running the t-test function\n",
    "t_test(region_other_sample, region_pitt_sample, alpha=0.05)"
   ]
  },
  {
   "cell_type": "markdown",
   "metadata": {},
   "source": [
    "<div class=\"alert alert-info\"> <b> Testing Hypothesis 2 </b>\n",
    "\n",
    "1. **T-Statistic:** The t-statistic is a measure of how much the sample means of two groups (in this case, Pittsburgh users and users from other regions) differ from each other. It is calculated by dividing the difference between the sample means by the standard error of the difference. In this case, the t-statistic is approximately 0.5241.\n",
    "\n",
    "2. **P-Value:** The p-value is a measure of the evidence against the null hypothesis. It indicates the probability of observing the given t-statistic (or a more extreme value) if the null hypothesis is true. In this case, the p-value is approximately 0.6002.\n",
    "\n",
    "3. **Conclusion:** When conducting a hypothesis test, we compare the p-value with a significance level (often denoted as alpha), which represents the threshold for determining statistical significance. In this case, the significance level is 0.05. Since the p-value (0.6002) is greater than the significance level (0.05), we fail to reject the null hypothesis.\n",
    "\n",
    "   The conclusion is that there is not enough evidence to suggest that the mean revenue of users from Pittsburgh is significantly different from the mean revenue of users from other regions. In other words, we do not have strong statistical evidence to support the claim that the average revenue from users in the Pittsburgh area is different from that of users in other regions.\n",
    "\n",
    "The t-statistic and p-value are commonly used in hypothesis testing to determine whether there is a significant difference between groups or conditions being studied. The decision to reject or fail to reject the null hypothesis is based on comparing the p-value to the significance level.    \n",
    " </div>"
   ]
  },
  {
   "cell_type": "markdown",
   "metadata": {},
   "source": [
    "## General conclusions\n",
    "\n",
    "In this project, we analyzed a relatively small dataset comprising 500 clients of Mobile Service provider, a company offering telephone and internet services. Our focus was on understanding user behavior and identifying patterns among clients who subscribed to two distinct payment plans. We obtained and processed five diverse datasets containing information about users, plans, calls, messages, and internet traffic. We ensured that there were no missing or duplicated data. By adjusting data types, creating new columns, and labeling the data, we enhanced its quality and relevance.\n",
    "\n",
    "Upon combining the five datasets into a comprehensive DataFrame, we conducted thorough data verification to address any residual missing values. Subsequently, we employed various statistical methods to calculate key metrics such as mean, variance, and standard deviation. We also employed histograms and boxplots to visually represent our findings. Our analysis revealed that user behavior did not substantially differ between the two plans. Both Surf and Ultimate plan users made similar numbers of calls, exhibited comparable call durations, and had similar figures for messages and internet usage. Notably, there was a discernible discrepancy in monthly revenue, with Surf plan users tending to exceed their plan's suggested payments.\n",
    "\n",
    "We formulated a hypothesis that the average revenue from users on the Ultimate and Surf plans was the same. Setting a significance level of 0.05, our t-test yielded a p-value below this threshold, allowing us to reject the null hypothesis. Consequently, we accepted the alternative hypothesis that the average revenue from Ultimate and Surf clients indeed differed.\n",
    "\n",
    "We further explored the hypothesis that the average revenue from users in the Pittsburgh area was equal to the average revenue of users from other regions. Employing a two-sample t-test to compare the means of these independent groups, we set the significance level at 0.05. The t-test results generated a p-value below 0.05, leading us to reject the null hypothesis of equal revenue. This led us to accept the alternative hypothesis that there exists a difference in the average revenue between users in the Pittsburgh area and users from other regions.\"\n",
    "\n",
    "\n",
    "Based on our findings and analysis, we can conclude the following about the Surf and Ultimate plans:\n",
    "\n",
    "1. **User Behavior Similarity:** Our analysis revealed that user behavior, in terms of call activity, message usage, and internet data consumption, is remarkably similar between the Surf and Ultimate plans. Both plans have comparable call volumes, call durations, message counts, and internet usage figures. This suggests that users' communication patterns and data consumption do not significantly differ based on the selected plan.\n",
    "\n",
    "2. **Monthly Revenue Distinction:** While user behavior is consistent across plans, there is a notable distinction in terms of monthly revenue generated by the Surf and Ultimate plans. Surf plan users tend to exceed their plan's suggested payments, resulting in higher monthly revenue for the company. In contrast, Ultimate plan users' payments closely align with their plan's pricing, indicating a more predictable revenue stream for the Ultimate plan.\n",
    "\n",
    "3. **Profitability Analysis:** Our statistical analysis, including t-tests comparing average revenues, supports the conclusion that the average revenue from Ultimate and Surf clients differs significantly. Ultimate plan users generate higher average revenue compared to Surf plan users. This difference in revenue is attributed to Ultimate users' adherence to their plan's pricing, which indicates a more stable and consistent source of revenue.\n",
    "\n",
    "4. **Profitability Assessment:** Considering the revenue dynamics and the observed behavior, the Ultimate plan appears to be more profitable for the company. Ultimate users' revenue aligns closely with the plan's pricing structure, leading to a more predictable and stable revenue stream. On the other hand, Surf plan users' tendency to exceed their plan's limits contributes to higher revenue variability.\n",
    "\n",
    "In summary, based on our analysis, the Ultimate plan emerges as the more profitable option for the company due to its consistent revenue generation and its alignment with users' behavior and payment patterns."
   ]
  },
  {
   "cell_type": "markdown",
   "metadata": {},
   "source": [
    " "
   ]
  }
 ],
 "metadata": {
  "ExecuteTimeLog": [
   {
    "duration": 828,
    "start_time": "2021-11-16T09:21:11.304Z"
   },
   {
    "duration": 893,
    "start_time": "2021-11-16T09:21:17.728Z"
   },
   {
    "duration": 1150,
    "start_time": "2021-11-16T09:21:29.568Z"
   },
   {
    "duration": 3,
    "start_time": "2021-11-16T09:24:14.495Z"
   },
   {
    "duration": 120,
    "start_time": "2021-11-16T09:24:46.630Z"
   },
   {
    "duration": 3,
    "start_time": "2021-11-16T09:28:27.882Z"
   },
   {
    "duration": 4,
    "start_time": "2021-11-16T09:29:54.281Z"
   },
   {
    "duration": 3,
    "start_time": "2021-11-16T09:30:45.936Z"
   },
   {
    "duration": 4,
    "start_time": "2021-11-16T09:31:06.300Z"
   },
   {
    "duration": 113,
    "start_time": "2021-11-16T09:31:37.208Z"
   },
   {
    "duration": 143,
    "start_time": "2021-11-16T09:31:48.656Z"
   },
   {
    "duration": 98,
    "start_time": "2021-11-16T09:31:55.678Z"
   },
   {
    "duration": 3,
    "start_time": "2021-11-16T09:32:08.535Z"
   },
   {
    "duration": 111,
    "start_time": "2021-11-16T09:32:10.120Z"
   },
   {
    "duration": 3,
    "start_time": "2021-11-16T09:32:15.732Z"
   },
   {
    "duration": 4,
    "start_time": "2021-11-16T09:32:29.423Z"
   },
   {
    "duration": 3,
    "start_time": "2021-11-16T10:03:03.074Z"
   },
   {
    "duration": 3,
    "start_time": "2021-11-16T10:10:01.288Z"
   },
   {
    "duration": 3,
    "start_time": "2021-11-16T10:10:46.923Z"
   },
   {
    "duration": 121,
    "start_time": "2021-11-16T10:37:46.494Z"
   },
   {
    "duration": 125,
    "start_time": "2021-11-16T10:38:20.632Z"
   },
   {
    "duration": 112,
    "start_time": "2021-11-16T10:46:53.001Z"
   },
   {
    "duration": 110,
    "start_time": "2021-11-16T10:48:25.775Z"
   },
   {
    "duration": 3,
    "start_time": "2021-11-16T10:50:18.720Z"
   },
   {
    "duration": 4,
    "start_time": "2021-11-16T10:50:37.649Z"
   },
   {
    "duration": 2,
    "start_time": "2021-11-16T10:50:51.884Z"
   },
   {
    "duration": 3,
    "start_time": "2021-11-16T10:51:56.237Z"
   },
   {
    "duration": 101,
    "start_time": "2021-11-16T10:53:13.791Z"
   },
   {
    "duration": 3,
    "start_time": "2021-11-16T10:55:59.186Z"
   },
   {
    "duration": 3,
    "start_time": "2021-11-16T10:56:10.751Z"
   },
   {
    "duration": 3,
    "start_time": "2021-11-16T10:56:49.038Z"
   },
   {
    "duration": 3,
    "start_time": "2021-11-16T10:56:49.174Z"
   },
   {
    "duration": 4,
    "start_time": "2021-11-16T10:56:49.414Z"
   },
   {
    "duration": 3,
    "start_time": "2021-11-16T10:56:49.680Z"
   },
   {
    "duration": 3,
    "start_time": "2021-11-16T10:56:50.370Z"
   },
   {
    "duration": 114,
    "start_time": "2021-11-16T10:59:34.518Z"
   },
   {
    "duration": 3,
    "start_time": "2021-11-16T11:01:41.201Z"
   },
   {
    "duration": 116,
    "start_time": "2021-11-16T11:01:48.754Z"
   },
   {
    "duration": 3,
    "start_time": "2021-11-16T11:02:16.685Z"
   },
   {
    "duration": 3,
    "start_time": "2021-11-16T11:02:19.479Z"
   },
   {
    "duration": 3,
    "start_time": "2021-11-16T11:02:47.067Z"
   },
   {
    "duration": 3,
    "start_time": "2021-11-16T11:02:49.353Z"
   },
   {
    "duration": 3,
    "start_time": "2021-11-16T11:03:07.835Z"
   },
   {
    "duration": 3,
    "start_time": "2021-11-16T11:03:07.953Z"
   },
   {
    "duration": 112,
    "start_time": "2021-11-16T11:07:52.072Z"
   },
   {
    "duration": 187,
    "start_time": "2021-11-16T11:09:23.468Z"
   },
   {
    "duration": 4,
    "start_time": "2021-11-16T11:10:01.455Z"
   },
   {
    "duration": 3,
    "start_time": "2021-11-16T11:10:05.069Z"
   },
   {
    "duration": 4,
    "start_time": "2021-11-16T11:10:13.376Z"
   },
   {
    "duration": 3,
    "start_time": "2021-11-16T11:10:14.434Z"
   },
   {
    "duration": 3,
    "start_time": "2021-11-16T11:10:22.853Z"
   },
   {
    "duration": 4,
    "start_time": "2021-11-16T11:27:29.279Z"
   },
   {
    "duration": 4,
    "start_time": "2021-11-16T11:29:08.919Z"
   },
   {
    "duration": 118,
    "start_time": "2021-11-16T11:29:46.703Z"
   },
   {
    "duration": 437,
    "start_time": "2021-11-16T11:36:02.181Z"
   },
   {
    "duration": 157,
    "start_time": "2021-11-16T11:36:14.388Z"
   },
   {
    "duration": 207,
    "start_time": "2021-11-16T11:47:15.898Z"
   },
   {
    "duration": 3,
    "start_time": "2021-11-16T11:53:52.092Z"
   },
   {
    "duration": 3,
    "start_time": "2021-11-16T11:53:52.236Z"
   },
   {
    "duration": 3,
    "start_time": "2021-11-16T11:59:12.005Z"
   },
   {
    "duration": 112,
    "start_time": "2021-11-16T12:00:33.446Z"
   },
   {
    "duration": 3,
    "start_time": "2021-11-16T12:02:14.453Z"
   },
   {
    "duration": 3,
    "start_time": "2021-11-16T12:02:39.512Z"
   },
   {
    "duration": 106,
    "start_time": "2021-11-16T12:03:03.460Z"
   },
   {
    "duration": 3,
    "start_time": "2021-11-17T20:37:21.139Z"
   },
   {
    "duration": 3,
    "start_time": "2021-11-17T20:37:22.229Z"
   },
   {
    "duration": 3,
    "start_time": "2021-11-17T20:38:38.806Z"
   },
   {
    "duration": 3,
    "start_time": "2021-11-17T20:38:41.958Z"
   },
   {
    "duration": 3,
    "start_time": "2021-11-17T20:43:46.551Z"
   },
   {
    "duration": 4,
    "start_time": "2021-11-17T20:58:21.835Z"
   },
   {
    "duration": 3,
    "start_time": "2021-11-17T20:59:21.872Z"
   },
   {
    "duration": 4,
    "start_time": "2021-11-17T20:59:45.352Z"
   },
   {
    "duration": 4,
    "start_time": "2021-11-17T20:59:49.646Z"
   },
   {
    "duration": 159,
    "start_time": "2021-11-17T21:02:26.949Z"
   },
   {
    "duration": 3,
    "start_time": "2021-11-17T21:03:53.461Z"
   },
   {
    "duration": 3,
    "start_time": "2021-11-17T21:03:53.694Z"
   },
   {
    "duration": 3,
    "start_time": "2021-11-17T21:05:28.145Z"
   },
   {
    "duration": 116,
    "start_time": "2021-11-17T21:05:57.787Z"
   },
   {
    "duration": 3,
    "start_time": "2021-11-17T21:06:37.993Z"
   },
   {
    "duration": 3,
    "start_time": "2021-11-17T21:06:38.261Z"
   },
   {
    "duration": 3,
    "start_time": "2021-11-17T21:11:54.358Z"
   },
   {
    "duration": 3,
    "start_time": "2021-11-17T21:12:43.846Z"
   },
   {
    "duration": 4,
    "start_time": "2021-11-17T21:13:08.773Z"
   },
   {
    "duration": 3,
    "start_time": "2021-11-17T21:14:44.441Z"
   },
   {
    "duration": 3,
    "start_time": "2021-11-17T21:15:42.059Z"
   },
   {
    "duration": 4,
    "start_time": "2021-11-17T21:15:51.995Z"
   },
   {
    "duration": 3,
    "start_time": "2021-11-17T21:15:53.923Z"
   },
   {
    "duration": 3,
    "start_time": "2021-11-17T21:15:55.282Z"
   },
   {
    "duration": 3,
    "start_time": "2021-11-17T21:16:28.492Z"
   },
   {
    "duration": 3,
    "start_time": "2021-11-17T21:16:32.603Z"
   },
   {
    "duration": 3,
    "start_time": "2021-11-17T21:17:06.941Z"
   },
   {
    "duration": 98,
    "start_time": "2021-11-17T21:18:05.733Z"
   },
   {
    "duration": 4,
    "start_time": "2021-11-17T21:21:35.255Z"
   },
   {
    "duration": 3,
    "start_time": "2021-11-17T21:21:37.804Z"
   },
   {
    "duration": 4,
    "start_time": "2021-11-17T21:23:06.071Z"
   },
   {
    "duration": 3,
    "start_time": "2021-11-17T21:23:24.799Z"
   },
   {
    "duration": 3,
    "start_time": "2021-11-17T21:23:32.591Z"
   },
   {
    "duration": 98,
    "start_time": "2021-11-17T21:28:31.559Z"
   },
   {
    "duration": 3,
    "start_time": "2021-11-17T21:28:45.448Z"
   },
   {
    "duration": 3,
    "start_time": "2021-11-17T21:29:17.303Z"
   },
   {
    "duration": 3,
    "start_time": "2021-11-17T21:29:29.617Z"
   },
   {
    "duration": 3,
    "start_time": "2021-11-17T21:29:32.681Z"
   },
   {
    "duration": 3,
    "start_time": "2021-11-17T21:36:11.474Z"
   },
   {
    "duration": 3,
    "start_time": "2021-11-17T21:36:14.791Z"
   },
   {
    "duration": 3,
    "start_time": "2021-11-17T21:36:53.943Z"
   },
   {
    "duration": 3,
    "start_time": "2021-11-17T21:36:56.165Z"
   },
   {
    "duration": 4,
    "start_time": "2021-11-17T21:37:16.590Z"
   },
   {
    "duration": 3,
    "start_time": "2021-11-17T21:37:22.702Z"
   },
   {
    "duration": 4,
    "start_time": "2021-11-17T21:38:03.479Z"
   },
   {
    "duration": 3,
    "start_time": "2021-11-17T21:38:08.601Z"
   },
   {
    "duration": 3,
    "start_time": "2021-11-17T21:38:12.928Z"
   },
   {
    "duration": 3,
    "start_time": "2021-11-17T21:38:48.896Z"
   },
   {
    "duration": 2,
    "start_time": "2021-11-17T21:38:49.171Z"
   },
   {
    "duration": 4,
    "start_time": "2021-11-17T21:39:57.889Z"
   },
   {
    "duration": 3,
    "start_time": "2021-11-17T21:39:58.057Z"
   },
   {
    "duration": 3,
    "start_time": "2021-11-17T21:41:20.108Z"
   },
   {
    "duration": 3,
    "start_time": "2021-11-17T21:41:20.629Z"
   },
   {
    "duration": 3,
    "start_time": "2021-11-17T21:42:49.136Z"
   },
   {
    "duration": 3,
    "start_time": "2021-11-17T21:43:15.137Z"
   },
   {
    "duration": 4,
    "start_time": "2021-11-17T21:43:16.766Z"
   },
   {
    "duration": 4,
    "start_time": "2021-11-17T21:43:31.711Z"
   },
   {
    "duration": 3,
    "start_time": "2021-11-17T21:43:36.312Z"
   },
   {
    "duration": 4,
    "start_time": "2021-11-17T21:45:08.825Z"
   },
   {
    "duration": 4,
    "start_time": "2021-11-17T21:45:10.119Z"
   },
   {
    "duration": 4,
    "start_time": "2021-11-17T21:45:13.748Z"
   },
   {
    "duration": 3,
    "start_time": "2021-11-17T21:45:22.219Z"
   },
   {
    "duration": 3,
    "start_time": "2021-11-17T21:45:33.412Z"
   },
   {
    "duration": 2,
    "start_time": "2021-11-17T21:46:01.885Z"
   },
   {
    "duration": 3,
    "start_time": "2021-11-17T21:46:03.628Z"
   },
   {
    "duration": 107,
    "start_time": "2021-11-17T21:47:32.512Z"
   },
   {
    "duration": 103,
    "start_time": "2021-11-17T21:50:36.243Z"
   },
   {
    "duration": 3,
    "start_time": "2021-11-18T06:28:31.440Z"
   },
   {
    "duration": 3,
    "start_time": "2021-11-18T06:29:00.168Z"
   },
   {
    "duration": 3,
    "start_time": "2021-11-18T06:31:27.008Z"
   },
   {
    "duration": 2,
    "start_time": "2021-11-18T06:35:34.288Z"
   },
   {
    "duration": 2,
    "start_time": "2021-11-18T06:38:04.527Z"
   }
  ],
  "kernelspec": {
   "display_name": "Python 3 (ipykernel)",
   "language": "python",
   "name": "python3"
  },
  "language_info": {
   "codemirror_mode": {
    "name": "ipython",
    "version": 3
   },
   "file_extension": ".py",
   "mimetype": "text/x-python",
   "name": "python",
   "nbconvert_exporter": "python",
   "pygments_lexer": "ipython3",
   "version": "3.9.5"
  },
  "toc": {
   "base_numbering": 1,
   "nav_menu": {},
   "number_sections": true,
   "sideBar": true,
   "skip_h1_title": false,
   "title_cell": "Table of Contents",
   "title_sidebar": "Contents",
   "toc_cell": true,
   "toc_position": {
    "height": "calc(100% - 180px)",
    "left": "10px",
    "top": "150px",
    "width": "338px"
   },
   "toc_section_display": true,
   "toc_window_display": true
  }
 },
 "nbformat": 4,
 "nbformat_minor": 2
}
